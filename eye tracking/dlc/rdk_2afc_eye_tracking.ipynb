{
 "cells": [
  {
   "cell_type": "markdown",
   "metadata": {
    "colab_type": "text",
    "id": "RK255E7YoEIt"
   },
   "source": [
    "# DeepLabCut Toolbox\n",
    "https://github.com/AlexEMG/DeepLabCut\n",
    "\n",
    "This notebook demonstrates the necessary steps to use DeepLabCut for your own project.\n",
    "This shows the most simple code to do so, but many of the functions have additional features, so please check out the overview & the protocol paper!\n",
    "\n",
    "This notebook illustrates how to:\n",
    "- create a project\n",
    "- extract training frames\n",
    "- label the frames\n",
    "- plot the labeled images\n",
    "- create a training set\n",
    "- train a network\n",
    "- evaluate a network\n",
    "- analyze a novel video\n",
    "- create an automatically labeled video \n",
    "- plot the trajectories\n",
    "\n",
    "This notebook demonstrates the necessary steps to use DeepLabCut for your own project.\n",
    "\n",
    "This shows the most simple code to do so, but many of the functions have additional features, so please check out the overview & the protocol paper!\n",
    "\n",
    "Nath\\*, Mathis\\* et al.: Using DeepLabCut for markerless pose estimation during behavior across species. Nature Protocols, 2019.\n",
    "\n",
    "Paper: https://www.nature.com/articles/s41596-019-0176-0\n",
    "\n",
    "Pre-print: https://www.biorxiv.org/content/biorxiv/early/2018/11/24/476531.full.pdf"
   ]
  },
  {
   "cell_type": "markdown",
   "metadata": {
    "colab_type": "text",
    "id": "9Uoz9mdPoEIy"
   },
   "source": [
    "## Create a new project\n",
    "\n",
    "It is always good idea to keep the projects seperate if you want to use different networks to analze your data. You should use one project if you are tracking similar subjects/items even if in different environments. This function creates a new project with sub-directories and a basic configuration file in the user defined directory otherwise the project is created in the current working directory.\n",
    "\n",
    "You can always add new videos (for lableing more data) to the project at any stage of the project. "
   ]
  },
  {
   "cell_type": "code",
   "execution_count": 1,
   "metadata": {
    "colab": {},
    "colab_type": "code",
    "id": "jqLZhp7EoEI0"
   },
   "outputs": [],
   "source": [
    "import deeplabcut"
   ]
  },
  {
   "cell_type": "code",
   "execution_count": 2,
   "metadata": {
    "colab": {},
    "colab_type": "code",
    "id": "c9DjG55FoEI7"
   },
   "outputs": [],
   "source": [
    "task='EyeTracking' # Enter the name of your experiment Task\n",
    "experimenter='Marina' # Enter the name of the experimenter\n",
    "video=['E:\\\\Imaging2AFCPop\\\\eye tracking\\\\MF131_070415\\\\ec_MF131_070415_eye_FIXED_004.avi',\n",
    "       'E:\\\\Imaging2AFCPop\\\\eye tracking\\\\MF131_070415\\\\ec_MF131_070415_eye_FIXED_169.avi',\n",
    "       'E:\\\\Imaging2AFCPop\\\\eye tracking\\\\MF122_180215\\\\ec_MF122_180215_eye_4b1.avi',\n",
    "       'E:\\\\Imaging2AFCPop\\\\eye tracking\\\\MF183\\\\ec_MF183_150116_Loc9a_2016-01-15-153036-0000.avi',\n",
    "       'E:\\\\Imaging2AFCPop\\\\eye tracking\\\\MF183\\\\ec_MF183_180116_Loc11a_2016-01-18-140641-0000.avi',\n",
    "       'E:\\\\Imaging2AFCPop\\\\eye tracking\\\\MF183\\\\ec_MF183_180116_Loc11a_2016-01-18-143229-0000.avi',\n",
    "       'E:\\\\Imaging2AFCPop\\\\eye tracking\\\\MF183\\\\ec_MF183_220116_Loc15a_2016-01-22-140913-0000.avi',\n",
    "       'E:\\\\Imaging2AFCPop\\\\eye tracking\\\\MF183\\\\ec_MF183_220116_Loc15a_2016-01-22-145419-0000.avi',\n",
    "       'E:\\\\Imaging2AFCPop\\\\eye tracking\\\\MF183\\\\ec_MF183_230116_Loc16a_2016-01-23-161748-0000.avi',\n",
    "       'E:\\\\Imaging2AFCPop\\\\eye tracking\\\\MF183\\\\ec_MF183_230116_Loc16a_2016-01-23-165931-0000.avi',\n",
    "       'E:\\\\Imaging2AFCPop\\\\eye tracking\\\\MF183\\\\ec_MF183_260116_Loc18a_2016-01-26-150251-0000.avi',\n",
    "       'E:\\\\Imaging2AFCPop\\\\eye tracking\\\\MF183\\\\ec_MF183_260116_Loc18a_2016-01-26-152539-0000.avi',\n",
    "       'E:\\\\Imaging2AFCPop\\\\eye tracking\\\\050516\\\\ec_MF209_050516_6a_259.avi',\n",
    "       'E:\\\\Imaging2AFCPop\\\\eye tracking\\\\050516\\\\ec_MF209_050516_6a_7.avi',\n",
    "       'E:\\\\Imaging2AFCPop\\\\eye tracking\\\\060616\\\\MF209_060516_7a_0.avi',\n",
    "       'E:\\\\Imaging2AFCPop\\\\eye tracking\\\\060616\\\\MF209_060516_7a_288.avi',\n",
    "       'E:\\\\Imaging2AFCPop\\\\eye tracking\\\\070516\\\\MF209_070516_8b_0.avi',\n",
    "       'E:\\\\Imaging2AFCPop\\\\eye tracking\\\\070516\\\\MF209_070516_8b_213.avi',\n",
    "       'E:\\\\Imaging2AFCPop\\\\eye tracking\\\\080516\\\\MF209_080516_9a_1.avi',\n",
    "       'E:\\\\Imaging2AFCPop\\\\eye tracking\\\\080516\\\\MF209_080516_9a_223.avi',\n",
    "       'E:\\\\Imaging2AFCPop\\\\eye tracking\\\\100516\\\\MF209_100516_11a_0.avi',\n",
    "       'E:\\\\Imaging2AFCPop\\\\eye tracking\\\\100516\\\\MF209_100516_11a_253.avi',\n",
    "       'E:\\\\Imaging2AFCPop\\\\eye tracking\\\\110516\\\\MF209_110516_12a_3.avi',\n",
    "       'E:\\\\Imaging2AFCPop\\\\eye tracking\\\\110516\\\\MF209_110516_12a_212.avi',\n",
    "       'E:\\\\Imaging2AFCPop\\\\eye tracking\\\\190516\\\\MF209_190516_18a_29.avi',\n",
    "       'E:\\\\Imaging2AFCPop\\\\eye tracking\\\\190516\\\\MF209_190516_18a_205.avi',\n",
    "       'E:\\\\Imaging2AFCPop\\\\eye tracking\\\\230516\\\\MF209_230516_20a0.avi',\n",
    "       'E:\\\\Imaging2AFCPop\\\\eye tracking\\\\230516\\\\MF209_230516_20a241.avi',\n",
    "      ] # Enter the paths of your videos OR FOLDER you want to grab frames from.\n",
    "\n",
    "#path_config_file=deeplabcut.create_new_project(task,experimenter,video,copy_videos=True) \n",
    "\n",
    "# NOTE: The function returns the path, where your project is. \n",
    "# You could also enter this manually (e.g. if the project is already created and you want to pick up, where you stopped...)\n",
    "\n",
    "path_config_file = \"D:\\\\PetreanuLab\\\\Code\\\\DeepLabCut\\\\examples\\\\EyeTracking-Marina-2021-03-01\\\\config.yaml\""
   ]
  },
  {
   "cell_type": "markdown",
   "metadata": {},
   "source": [
    "## Now, go edit the config.yaml file that was created! \n",
    "Add your body part labels, edit the number of frames to extract per video, etc. \n",
    "\n",
    "\n",
    "[OPTIONAL] Use the function 'add_new_videos' to add new videos to your project (at any stage)."
   ]
  },
  {
   "cell_type": "markdown",
   "metadata": {},
   "source": [
    "#### Note that you can see more information about ANY function by adding a ? at the end,  i.e. "
   ]
  },
  {
   "cell_type": "code",
   "execution_count": 7,
   "metadata": {},
   "outputs": [],
   "source": [
    "deeplabcut.add_new_videos?"
   ]
  },
  {
   "cell_type": "code",
   "execution_count": 11,
   "metadata": {},
   "outputs": [
    {
     "name": "stdout",
     "output_type": "stream",
     "text": [
      "Copying the videos\n",
      "Copying the videos\n",
      "New video was added to the project! Use the function 'extract_frames' to select frames for labeling.\n"
     ]
    }
   ],
   "source": [
    "#add more videos\n",
    "more_vids = ['E:\\\\Imaging2AFCPop\\\\eye tracking\\\\060616\\\\MF209_060516_7a_2.avi', \n",
    "       'E:\\\\Imaging2AFCPop\\\\eye tracking\\\\050516\\\\ec_MF209_050516_6a_17.avi']\n",
    "deeplabcut.add_new_videos(config=path_config_file, videos=more_vids, copy_videos=True, coords=None)\n"
   ]
  },
  {
   "cell_type": "markdown",
   "metadata": {
    "colab_type": "text",
    "id": "0yXW0bx1oEJA"
   },
   "source": [
    "## Extract frames from videos \n",
    "A key point for a successful feature detector is to select diverse frames, which are typical for the behavior you study that should be labeled.\n",
    "\n",
    "This function selects N frames either uniformly sampled from a particular video (or folder) ('uniform'). Note: this might not yield diverse frames, if the behavior is sparsely distributed (consider using kmeans), and/or select frames manually etc.\n",
    "\n",
    "Also make sure to get select data from different (behavioral) sessions and different animals if those vary substantially (to train an invariant feature detector).\n",
    "\n",
    "Individual images should not be too big (i.e. < 850 x 850 pixel). Although this can be taken care of later as well, it is advisable to crop the frames, to remove unnecessary parts of the frame as much as possible.\n",
    "\n",
    "Always check the output of cropping. If you are happy with the results proceed to labeling."
   ]
  },
  {
   "cell_type": "code",
   "execution_count": 5,
   "metadata": {
    "colab": {},
    "colab_type": "code",
    "id": "t1ulumCuoEJC"
   },
   "outputs": [
    {
     "name": "stdout",
     "output_type": "stream",
     "text": [
      "Config file read successfully.\n",
      "Do you want to extract (perhaps additional) frames for video: D:\\PetreanuLab\\Code\\DeepLabCut\\examples\\EyeTracking-Marina-2021-03-01\\videos\\ec_MF131_070415_eye_FIXED_004.avi ?\n",
      "yes/noyes\n"
     ]
    },
    {
     "name": "stderr",
     "output_type": "stream",
     "text": [
      "5it [00:00, 48.06it/s]"
     ]
    },
    {
     "name": "stdout",
     "output_type": "stream",
     "text": [
      "Extracting frames based on kmeans ...\n",
      "Kmeans-quantization based extracting of frames from 0.0  seconds to 10.3  seconds.\n",
      "Extracting and downsampling... 618  frames from the video.\n"
     ]
    },
    {
     "name": "stderr",
     "output_type": "stream",
     "text": [
      "618it [00:01, 480.22it/s]\n"
     ]
    },
    {
     "name": "stdout",
     "output_type": "stream",
     "text": [
      "Kmeans clustering ... (this might take a while)\n",
      "Do you want to extract (perhaps additional) frames for video: D:\\PetreanuLab\\Code\\DeepLabCut\\examples\\EyeTracking-Marina-2021-03-01\\videos\\ec_MF131_070415_eye_FIXED_169.avi ?\n",
      "yes/noyes\n"
     ]
    },
    {
     "name": "stderr",
     "output_type": "stream",
     "text": [
      "44it [00:00, 435.50it/s]"
     ]
    },
    {
     "name": "stdout",
     "output_type": "stream",
     "text": [
      "Extracting frames based on kmeans ...\n",
      "Kmeans-quantization based extracting of frames from 0.0  seconds to 16.45  seconds.\n",
      "Extracting and downsampling... 987  frames from the video.\n"
     ]
    },
    {
     "name": "stderr",
     "output_type": "stream",
     "text": [
      "987it [00:01, 524.20it/s]\n"
     ]
    },
    {
     "name": "stdout",
     "output_type": "stream",
     "text": [
      "Kmeans clustering ... (this might take a while)\n",
      "Do you want to extract (perhaps additional) frames for video: D:\\PetreanuLab\\Code\\DeepLabCut\\examples\\EyeTracking-Marina-2021-03-01\\videos\\ec_MF122_180215_eye_4b1.avi ?\n",
      "yes/noyes\n"
     ]
    },
    {
     "name": "stderr",
     "output_type": "stream",
     "text": [
      "63it [00:00, 617.69it/s]"
     ]
    },
    {
     "name": "stdout",
     "output_type": "stream",
     "text": [
      "Extracting frames based on kmeans ...\n",
      "Kmeans-quantization based extracting of frames from 0.0  seconds to 13.53  seconds.\n",
      "Extracting and downsampling... 812  frames from the video.\n"
     ]
    },
    {
     "name": "stderr",
     "output_type": "stream",
     "text": [
      "812it [00:01, 616.10it/s]\n"
     ]
    },
    {
     "name": "stdout",
     "output_type": "stream",
     "text": [
      "Kmeans clustering ... (this might take a while)\n",
      "Do you want to extract (perhaps additional) frames for video: D:\\PetreanuLab\\Code\\DeepLabCut\\examples\\EyeTracking-Marina-2021-03-01\\videos\\ec_MF183_150116_Loc9a_2016-01-15-153036-0000.avi ?\n",
      "yes/noyes\n"
     ]
    },
    {
     "name": "stderr",
     "output_type": "stream",
     "text": [
      "89it [00:00, 444.19it/s]"
     ]
    },
    {
     "name": "stdout",
     "output_type": "stream",
     "text": [
      "Extracting frames based on kmeans ...\n",
      "Kmeans-quantization based extracting of frames from 0.0  seconds to 542.6  seconds.\n",
      "Extracting and downsampling... 24417  frames from the video.\n"
     ]
    },
    {
     "name": "stderr",
     "output_type": "stream",
     "text": [
      "24417it [00:50, 483.77it/s]\n"
     ]
    },
    {
     "name": "stdout",
     "output_type": "stream",
     "text": [
      "Kmeans clustering ... (this might take a while)\n",
      "Do you want to extract (perhaps additional) frames for video: D:\\PetreanuLab\\Code\\DeepLabCut\\examples\\EyeTracking-Marina-2021-03-01\\videos\\ec_MF183_180116_Loc11a_2016-01-18-140641-0000.avi ?\n",
      "yes/noyes\n"
     ]
    },
    {
     "name": "stderr",
     "output_type": "stream",
     "text": [
      "36it [00:00, 356.69it/s]"
     ]
    },
    {
     "name": "stdout",
     "output_type": "stream",
     "text": [
      "Extracting frames based on kmeans ...\n",
      "Kmeans-quantization based extracting of frames from 0.0  seconds to 1411.22  seconds.\n",
      "Extracting and downsampling... 63505  frames from the video.\n"
     ]
    },
    {
     "name": "stderr",
     "output_type": "stream",
     "text": [
      "63505it [02:13, 476.98it/s]\n"
     ]
    },
    {
     "name": "stdout",
     "output_type": "stream",
     "text": [
      "Kmeans clustering ... (this might take a while)\n",
      "Do you want to extract (perhaps additional) frames for video: D:\\PetreanuLab\\Code\\DeepLabCut\\examples\\EyeTracking-Marina-2021-03-01\\videos\\ec_MF183_180116_Loc11a_2016-01-18-143229-0000.avi ?\n",
      "yes/noyes\n"
     ]
    },
    {
     "name": "stderr",
     "output_type": "stream",
     "text": [
      "90it [00:00, 449.85it/s]"
     ]
    },
    {
     "name": "stdout",
     "output_type": "stream",
     "text": [
      "Extracting frames based on kmeans ...\n",
      "Kmeans-quantization based extracting of frames from 0.0  seconds to 1430.8  seconds.\n",
      "Extracting and downsampling... 64386  frames from the video.\n"
     ]
    },
    {
     "name": "stderr",
     "output_type": "stream",
     "text": [
      "64386it [02:15, 476.43it/s]\n"
     ]
    },
    {
     "name": "stdout",
     "output_type": "stream",
     "text": [
      "Kmeans clustering ... (this might take a while)\n",
      "Do you want to extract (perhaps additional) frames for video: D:\\PetreanuLab\\Code\\DeepLabCut\\examples\\EyeTracking-Marina-2021-03-01\\videos\\ec_MF183_220116_Loc15a_2016-01-22-140913-0000.avi ?\n",
      "yes/noyes\n"
     ]
    },
    {
     "name": "stderr",
     "output_type": "stream",
     "text": [
      "72it [00:00, 362.38it/s]"
     ]
    },
    {
     "name": "stdout",
     "output_type": "stream",
     "text": [
      "Extracting frames based on kmeans ...\n",
      "Kmeans-quantization based extracting of frames from 0.0  seconds to 451.4  seconds.\n",
      "Extracting and downsampling... 20313  frames from the video.\n"
     ]
    },
    {
     "name": "stderr",
     "output_type": "stream",
     "text": [
      "20313it [00:47, 423.40it/s]\n"
     ]
    },
    {
     "name": "stdout",
     "output_type": "stream",
     "text": [
      "Kmeans clustering ... (this might take a while)\n",
      "Do you want to extract (perhaps additional) frames for video: D:\\PetreanuLab\\Code\\DeepLabCut\\examples\\EyeTracking-Marina-2021-03-01\\videos\\ec_MF183_220116_Loc15a_2016-01-22-145419-0000.avi ?\n",
      "yes/noyes\n"
     ]
    },
    {
     "name": "stderr",
     "output_type": "stream",
     "text": [
      "95it [00:00, 471.00it/s]"
     ]
    },
    {
     "name": "stdout",
     "output_type": "stream",
     "text": [
      "Extracting frames based on kmeans ...\n",
      "Kmeans-quantization based extracting of frames from 0.0  seconds to 290.53  seconds.\n",
      "Extracting and downsampling... 13074  frames from the video.\n"
     ]
    },
    {
     "name": "stderr",
     "output_type": "stream",
     "text": [
      "13074it [00:27, 469.55it/s]\n"
     ]
    },
    {
     "name": "stdout",
     "output_type": "stream",
     "text": [
      "Kmeans clustering ... (this might take a while)\n",
      "Do you want to extract (perhaps additional) frames for video: D:\\PetreanuLab\\Code\\DeepLabCut\\examples\\EyeTracking-Marina-2021-03-01\\videos\\ec_MF183_230116_Loc16a_2016-01-23-161748-0000.avi ?\n",
      "yes/noyes\n"
     ]
    },
    {
     "name": "stderr",
     "output_type": "stream",
     "text": [
      "48it [00:00, 479.70it/s]"
     ]
    },
    {
     "name": "stdout",
     "output_type": "stream",
     "text": [
      "Extracting frames based on kmeans ...\n",
      "Kmeans-quantization based extracting of frames from 0.0  seconds to 1466.4  seconds.\n",
      "Extracting and downsampling... 65988  frames from the video.\n"
     ]
    },
    {
     "name": "stderr",
     "output_type": "stream",
     "text": [
      "65988it [02:17, 478.42it/s]\n"
     ]
    },
    {
     "name": "stdout",
     "output_type": "stream",
     "text": [
      "Kmeans clustering ... (this might take a while)\n",
      "Do you want to extract (perhaps additional) frames for video: D:\\PetreanuLab\\Code\\DeepLabCut\\examples\\EyeTracking-Marina-2021-03-01\\videos\\ec_MF183_230116_Loc16a_2016-01-23-165931-0000.avi ?\n",
      "yes/noyes\n"
     ]
    },
    {
     "name": "stderr",
     "output_type": "stream",
     "text": [
      "48it [00:00, 479.90it/s]"
     ]
    },
    {
     "name": "stdout",
     "output_type": "stream",
     "text": [
      "Extracting frames based on kmeans ...\n",
      "Kmeans-quantization based extracting of frames from 0.0  seconds to 222.8  seconds.\n",
      "Extracting and downsampling... 10026  frames from the video.\n"
     ]
    },
    {
     "name": "stderr",
     "output_type": "stream",
     "text": [
      "10026it [00:21, 473.85it/s]\n"
     ]
    },
    {
     "name": "stdout",
     "output_type": "stream",
     "text": [
      "Kmeans clustering ... (this might take a while)\n",
      "Do you want to extract (perhaps additional) frames for video: D:\\PetreanuLab\\Code\\DeepLabCut\\examples\\EyeTracking-Marina-2021-03-01\\videos\\ec_MF183_260116_Loc18a_2016-01-26-150251-0000.avi ?\n",
      "yes/noyes\n"
     ]
    },
    {
     "name": "stderr",
     "output_type": "stream",
     "text": [
      "99it [00:00, 486.19it/s]"
     ]
    },
    {
     "name": "stdout",
     "output_type": "stream",
     "text": [
      "Extracting frames based on kmeans ...\n",
      "Kmeans-quantization based extracting of frames from 0.0  seconds to 1373.6  seconds.\n",
      "Extracting and downsampling... 61812  frames from the video.\n"
     ]
    },
    {
     "name": "stderr",
     "output_type": "stream",
     "text": [
      "61812it [02:07, 486.56it/s]\n"
     ]
    },
    {
     "name": "stdout",
     "output_type": "stream",
     "text": [
      "Kmeans clustering ... (this might take a while)\n",
      "Do you want to extract (perhaps additional) frames for video: D:\\PetreanuLab\\Code\\DeepLabCut\\examples\\EyeTracking-Marina-2021-03-01\\videos\\ec_MF183_260116_Loc18a_2016-01-26-152539-0000.avi ?\n",
      "yes/noyes\n"
     ]
    },
    {
     "name": "stderr",
     "output_type": "stream",
     "text": [
      "96it [00:00, 476.85it/s]"
     ]
    },
    {
     "name": "stdout",
     "output_type": "stream",
     "text": [
      "Extracting frames based on kmeans ...\n",
      "Kmeans-quantization based extracting of frames from 0.0  seconds to 1285.47  seconds.\n",
      "Extracting and downsampling... 57846  frames from the video.\n"
     ]
    },
    {
     "name": "stderr",
     "output_type": "stream",
     "text": [
      "57846it [01:59, 485.81it/s]\n"
     ]
    },
    {
     "name": "stdout",
     "output_type": "stream",
     "text": [
      "Kmeans clustering ... (this might take a while)\n",
      "Do you want to extract (perhaps additional) frames for video: D:\\PetreanuLab\\Code\\DeepLabCut\\examples\\EyeTracking-Marina-2021-03-01\\videos\\ec_MF209_050516_6a_259.avi ?\n",
      "yes/noyes\n"
     ]
    },
    {
     "name": "stderr",
     "output_type": "stream",
     "text": [
      "214it [00:00, 1065.62it/s]"
     ]
    },
    {
     "name": "stdout",
     "output_type": "stream",
     "text": [
      "Extracting frames based on kmeans ...\n",
      "Kmeans-quantization based extracting of frames from 0.0  seconds to 5.13  seconds.\n",
      "Extracting and downsampling... 462  frames from the video.\n"
     ]
    },
    {
     "name": "stderr",
     "output_type": "stream",
     "text": [
      "462it [00:00, 1064.69it/s]\n"
     ]
    },
    {
     "name": "stdout",
     "output_type": "stream",
     "text": [
      "Kmeans clustering ... (this might take a while)\n",
      "Do you want to extract (perhaps additional) frames for video: D:\\PetreanuLab\\Code\\DeepLabCut\\examples\\EyeTracking-Marina-2021-03-01\\videos\\ec_MF209_050516_6a_7.avi ?\n",
      "yes/noyes\n"
     ]
    },
    {
     "name": "stderr",
     "output_type": "stream",
     "text": [
      "89it [00:00, 880.64it/s]"
     ]
    },
    {
     "name": "stdout",
     "output_type": "stream",
     "text": [
      "Extracting frames based on kmeans ...\n",
      "Kmeans-quantization based extracting of frames from 0.0  seconds to 6.16  seconds.\n",
      "Extracting and downsampling... 554  frames from the video.\n"
     ]
    },
    {
     "name": "stderr",
     "output_type": "stream",
     "text": [
      "554it [00:00, 1009.10it/s]\n"
     ]
    },
    {
     "name": "stdout",
     "output_type": "stream",
     "text": [
      "Kmeans clustering ... (this might take a while)\n",
      "Do you want to extract (perhaps additional) frames for video: D:\\PetreanuLab\\Code\\DeepLabCut\\examples\\EyeTracking-Marina-2021-03-01\\videos\\MF209_060516_7a_0.avi ?\n",
      "yes/noyes\n"
     ]
    },
    {
     "name": "stderr",
     "output_type": "stream",
     "text": [
      "126it [00:00, 1247.60it/s]"
     ]
    },
    {
     "name": "stdout",
     "output_type": "stream",
     "text": [
      "Extracting frames based on kmeans ...\n",
      "Kmeans-quantization based extracting of frames from 0.0  seconds to 13.02  seconds.\n",
      "Extracting and downsampling... 1172  frames from the video.\n"
     ]
    },
    {
     "name": "stderr",
     "output_type": "stream",
     "text": [
      "1172it [00:00, 1400.26it/s]\n"
     ]
    },
    {
     "name": "stdout",
     "output_type": "stream",
     "text": [
      "Kmeans clustering ... (this might take a while)\n",
      "Do you want to extract (perhaps additional) frames for video: D:\\PetreanuLab\\Code\\DeepLabCut\\examples\\EyeTracking-Marina-2021-03-01\\videos\\MF209_060516_7a_288.avi ?\n",
      "yes/noyes\n"
     ]
    },
    {
     "name": "stderr",
     "output_type": "stream",
     "text": [
      "288it [00:00, 1436.78it/s]"
     ]
    },
    {
     "name": "stdout",
     "output_type": "stream",
     "text": [
      "Extracting frames based on kmeans ...\n",
      "Kmeans-quantization based extracting of frames from 0.0  seconds to 25.43  seconds.\n",
      "Extracting and downsampling... 2289  frames from the video.\n"
     ]
    },
    {
     "name": "stderr",
     "output_type": "stream",
     "text": [
      "2289it [00:01, 1443.28it/s]\n"
     ]
    },
    {
     "name": "stdout",
     "output_type": "stream",
     "text": [
      "Kmeans clustering ... (this might take a while)\n",
      "Do you want to extract (perhaps additional) frames for video: D:\\PetreanuLab\\Code\\DeepLabCut\\examples\\EyeTracking-Marina-2021-03-01\\videos\\MF209_070516_8b_0.avi ?\n",
      "yes/noyes\n"
     ]
    },
    {
     "name": "stderr",
     "output_type": "stream",
     "text": [
      "147it [00:00, 1469.06it/s]"
     ]
    },
    {
     "name": "stdout",
     "output_type": "stream",
     "text": [
      "Extracting frames based on kmeans ...\n",
      "Kmeans-quantization based extracting of frames from 0.0  seconds to 4.96  seconds.\n",
      "Extracting and downsampling... 446  frames from the video.\n"
     ]
    },
    {
     "name": "stderr",
     "output_type": "stream",
     "text": [
      "446it [00:00, 1411.47it/s]\n"
     ]
    },
    {
     "name": "stdout",
     "output_type": "stream",
     "text": [
      "Kmeans clustering ... (this might take a while)\n",
      "Do you want to extract (perhaps additional) frames for video: D:\\PetreanuLab\\Code\\DeepLabCut\\examples\\EyeTracking-Marina-2021-03-01\\videos\\MF209_070516_8b_213.avi ?\n",
      "yes/noyes\n"
     ]
    },
    {
     "name": "stderr",
     "output_type": "stream",
     "text": [
      "148it [00:00, 1479.08it/s]"
     ]
    },
    {
     "name": "stdout",
     "output_type": "stream",
     "text": [
      "Extracting frames based on kmeans ...\n",
      "Kmeans-quantization based extracting of frames from 0.0  seconds to 44.26  seconds.\n",
      "Extracting and downsampling... 3983  frames from the video.\n"
     ]
    },
    {
     "name": "stderr",
     "output_type": "stream",
     "text": [
      "3983it [00:02, 1437.47it/s]\n"
     ]
    },
    {
     "name": "stdout",
     "output_type": "stream",
     "text": [
      "Kmeans clustering ... (this might take a while)\n",
      "Do you want to extract (perhaps additional) frames for video: D:\\PetreanuLab\\Code\\DeepLabCut\\examples\\EyeTracking-Marina-2021-03-01\\videos\\MF209_080516_9a_1.avi ?\n",
      "yes/noyes\n"
     ]
    },
    {
     "name": "stderr",
     "output_type": "stream",
     "text": [
      "287it [00:00, 1427.26it/s]"
     ]
    },
    {
     "name": "stdout",
     "output_type": "stream",
     "text": [
      "Extracting frames based on kmeans ...\n",
      "Kmeans-quantization based extracting of frames from 0.0  seconds to 5.12  seconds.\n",
      "Extracting and downsampling... 461  frames from the video.\n"
     ]
    },
    {
     "name": "stderr",
     "output_type": "stream",
     "text": [
      "461it [00:00, 1422.93it/s]\n"
     ]
    },
    {
     "name": "stdout",
     "output_type": "stream",
     "text": [
      "Kmeans clustering ... (this might take a while)\n",
      "Do you want to extract (perhaps additional) frames for video: D:\\PetreanuLab\\Code\\DeepLabCut\\examples\\EyeTracking-Marina-2021-03-01\\videos\\MF209_080516_9a_223.avi ?\n",
      "yes/noyes\n"
     ]
    },
    {
     "name": "stderr",
     "output_type": "stream",
     "text": [
      "143it [00:00, 1429.22it/s]"
     ]
    },
    {
     "name": "stdout",
     "output_type": "stream",
     "text": [
      "Extracting frames based on kmeans ...\n",
      "Kmeans-quantization based extracting of frames from 0.0  seconds to 7.36  seconds.\n",
      "Extracting and downsampling... 662  frames from the video.\n"
     ]
    },
    {
     "name": "stderr",
     "output_type": "stream",
     "text": [
      "662it [00:00, 1402.42it/s]\n"
     ]
    },
    {
     "name": "stdout",
     "output_type": "stream",
     "text": [
      "Kmeans clustering ... (this might take a while)\n",
      "Do you want to extract (perhaps additional) frames for video: D:\\PetreanuLab\\Code\\DeepLabCut\\examples\\EyeTracking-Marina-2021-03-01\\videos\\MF209_100516_11a_0.avi ?\n",
      "yes/noyes\n"
     ]
    },
    {
     "name": "stderr",
     "output_type": "stream",
     "text": [
      "281it [00:00, 1411.91it/s]"
     ]
    },
    {
     "name": "stdout",
     "output_type": "stream",
     "text": [
      "Extracting frames based on kmeans ...\n",
      "Kmeans-quantization based extracting of frames from 0.0  seconds to 5.13  seconds.\n",
      "Extracting and downsampling... 462  frames from the video.\n"
     ]
    },
    {
     "name": "stderr",
     "output_type": "stream",
     "text": [
      "462it [00:00, 1404.07it/s]\n"
     ]
    },
    {
     "name": "stdout",
     "output_type": "stream",
     "text": [
      "Kmeans clustering ... (this might take a while)\n",
      "Do you want to extract (perhaps additional) frames for video: D:\\PetreanuLab\\Code\\DeepLabCut\\examples\\EyeTracking-Marina-2021-03-01\\videos\\MF209_100516_11a_253.avi ?\n",
      "yes/noyes\n"
     ]
    },
    {
     "name": "stderr",
     "output_type": "stream",
     "text": [
      "120it [00:00, 1199.87it/s]"
     ]
    },
    {
     "name": "stdout",
     "output_type": "stream",
     "text": [
      "Extracting frames based on kmeans ...\n",
      "Kmeans-quantization based extracting of frames from 0.0  seconds to 11.46  seconds.\n",
      "Extracting and downsampling... 1031  frames from the video.\n"
     ]
    },
    {
     "name": "stderr",
     "output_type": "stream",
     "text": [
      "1031it [00:00, 1384.06it/s]\n"
     ]
    },
    {
     "name": "stdout",
     "output_type": "stream",
     "text": [
      "Kmeans clustering ... (this might take a while)\n",
      "Do you want to extract (perhaps additional) frames for video: D:\\PetreanuLab\\Code\\DeepLabCut\\examples\\EyeTracking-Marina-2021-03-01\\videos\\MF209_110516_12a_3.avi ?\n",
      "yes/noyes\n"
     ]
    },
    {
     "name": "stderr",
     "output_type": "stream",
     "text": [
      "286it [00:00, 1428.41it/s]"
     ]
    },
    {
     "name": "stdout",
     "output_type": "stream",
     "text": [
      "Extracting frames based on kmeans ...\n",
      "Kmeans-quantization based extracting of frames from 0.0  seconds to 4.97  seconds.\n",
      "Extracting and downsampling... 447  frames from the video.\n"
     ]
    },
    {
     "name": "stderr",
     "output_type": "stream",
     "text": [
      "447it [00:00, 1379.47it/s]\n"
     ]
    },
    {
     "name": "stdout",
     "output_type": "stream",
     "text": [
      "Kmeans clustering ... (this might take a while)\n",
      "Do you want to extract (perhaps additional) frames for video: D:\\PetreanuLab\\Code\\DeepLabCut\\examples\\EyeTracking-Marina-2021-03-01\\videos\\MF209_110516_12a_212.avi ?\n",
      "yes/noyes\n"
     ]
    },
    {
     "name": "stderr",
     "output_type": "stream",
     "text": [
      "281it [00:00, 1343.79it/s]"
     ]
    },
    {
     "name": "stdout",
     "output_type": "stream",
     "text": [
      "Extracting frames based on kmeans ...\n",
      "Kmeans-quantization based extracting of frames from 0.0  seconds to 5.99  seconds.\n",
      "Extracting and downsampling... 539  frames from the video.\n"
     ]
    },
    {
     "name": "stderr",
     "output_type": "stream",
     "text": [
      "539it [00:00, 1347.71it/s]\n"
     ]
    },
    {
     "name": "stdout",
     "output_type": "stream",
     "text": [
      "Kmeans clustering ... (this might take a while)\n",
      "Do you want to extract (perhaps additional) frames for video: D:\\PetreanuLab\\Code\\DeepLabCut\\examples\\EyeTracking-Marina-2021-03-01\\videos\\MF209_190516_18a_29.avi ?\n",
      "yes/noyes\n"
     ]
    },
    {
     "name": "stderr",
     "output_type": "stream",
     "text": [
      "256it [00:00, 1208.70it/s]"
     ]
    },
    {
     "name": "stdout",
     "output_type": "stream",
     "text": [
      "Extracting frames based on kmeans ...\n",
      "Kmeans-quantization based extracting of frames from 0.0  seconds to 5.3  seconds.\n",
      "Extracting and downsampling... 477  frames from the video.\n"
     ]
    },
    {
     "name": "stderr",
     "output_type": "stream",
     "text": [
      "477it [00:00, 1235.83it/s]\n"
     ]
    },
    {
     "name": "stdout",
     "output_type": "stream",
     "text": [
      "Kmeans clustering ... (this might take a while)\n",
      "Do you want to extract (perhaps additional) frames for video: D:\\PetreanuLab\\Code\\DeepLabCut\\examples\\EyeTracking-Marina-2021-03-01\\videos\\MF209_190516_18a_205.avi ?\n",
      "yes/noyes\n"
     ]
    },
    {
     "name": "stderr",
     "output_type": "stream",
     "text": [
      "253it [00:00, 1262.10it/s]"
     ]
    },
    {
     "name": "stdout",
     "output_type": "stream",
     "text": [
      "Extracting frames based on kmeans ...\n",
      "Kmeans-quantization based extracting of frames from 0.0  seconds to 46.63  seconds.\n",
      "Extracting and downsampling... 4197  frames from the video.\n"
     ]
    },
    {
     "name": "stderr",
     "output_type": "stream",
     "text": [
      "4197it [00:03, 1254.39it/s]\n"
     ]
    },
    {
     "name": "stdout",
     "output_type": "stream",
     "text": [
      "Kmeans clustering ... (this might take a while)\n",
      "Do you want to extract (perhaps additional) frames for video: D:\\PetreanuLab\\Code\\DeepLabCut\\examples\\EyeTracking-Marina-2021-03-01\\videos\\MF209_230516_20a0.avi ?\n",
      "yes/noyes\n"
     ]
    },
    {
     "name": "stderr",
     "output_type": "stream",
     "text": [
      "249it [00:00, 1240.51it/s]"
     ]
    },
    {
     "name": "stdout",
     "output_type": "stream",
     "text": [
      "Extracting frames based on kmeans ...\n",
      "Kmeans-quantization based extracting of frames from 0.0  seconds to 5.12  seconds.\n",
      "Extracting and downsampling... 461  frames from the video.\n"
     ]
    },
    {
     "name": "stderr",
     "output_type": "stream",
     "text": [
      "461it [00:00, 1249.40it/s]\n"
     ]
    },
    {
     "name": "stdout",
     "output_type": "stream",
     "text": [
      "Kmeans clustering ... (this might take a while)\n",
      "Do you want to extract (perhaps additional) frames for video: D:\\PetreanuLab\\Code\\DeepLabCut\\examples\\EyeTracking-Marina-2021-03-01\\videos\\MF209_230516_20a241.avi ?\n",
      "yes/noyes\n"
     ]
    },
    {
     "name": "stderr",
     "output_type": "stream",
     "text": [
      "254it [00:00, 1257.55it/s]"
     ]
    },
    {
     "name": "stdout",
     "output_type": "stream",
     "text": [
      "Extracting frames based on kmeans ...\n",
      "Kmeans-quantization based extracting of frames from 0.0  seconds to 5.12  seconds.\n",
      "Extracting and downsampling... 461  frames from the video.\n"
     ]
    },
    {
     "name": "stderr",
     "output_type": "stream",
     "text": [
      "461it [00:00, 1255.94it/s]\n"
     ]
    },
    {
     "name": "stdout",
     "output_type": "stream",
     "text": [
      "Kmeans clustering ... (this might take a while)\n",
      "Frames were successfully extracted, for the videos of interest.\n",
      "\n",
      "You can now label the frames using the function 'label_frames' (if you extracted enough frames for all videos).\n"
     ]
    }
   ],
   "source": [
    "%matplotlib inline\n",
    "#there are other ways to grab frames, such as uniformly; please see the paper:\n",
    "\n",
    "#AUTOMATIC:\n",
    "deeplabcut.extract_frames(path_config_file) "
   ]
  },
  {
   "cell_type": "code",
   "execution_count": null,
   "metadata": {},
   "outputs": [],
   "source": [
    "#AND/OR: SELECT RARE EVENTS MANUALLY:\n",
    "\n",
    "#%gui wx\n",
    "#deeplabcut.extract_frames(path_config_file,'manual')"
   ]
  },
  {
   "cell_type": "markdown",
   "metadata": {
    "colab_type": "text",
    "id": "Gjn6ZDonoEJH"
   },
   "source": [
    "## Label the extracted frames\n",
    "\n",
    "Only videos in the config file can be used to extract the frames. Extracted labels for each video are stored in the project directory under the subdirectory **'labeled-data'**. Each subdirectory is named after the name of the video. The toolbox has a labeling toolbox which could be used for labeling. "
   ]
  },
  {
   "cell_type": "code",
   "execution_count": null,
   "metadata": {
    "colab": {},
    "colab_type": "code",
    "id": "iyROSOiEoEJI"
   },
   "outputs": [
    {
     "name": "stdout",
     "output_type": "stream",
     "text": [
      "You can now check the labels, using 'check_labels' before proceeding. Then, you can use the function 'create_training_dataset' to create the training dataset.\n"
     ]
    }
   ],
   "source": [
    "%gui wx\n",
    "deeplabcut.label_frames(path_config_file)"
   ]
  },
  {
   "cell_type": "markdown",
   "metadata": {
    "colab_type": "text",
    "id": "vim95ZvkPSeN"
   },
   "source": [
    "## Check the labels\n",
    "\n",
    "[OPTIONAL] Checking if the labels were created and stored correctly is beneficial for training, since labeling is one of the most critical parts for creating the training dataset. The DeepLabCut toolbox provides a function `check\\_labels'  to do so. It is used as follows:"
   ]
  },
  {
   "cell_type": "code",
   "execution_count": 3,
   "metadata": {
    "colab": {},
    "colab_type": "code",
    "id": "NwvgPJouPP2O",
    "scrolled": false
   },
   "outputs": [
    {
     "name": "stdout",
     "output_type": "stream",
     "text": [
      "Creating images with labels by Marina.\n"
     ]
    },
    {
     "name": "stderr",
     "output_type": "stream",
     "text": [
      "100%|██████████████████████████████████████████████████████████████████████████████████| 10/10 [00:00<00:00, 13.89it/s]\n",
      "100%|██████████████████████████████████████████████████████████████████████████████████| 10/10 [00:00<00:00, 13.81it/s]\n",
      "100%|██████████████████████████████████████████████████████████████████████████████████| 10/10 [00:00<00:00, 16.23it/s]\n",
      "100%|██████████████████████████████████████████████████████████████████████████████████| 10/10 [00:00<00:00, 11.66it/s]\n",
      "100%|██████████████████████████████████████████████████████████████████████████████████| 10/10 [00:00<00:00, 11.47it/s]\n",
      "100%|██████████████████████████████████████████████████████████████████████████████████| 10/10 [00:00<00:00, 11.57it/s]\n",
      "100%|██████████████████████████████████████████████████████████████████████████████████| 10/10 [00:00<00:00, 10.45it/s]\n",
      "100%|██████████████████████████████████████████████████████████████████████████████████| 10/10 [00:00<00:00, 11.05it/s]\n",
      "100%|██████████████████████████████████████████████████████████████████████████████████| 10/10 [00:00<00:00, 11.38it/s]\n",
      "100%|██████████████████████████████████████████████████████████████████████████████████| 10/10 [00:00<00:00, 11.26it/s]\n",
      "100%|██████████████████████████████████████████████████████████████████████████████████| 10/10 [00:00<00:00, 11.56it/s]\n",
      "100%|██████████████████████████████████████████████████████████████████████████████████| 10/10 [00:00<00:00, 11.51it/s]\n",
      "100%|██████████████████████████████████████████████████████████████████████████████████| 10/10 [00:00<00:00, 25.00it/s]\n",
      "100%|██████████████████████████████████████████████████████████████████████████████████| 10/10 [00:00<00:00, 24.82it/s]\n",
      "100%|██████████████████████████████████████████████████████████████████████████████████| 10/10 [00:00<00:00, 25.19it/s]\n",
      "100%|██████████████████████████████████████████████████████████████████████████████████| 10/10 [00:00<00:00, 24.22it/s]\n",
      "100%|██████████████████████████████████████████████████████████████████████████████████| 10/10 [00:00<00:00, 25.06it/s]\n",
      "100%|██████████████████████████████████████████████████████████████████████████████████| 10/10 [00:00<00:00, 25.07it/s]\n",
      "100%|██████████████████████████████████████████████████████████████████████████████████| 10/10 [00:00<00:00, 24.69it/s]\n",
      "100%|██████████████████████████████████████████████████████████████████████████████████| 10/10 [00:00<00:00, 24.75it/s]\n",
      "100%|██████████████████████████████████████████████████████████████████████████████████| 10/10 [00:00<00:00, 25.32it/s]\n",
      "100%|██████████████████████████████████████████████████████████████████████████████████| 10/10 [00:00<00:00, 25.91it/s]\n",
      "100%|██████████████████████████████████████████████████████████████████████████████████| 10/10 [00:00<00:00, 25.07it/s]\n",
      "100%|██████████████████████████████████████████████████████████████████████████████████| 10/10 [00:00<00:00, 25.58it/s]\n",
      "100%|██████████████████████████████████████████████████████████████████████████████████| 10/10 [00:00<00:00, 22.27it/s]\n",
      "100%|██████████████████████████████████████████████████████████████████████████████████| 10/10 [00:00<00:00, 22.28it/s]\n",
      "100%|██████████████████████████████████████████████████████████████████████████████████| 10/10 [00:00<00:00, 22.62it/s]\n",
      "100%|██████████████████████████████████████████████████████████████████████████████████| 10/10 [00:00<00:00, 22.68it/s]"
     ]
    },
    {
     "name": "stdout",
     "output_type": "stream",
     "text": [
      "If all the labels are ok, then use the function 'create_training_dataset' to create the training dataset!\n"
     ]
    },
    {
     "name": "stderr",
     "output_type": "stream",
     "text": [
      "\n"
     ]
    }
   ],
   "source": [
    "deeplabcut.check_labels(path_config_file) #this creates a subdirectory with the frames + your labels"
   ]
  },
  {
   "cell_type": "markdown",
   "metadata": {
    "colab_type": "text",
    "id": "of87fOjgPqzH"
   },
   "source": [
    "If the labels need adjusted, you can use relauch the labeling GUI to move them around, save, and re-plot!"
   ]
  },
  {
   "cell_type": "markdown",
   "metadata": {
    "colab_type": "text",
    "id": "xNi9s1dboEJN"
   },
   "source": [
    "## Create a training dataset\n",
    "\n",
    "This function generates the training data information for network training based on the pandas dataframes that hold label information. The user can set the fraction of the training set size (from all labeled image in the hd5 file) in the config.yaml file. While creating the dataset, the user can create multiple shuffles if they want to benchmark the performance (typcailly, 1 is what you will set, so you pass nothing!). \n",
    "\n",
    "After running this script the training dataset is created and saved in the project directory under the subdirectory **'training-datasets'**\n",
    "\n",
    "This function also creates new subdirectories under **dlc-models** and appends the project config.yaml file with the correct path to the training and testing pose configuration file. These files hold the parameters for training the network. Such an example file is provided with the toolbox and named as **pose_cfg.yaml**. For most all use cases we have seen, the defaults are perfectly fine.\n",
    "\n",
    "Now it is the time to start training the network!"
   ]
  },
  {
   "cell_type": "code",
   "execution_count": 4,
   "metadata": {
    "colab": {},
    "colab_type": "code",
    "id": "eMeUwgxPoEJP",
    "scrolled": true
   },
   "outputs": [
    {
     "name": "stdout",
     "output_type": "stream",
     "text": [
      "The training dataset is successfully created. Use the function 'train_network' to start training. Happy training!\n"
     ]
    },
    {
     "data": {
      "text/plain": [
       "[(0.95,\n",
       "  1,\n",
       "  (array([205, 257,  93, 105, 183,  26,  12, 211,   9,  42, 127,   6, 234,\n",
       "           17, 169,  97,  70, 253, 256,  58, 143, 132,  36, 232,  57,  14,\n",
       "          193, 159,  67, 187,   0, 124, 107, 196,  28,  96, 122,  10, 109,\n",
       "          243,  69, 131, 136,  47,  11, 182,  74,  45, 277, 186,  27, 177,\n",
       "          184, 263, 222, 272, 220,  25, 269, 111, 231, 154,  90, 176, 130,\n",
       "            8, 178, 152, 268, 175, 125,  79, 185, 120, 121,  77, 200,  31,\n",
       "          161, 147, 228,  73, 225, 230, 204, 192, 237, 258, 214, 244, 129,\n",
       "          233, 119, 156, 112, 254,  82,  13, 216, 102, 180,  71, 221,  60,\n",
       "            3, 170,  94,  76, 219, 218,  78, 252,  87, 149, 223,  37, 179,\n",
       "          167, 275, 246, 103,  18,  53, 259,  86, 162, 155,  19,  23, 101,\n",
       "          142,  30,  56,  48, 100, 198, 108,  46, 240,  38, 242, 117, 209,\n",
       "          266,  83,  63, 174, 255,  40,  21, 229, 134, 158, 116, 195,  98,\n",
       "          141, 157, 226,  84, 181,  51, 207, 165,  15, 145, 217, 115, 260,\n",
       "          203,  34, 153, 171, 239,  89, 140, 114,  35, 247,  39, 189, 245,\n",
       "          172, 118,  80,   7, 279, 236,  88, 188, 166, 251,   5,  54, 106,\n",
       "          215, 146, 151, 267, 213, 208, 104, 224, 128,  92, 202,  81, 197,\n",
       "          262,  44,  29, 135, 139,  65, 173, 250, 168, 113,  55, 123, 261,\n",
       "          210,  64,  50, 265,  99, 190,  49,  85,  16,  62,  95, 241, 199,\n",
       "          150,  52, 212,  32, 160,  61,  75, 274, 126, 249, 110,   2, 227,\n",
       "          206,  22, 264, 163,  66,  20, 194, 248, 273,  24,  41,  43,  33,\n",
       "          191, 164, 148, 144, 201, 137]),\n",
       "   array([276, 271,  59, 138, 238,  72,   1,  68,  91, 278, 133, 270,   4,\n",
       "          235])))]"
      ]
     },
     "execution_count": 4,
     "metadata": {},
     "output_type": "execute_result"
    }
   ],
   "source": [
    "deeplabcut.create_training_dataset(path_config_file)\n",
    "#remember, there are several networks you can pick, the default is resnet-50!"
   ]
  },
  {
   "cell_type": "markdown",
   "metadata": {
    "colab_type": "text",
    "id": "c4FczXGDoEJU"
   },
   "source": [
    "## Start training:\n",
    "\n",
    "This function trains the network for a specific shuffle of the training dataset. "
   ]
  },
  {
   "cell_type": "code",
   "execution_count": 7,
   "metadata": {
    "colab": {},
    "colab_type": "code",
    "id": "_pOvDq_2oEJW"
   },
   "outputs": [
    {
     "name": "stderr",
     "output_type": "stream",
     "text": [
      "Config:\n",
      "{'all_joints': [[0], [1], [2], [3], [4], [5], [6], [7], [8], [9], [10], [11]],\n",
      " 'all_joints_names': ['pupilW',\n",
      "                      'pupilNW',\n",
      "                      'pupilN',\n",
      "                      'pupilNE',\n",
      "                      'pupilE',\n",
      "                      'pupilSE',\n",
      "                      'pupilS',\n",
      "                      'pupilSW',\n",
      "                      'eyeCornerTemp',\n",
      "                      'eyeCornerNasal',\n",
      "                      'CRW',\n",
      "                      'CRE'],\n",
      " 'alpha_r': 0.02,\n",
      " 'batch_size': 1,\n",
      " 'crop_pad': 0,\n",
      " 'cropratio': 0.4,\n",
      " 'dataset': 'training-datasets\\\\iteration-0\\\\UnaugmentedDataSet_EyeTrackingMar1\\\\EyeTracking_Marina95shuffle1.mat',\n",
      " 'dataset_type': 'default',\n",
      " 'decay_steps': 30000,\n",
      " 'deterministic': False,\n",
      " 'display_iters': 1000,\n",
      " 'fg_fraction': 0.25,\n",
      " 'global_scale': 0.8,\n",
      " 'init_weights': 'C:\\\\Users\\\\Marina\\\\Anaconda3\\\\envs\\\\DLC-GPU\\\\lib\\\\site-packages\\\\deeplabcut\\\\pose_estimation_tensorflow\\\\models\\\\pretrained\\\\resnet_v1_50.ckpt',\n",
      " 'intermediate_supervision': False,\n",
      " 'intermediate_supervision_layer': 12,\n",
      " 'location_refinement': True,\n",
      " 'locref_huber_loss': True,\n",
      " 'locref_loss_weight': 0.05,\n",
      " 'locref_stdev': 7.2801,\n",
      " 'log_dir': 'log',\n",
      " 'lr_init': 0.0005,\n",
      " 'max_input_size': 1500,\n",
      " 'mean_pixel': [123.68, 116.779, 103.939],\n",
      " 'metadataset': 'training-datasets\\\\iteration-0\\\\UnaugmentedDataSet_EyeTrackingMar1\\\\Documentation_data-EyeTracking_95shuffle1.pickle',\n",
      " 'min_input_size': 64,\n",
      " 'mirror': False,\n",
      " 'multi_step': [[0.005, 10000],\n",
      "                [0.02, 430000],\n",
      "                [0.002, 730000],\n",
      "                [0.001, 200000]],\n",
      " 'net_type': 'resnet_50',\n",
      " 'num_joints': 12,\n",
      " 'optimizer': 'sgd',\n",
      " 'pairwise_huber_loss': False,\n",
      " 'pairwise_predict': False,\n",
      " 'partaffinityfield_predict': False,\n",
      " 'pos_dist_thresh': 17,\n",
      " 'project_path': 'D:\\\\PetreanuLab\\\\Code\\\\DeepLabCut\\\\examples\\\\EyeTracking-Marina-2021-03-01',\n",
      " 'regularize': False,\n",
      " 'rotation': 25,\n",
      " 'rotratio': 0.4,\n",
      " 'save_iters': 50000,\n",
      " 'scale_jitter_lo': 0.5,\n",
      " 'scale_jitter_up': 1.25,\n",
      " 'scoremap_dir': 'test',\n",
      " 'shuffle': True,\n",
      " 'snapshot_prefix': 'D:\\\\PetreanuLab\\\\Code\\\\DeepLabCut\\\\examples\\\\EyeTracking-Marina-2021-03-01\\\\dlc-models\\\\iteration-0\\\\EyeTrackingMar1-trainset95shuffle1\\\\train\\\\snapshot',\n",
      " 'stride': 8.0,\n",
      " 'weigh_negatives': False,\n",
      " 'weigh_only_present_joints': False,\n",
      " 'weigh_part_predictions': False,\n",
      " 'weight_decay': 0.0001}\n"
     ]
    },
    {
     "name": "stdout",
     "output_type": "stream",
     "text": [
      "Selecting single-animal trainer\n",
      "Starting with imgaug pose-dataset loader (=default).\n",
      "Batch Size is 1\n",
      "Initializing ResNet\n",
      "Loading ImageNet-pretrained resnet_50\n",
      "Training parameter:\n",
      "{'stride': 8.0, 'weigh_part_predictions': False, 'weigh_negatives': False, 'fg_fraction': 0.25, 'mean_pixel': [123.68, 116.779, 103.939], 'shuffle': True, 'snapshot_prefix': 'D:\\\\PetreanuLab\\\\Code\\\\DeepLabCut\\\\examples\\\\EyeTracking-Marina-2021-03-01\\\\dlc-models\\\\iteration-0\\\\EyeTrackingMar1-trainset95shuffle1\\\\train\\\\snapshot', 'log_dir': 'log', 'global_scale': 0.8, 'location_refinement': True, 'locref_stdev': 7.2801, 'locref_loss_weight': 0.05, 'locref_huber_loss': True, 'optimizer': 'sgd', 'intermediate_supervision': False, 'intermediate_supervision_layer': 12, 'regularize': False, 'weight_decay': 0.0001, 'crop_pad': 0, 'scoremap_dir': 'test', 'batch_size': 1, 'dataset_type': 'default', 'deterministic': False, 'mirror': False, 'pairwise_huber_loss': False, 'weigh_only_present_joints': False, 'partaffinityfield_predict': False, 'pairwise_predict': False, 'all_joints': [[0], [1], [2], [3], [4], [5], [6], [7], [8], [9], [10], [11]], 'all_joints_names': ['pupilW', 'pupilNW', 'pupilN', 'pupilNE', 'pupilE', 'pupilSE', 'pupilS', 'pupilSW', 'eyeCornerTemp', 'eyeCornerNasal', 'CRW', 'CRE'], 'alpha_r': 0.02, 'cropratio': 0.4, 'dataset': 'training-datasets\\\\iteration-0\\\\UnaugmentedDataSet_EyeTrackingMar1\\\\EyeTracking_Marina95shuffle1.mat', 'decay_steps': 30000, 'display_iters': 1000, 'init_weights': 'C:\\\\Users\\\\Marina\\\\Anaconda3\\\\envs\\\\DLC-GPU\\\\lib\\\\site-packages\\\\deeplabcut\\\\pose_estimation_tensorflow\\\\models\\\\pretrained\\\\resnet_v1_50.ckpt', 'lr_init': 0.0005, 'max_input_size': 1500, 'metadataset': 'training-datasets\\\\iteration-0\\\\UnaugmentedDataSet_EyeTrackingMar1\\\\Documentation_data-EyeTracking_95shuffle1.pickle', 'min_input_size': 64, 'multi_step': [[0.005, 10000], [0.02, 430000], [0.002, 730000], [0.001, 200000]], 'net_type': 'resnet_50', 'num_joints': 12, 'pos_dist_thresh': 17, 'project_path': 'D:\\\\PetreanuLab\\\\Code\\\\DeepLabCut\\\\examples\\\\EyeTracking-Marina-2021-03-01', 'rotation': 25, 'rotratio': 0.4, 'save_iters': 50000, 'scale_jitter_lo': 0.5, 'scale_jitter_up': 1.25, 'covering': True, 'elastic_transform': True, 'motion_blur': True, 'motion_blur_params': {'k': 7, 'angle': [-90, 90]}}\n",
      "Starting training....\n"
     ]
    },
    {
     "name": "stderr",
     "output_type": "stream",
     "text": [
      "iteration: 1000 loss: 0.0546 lr: 0.005\n",
      "iteration: 2000 loss: 0.0318 lr: 0.005\n",
      "iteration: 3000 loss: 0.0273 lr: 0.005\n",
      "iteration: 4000 loss: 0.0248 lr: 0.005\n",
      "iteration: 5000 loss: 0.0235 lr: 0.005\n",
      "iteration: 6000 loss: 0.0226 lr: 0.005\n",
      "iteration: 7000 loss: 0.0221 lr: 0.005\n",
      "iteration: 8000 loss: 0.0209 lr: 0.005\n",
      "iteration: 9000 loss: 0.0207 lr: 0.005\n",
      "iteration: 10000 loss: 0.0201 lr: 0.005\n",
      "iteration: 11000 loss: 0.0251 lr: 0.02\n",
      "iteration: 12000 loss: 0.0222 lr: 0.02\n",
      "iteration: 13000 loss: 0.0207 lr: 0.02\n",
      "iteration: 14000 loss: 0.0202 lr: 0.02\n",
      "iteration: 15000 loss: 0.0191 lr: 0.02\n",
      "iteration: 16000 loss: 0.0189 lr: 0.02\n",
      "iteration: 17000 loss: 0.0185 lr: 0.02\n",
      "iteration: 18000 loss: 0.0178 lr: 0.02\n",
      "iteration: 19000 loss: 0.0175 lr: 0.02\n",
      "iteration: 20000 loss: 0.0172 lr: 0.02\n",
      "iteration: 21000 loss: 0.0170 lr: 0.02\n",
      "iteration: 22000 loss: 0.0169 lr: 0.02\n",
      "iteration: 23000 loss: 0.0168 lr: 0.02\n",
      "iteration: 24000 loss: 0.0163 lr: 0.02\n",
      "iteration: 25000 loss: 0.0160 lr: 0.02\n",
      "iteration: 26000 loss: 0.0165 lr: 0.02\n",
      "iteration: 27000 loss: 0.0160 lr: 0.02\n",
      "iteration: 28000 loss: 0.0159 lr: 0.02\n",
      "iteration: 29000 loss: 0.0151 lr: 0.02\n",
      "iteration: 30000 loss: 0.0152 lr: 0.02\n",
      "iteration: 31000 loss: 0.0154 lr: 0.02\n",
      "iteration: 32000 loss: 0.0152 lr: 0.02\n",
      "iteration: 33000 loss: 0.0153 lr: 0.02\n",
      "iteration: 34000 loss: 0.0148 lr: 0.02\n",
      "iteration: 35000 loss: 0.0141 lr: 0.02\n",
      "iteration: 36000 loss: 0.0145 lr: 0.02\n",
      "iteration: 37000 loss: 0.0145 lr: 0.02\n",
      "iteration: 38000 loss: 0.0144 lr: 0.02\n",
      "iteration: 39000 loss: 0.0142 lr: 0.02\n",
      "iteration: 40000 loss: 0.0143 lr: 0.02\n",
      "iteration: 41000 loss: 0.0138 lr: 0.02\n",
      "iteration: 42000 loss: 0.0139 lr: 0.02\n",
      "iteration: 43000 loss: 0.0137 lr: 0.02\n",
      "iteration: 44000 loss: 0.0138 lr: 0.02\n",
      "iteration: 45000 loss: 0.0137 lr: 0.02\n",
      "iteration: 46000 loss: 0.0130 lr: 0.02\n",
      "iteration: 47000 loss: 0.0133 lr: 0.02\n",
      "iteration: 48000 loss: 0.0132 lr: 0.02\n",
      "iteration: 49000 loss: 0.0133 lr: 0.02\n",
      "iteration: 50000 loss: 0.0130 lr: 0.02\n",
      "iteration: 51000 loss: 0.0130 lr: 0.02\n",
      "iteration: 52000 loss: 0.0128 lr: 0.02\n",
      "iteration: 53000 loss: 0.0129 lr: 0.02\n",
      "iteration: 54000 loss: 0.0127 lr: 0.02\n",
      "iteration: 55000 loss: 0.0128 lr: 0.02\n",
      "iteration: 56000 loss: 0.0126 lr: 0.02\n",
      "iteration: 57000 loss: 0.0127 lr: 0.02\n",
      "iteration: 58000 loss: 0.0122 lr: 0.02\n",
      "iteration: 59000 loss: 0.0125 lr: 0.02\n",
      "iteration: 60000 loss: 0.0125 lr: 0.02\n",
      "iteration: 61000 loss: 0.0122 lr: 0.02\n",
      "iteration: 62000 loss: 0.0126 lr: 0.02\n",
      "iteration: 63000 loss: 0.0125 lr: 0.02\n",
      "iteration: 64000 loss: 0.0122 lr: 0.02\n",
      "iteration: 65000 loss: 0.0122 lr: 0.02\n",
      "iteration: 66000 loss: 0.0121 lr: 0.02\n",
      "iteration: 67000 loss: 0.0121 lr: 0.02\n",
      "iteration: 68000 loss: 0.0122 lr: 0.02\n",
      "iteration: 69000 loss: 0.0116 lr: 0.02\n",
      "iteration: 70000 loss: 0.0118 lr: 0.02\n",
      "iteration: 71000 loss: 0.0121 lr: 0.02\n",
      "iteration: 72000 loss: 0.0113 lr: 0.02\n",
      "iteration: 73000 loss: 0.0117 lr: 0.02\n",
      "iteration: 74000 loss: 0.0116 lr: 0.02\n",
      "iteration: 75000 loss: 0.0118 lr: 0.02\n",
      "iteration: 76000 loss: 0.0117 lr: 0.02\n",
      "iteration: 77000 loss: 0.0115 lr: 0.02\n",
      "iteration: 78000 loss: 0.0114 lr: 0.02\n",
      "iteration: 79000 loss: 0.0115 lr: 0.02\n",
      "iteration: 80000 loss: 0.0117 lr: 0.02\n",
      "iteration: 81000 loss: 0.0115 lr: 0.02\n",
      "iteration: 82000 loss: 0.0115 lr: 0.02\n",
      "iteration: 83000 loss: 0.0112 lr: 0.02\n",
      "iteration: 84000 loss: 0.0113 lr: 0.02\n",
      "iteration: 85000 loss: 0.0112 lr: 0.02\n",
      "iteration: 86000 loss: 0.0112 lr: 0.02\n",
      "iteration: 87000 loss: 0.0111 lr: 0.02\n",
      "iteration: 88000 loss: 0.0111 lr: 0.02\n",
      "iteration: 89000 loss: 0.0110 lr: 0.02\n",
      "iteration: 90000 loss: 0.0112 lr: 0.02\n",
      "iteration: 91000 loss: 0.0110 lr: 0.02\n",
      "iteration: 92000 loss: 0.0109 lr: 0.02\n",
      "iteration: 93000 loss: 0.0107 lr: 0.02\n",
      "iteration: 94000 loss: 0.0107 lr: 0.02\n",
      "iteration: 95000 loss: 0.0106 lr: 0.02\n",
      "iteration: 96000 loss: 0.0108 lr: 0.02\n",
      "iteration: 97000 loss: 0.0107 lr: 0.02\n",
      "iteration: 98000 loss: 0.0109 lr: 0.02\n",
      "iteration: 99000 loss: 0.0107 lr: 0.02\n",
      "iteration: 100000 loss: 0.0107 lr: 0.02\n",
      "iteration: 101000 loss: 0.0108 lr: 0.02\n",
      "iteration: 102000 loss: 0.0106 lr: 0.02\n",
      "iteration: 103000 loss: 0.0107 lr: 0.02\n",
      "iteration: 104000 loss: 0.0108 lr: 0.02\n",
      "iteration: 105000 loss: 0.0106 lr: 0.02\n",
      "iteration: 106000 loss: 0.0101 lr: 0.02\n",
      "iteration: 107000 loss: 0.0103 lr: 0.02\n",
      "iteration: 108000 loss: 0.0103 lr: 0.02\n",
      "iteration: 109000 loss: 0.0102 lr: 0.02\n",
      "iteration: 110000 loss: 0.0104 lr: 0.02\n",
      "iteration: 111000 loss: 0.0102 lr: 0.02\n",
      "iteration: 112000 loss: 0.0102 lr: 0.02\n",
      "iteration: 113000 loss: 0.0100 lr: 0.02\n",
      "iteration: 114000 loss: 0.0102 lr: 0.02\n",
      "iteration: 115000 loss: 0.0102 lr: 0.02\n",
      "iteration: 116000 loss: 0.0100 lr: 0.02\n",
      "iteration: 117000 loss: 0.0100 lr: 0.02\n",
      "iteration: 118000 loss: 0.0103 lr: 0.02\n",
      "iteration: 119000 loss: 0.0101 lr: 0.02\n",
      "iteration: 120000 loss: 0.0102 lr: 0.02\n",
      "iteration: 121000 loss: 0.0101 lr: 0.02\n",
      "iteration: 122000 loss: 0.0098 lr: 0.02\n",
      "iteration: 123000 loss: 0.0098 lr: 0.02\n",
      "iteration: 124000 loss: 0.0100 lr: 0.02\n",
      "iteration: 125000 loss: 0.0098 lr: 0.02\n",
      "iteration: 126000 loss: 0.0099 lr: 0.02\n",
      "iteration: 127000 loss: 0.0096 lr: 0.02\n",
      "iteration: 128000 loss: 0.0096 lr: 0.02\n",
      "iteration: 129000 loss: 0.0098 lr: 0.02\n",
      "iteration: 130000 loss: 0.0099 lr: 0.02\n",
      "iteration: 131000 loss: 0.0099 lr: 0.02\n",
      "iteration: 132000 loss: 0.0098 lr: 0.02\n",
      "iteration: 133000 loss: 0.0099 lr: 0.02\n",
      "iteration: 134000 loss: 0.0098 lr: 0.02\n",
      "iteration: 135000 loss: 0.0098 lr: 0.02\n",
      "iteration: 136000 loss: 0.0095 lr: 0.02\n",
      "iteration: 137000 loss: 0.0098 lr: 0.02\n",
      "iteration: 138000 loss: 0.0095 lr: 0.02\n",
      "iteration: 139000 loss: 0.0095 lr: 0.02\n",
      "iteration: 140000 loss: 0.0094 lr: 0.02\n",
      "iteration: 141000 loss: 0.0094 lr: 0.02\n",
      "iteration: 142000 loss: 0.0098 lr: 0.02\n",
      "iteration: 143000 loss: 0.0094 lr: 0.02\n",
      "iteration: 144000 loss: 0.0092 lr: 0.02\n",
      "iteration: 145000 loss: 0.0094 lr: 0.02\n",
      "iteration: 146000 loss: 0.0094 lr: 0.02\n",
      "iteration: 147000 loss: 0.0092 lr: 0.02\n",
      "iteration: 148000 loss: 0.0095 lr: 0.02\n",
      "iteration: 149000 loss: 0.0093 lr: 0.02\n",
      "iteration: 150000 loss: 0.0093 lr: 0.02\n",
      "iteration: 151000 loss: 0.0093 lr: 0.02\n",
      "iteration: 152000 loss: 0.0092 lr: 0.02\n",
      "iteration: 153000 loss: 0.0095 lr: 0.02\n",
      "iteration: 154000 loss: 0.0094 lr: 0.02\n",
      "iteration: 155000 loss: 0.0092 lr: 0.02\n",
      "iteration: 156000 loss: 0.0090 lr: 0.02\n",
      "iteration: 157000 loss: 0.0094 lr: 0.02\n",
      "iteration: 158000 loss: 0.0091 lr: 0.02\n",
      "iteration: 159000 loss: 0.0090 lr: 0.02\n",
      "iteration: 160000 loss: 0.0093 lr: 0.02\n",
      "iteration: 161000 loss: 0.0092 lr: 0.02\n",
      "iteration: 162000 loss: 0.0092 lr: 0.02\n",
      "iteration: 163000 loss: 0.0091 lr: 0.02\n",
      "iteration: 164000 loss: 0.0091 lr: 0.02\n",
      "iteration: 165000 loss: 0.0088 lr: 0.02\n",
      "iteration: 166000 loss: 0.0089 lr: 0.02\n",
      "iteration: 167000 loss: 0.0090 lr: 0.02\n",
      "iteration: 168000 loss: 0.0091 lr: 0.02\n",
      "iteration: 169000 loss: 0.0090 lr: 0.02\n",
      "iteration: 170000 loss: 0.0090 lr: 0.02\n",
      "iteration: 171000 loss: 0.0090 lr: 0.02\n",
      "iteration: 172000 loss: 0.0090 lr: 0.02\n",
      "iteration: 173000 loss: 0.0089 lr: 0.02\n",
      "iteration: 174000 loss: 0.0090 lr: 0.02\n",
      "iteration: 175000 loss: 0.0091 lr: 0.02\n",
      "iteration: 176000 loss: 0.0088 lr: 0.02\n",
      "iteration: 177000 loss: 0.0088 lr: 0.02\n",
      "iteration: 178000 loss: 0.0087 lr: 0.02\n",
      "iteration: 179000 loss: 0.0088 lr: 0.02\n",
      "iteration: 180000 loss: 0.0085 lr: 0.02\n",
      "iteration: 181000 loss: 0.0089 lr: 0.02\n",
      "iteration: 182000 loss: 0.0088 lr: 0.02\n",
      "iteration: 183000 loss: 0.0086 lr: 0.02\n",
      "iteration: 184000 loss: 0.0090 lr: 0.02\n",
      "iteration: 185000 loss: 0.0090 lr: 0.02\n",
      "iteration: 186000 loss: 0.0085 lr: 0.02\n",
      "iteration: 187000 loss: 0.0089 lr: 0.02\n",
      "iteration: 188000 loss: 0.0086 lr: 0.02\n",
      "iteration: 189000 loss: 0.0087 lr: 0.02\n",
      "iteration: 190000 loss: 0.0087 lr: 0.02\n",
      "iteration: 191000 loss: 0.0087 lr: 0.02\n",
      "iteration: 192000 loss: 0.0087 lr: 0.02\n",
      "iteration: 193000 loss: 0.0084 lr: 0.02\n",
      "iteration: 194000 loss: 0.0087 lr: 0.02\n",
      "iteration: 195000 loss: 0.0088 lr: 0.02\n",
      "iteration: 196000 loss: 0.0084 lr: 0.02\n",
      "iteration: 197000 loss: 0.0086 lr: 0.02\n",
      "iteration: 198000 loss: 0.0086 lr: 0.02\n",
      "iteration: 199000 loss: 0.0086 lr: 0.02\n",
      "iteration: 200000 loss: 0.0086 lr: 0.02\n"
     ]
    },
    {
     "name": "stdout",
     "output_type": "stream",
     "text": [
      "The network is now trained and ready to evaluate. Use the function 'evaluate_network' to evaluate the network.\n"
     ]
    },
    {
     "name": "stderr",
     "output_type": "stream",
     "text": [
      "Exception in thread Thread-7:\n",
      "Traceback (most recent call last):\n",
      "  File \"C:\\Users\\Marina\\Anaconda3\\envs\\DLC-GPU\\lib\\site-packages\\tensorflow\\python\\client\\session.py\", line 1334, in _do_call\n",
      "    return fn(*args)\n",
      "  File \"C:\\Users\\Marina\\Anaconda3\\envs\\DLC-GPU\\lib\\site-packages\\tensorflow\\python\\client\\session.py\", line 1319, in _run_fn\n",
      "    options, feed_dict, fetch_list, target_list, run_metadata)\n",
      "  File \"C:\\Users\\Marina\\Anaconda3\\envs\\DLC-GPU\\lib\\site-packages\\tensorflow\\python\\client\\session.py\", line 1407, in _call_tf_sessionrun\n",
      "    run_metadata)\n",
      "tensorflow.python.framework.errors_impl.CancelledError: Enqueue operation was cancelled\n",
      "\t [[{{node fifo_queue_enqueue}}]]\n",
      "\n",
      "During handling of the above exception, another exception occurred:\n",
      "\n",
      "Traceback (most recent call last):\n",
      "  File \"C:\\Users\\Marina\\Anaconda3\\envs\\DLC-GPU\\lib\\threading.py\", line 926, in _bootstrap_inner\n",
      "    self.run()\n",
      "  File \"C:\\Users\\Marina\\Anaconda3\\envs\\DLC-GPU\\lib\\threading.py\", line 870, in run\n",
      "    self._target(*self._args, **self._kwargs)\n",
      "  File \"C:\\Users\\Marina\\Anaconda3\\envs\\DLC-GPU\\lib\\site-packages\\deeplabcut\\pose_estimation_tensorflow\\train.py\", line 91, in load_and_enqueue\n",
      "    sess.run(enqueue_op, feed_dict=food)\n",
      "  File \"C:\\Users\\Marina\\Anaconda3\\envs\\DLC-GPU\\lib\\site-packages\\tensorflow\\python\\client\\session.py\", line 929, in run\n",
      "    run_metadata_ptr)\n",
      "  File \"C:\\Users\\Marina\\Anaconda3\\envs\\DLC-GPU\\lib\\site-packages\\tensorflow\\python\\client\\session.py\", line 1152, in _run\n",
      "    feed_dict_tensor, options, run_metadata)\n",
      "  File \"C:\\Users\\Marina\\Anaconda3\\envs\\DLC-GPU\\lib\\site-packages\\tensorflow\\python\\client\\session.py\", line 1328, in _do_run\n",
      "    run_metadata)\n",
      "  File \"C:\\Users\\Marina\\Anaconda3\\envs\\DLC-GPU\\lib\\site-packages\\tensorflow\\python\\client\\session.py\", line 1348, in _do_call\n",
      "    raise type(e)(node_def, op, message)\n",
      "tensorflow.python.framework.errors_impl.CancelledError: Enqueue operation was cancelled\n",
      "\t [[node fifo_queue_enqueue (defined at C:\\Users\\Marina\\Anaconda3\\envs\\DLC-GPU\\lib\\site-packages\\deeplabcut\\pose_estimation_tensorflow\\train.py:77) ]]\n",
      "\n",
      "Caused by op 'fifo_queue_enqueue', defined at:\n",
      "  File \"C:\\Users\\Marina\\Anaconda3\\envs\\DLC-GPU\\lib\\runpy.py\", line 193, in _run_module_as_main\n",
      "    \"__main__\", mod_spec)\n",
      "  File \"C:\\Users\\Marina\\Anaconda3\\envs\\DLC-GPU\\lib\\runpy.py\", line 85, in _run_code\n",
      "    exec(code, run_globals)\n",
      "  File \"C:\\Users\\Marina\\Anaconda3\\envs\\DLC-GPU\\lib\\site-packages\\ipykernel_launcher.py\", line 16, in <module>\n",
      "    app.launch_new_instance()\n",
      "  File \"C:\\Users\\Marina\\Anaconda3\\envs\\DLC-GPU\\lib\\site-packages\\traitlets\\config\\application.py\", line 845, in launch_instance\n",
      "    app.start()\n",
      "  File \"C:\\Users\\Marina\\Anaconda3\\envs\\DLC-GPU\\lib\\site-packages\\ipykernel\\kernelapp.py\", line 612, in start\n",
      "    self.io_loop.start()\n",
      "  File \"C:\\Users\\Marina\\Anaconda3\\envs\\DLC-GPU\\lib\\site-packages\\tornado\\platform\\asyncio.py\", line 199, in start\n",
      "    self.asyncio_loop.run_forever()\n",
      "  File \"C:\\Users\\Marina\\Anaconda3\\envs\\DLC-GPU\\lib\\asyncio\\base_events.py\", line 541, in run_forever\n",
      "    self._run_once()\n",
      "  File \"C:\\Users\\Marina\\Anaconda3\\envs\\DLC-GPU\\lib\\asyncio\\base_events.py\", line 1786, in _run_once\n",
      "    handle._run()\n",
      "  File \"C:\\Users\\Marina\\Anaconda3\\envs\\DLC-GPU\\lib\\asyncio\\events.py\", line 88, in _run\n",
      "    self._context.run(self._callback, *self._args)\n",
      "  File \"C:\\Users\\Marina\\Anaconda3\\envs\\DLC-GPU\\lib\\site-packages\\tornado\\ioloop.py\", line 688, in <lambda>\n",
      "    lambda f: self._run_callback(functools.partial(callback, future))\n",
      "  File \"C:\\Users\\Marina\\Anaconda3\\envs\\DLC-GPU\\lib\\site-packages\\tornado\\ioloop.py\", line 741, in _run_callback\n",
      "    ret = callback()\n",
      "  File \"C:\\Users\\Marina\\Anaconda3\\envs\\DLC-GPU\\lib\\site-packages\\tornado\\gen.py\", line 814, in inner\n",
      "    self.ctx_run(self.run)\n",
      "  File \"C:\\Users\\Marina\\Anaconda3\\envs\\DLC-GPU\\lib\\site-packages\\tornado\\gen.py\", line 775, in run\n",
      "    yielded = self.gen.send(value)\n",
      "  File \"C:\\Users\\Marina\\Anaconda3\\envs\\DLC-GPU\\lib\\site-packages\\ipykernel\\kernelbase.py\", line 365, in process_one\n",
      "    yield gen.maybe_future(dispatch(*args))\n",
      "  File \"C:\\Users\\Marina\\Anaconda3\\envs\\DLC-GPU\\lib\\site-packages\\tornado\\gen.py\", line 234, in wrapper\n",
      "    yielded = ctx_run(next, result)\n",
      "  File \"C:\\Users\\Marina\\Anaconda3\\envs\\DLC-GPU\\lib\\site-packages\\ipykernel\\kernelbase.py\", line 268, in dispatch_shell\n",
      "    yield gen.maybe_future(handler(stream, idents, msg))\n",
      "  File \"C:\\Users\\Marina\\Anaconda3\\envs\\DLC-GPU\\lib\\site-packages\\tornado\\gen.py\", line 234, in wrapper\n",
      "    yielded = ctx_run(next, result)\n",
      "  File \"C:\\Users\\Marina\\Anaconda3\\envs\\DLC-GPU\\lib\\site-packages\\ipykernel\\kernelbase.py\", line 545, in execute_request\n",
      "    user_expressions, allow_stdin,\n",
      "  File \"C:\\Users\\Marina\\Anaconda3\\envs\\DLC-GPU\\lib\\site-packages\\tornado\\gen.py\", line 234, in wrapper\n",
      "    yielded = ctx_run(next, result)\n",
      "  File \"C:\\Users\\Marina\\Anaconda3\\envs\\DLC-GPU\\lib\\site-packages\\ipykernel\\ipkernel.py\", line 306, in do_execute\n",
      "    res = shell.run_cell(code, store_history=store_history, silent=silent)\n",
      "  File \"C:\\Users\\Marina\\Anaconda3\\envs\\DLC-GPU\\lib\\site-packages\\ipykernel\\zmqshell.py\", line 536, in run_cell\n",
      "    return super(ZMQInteractiveShell, self).run_cell(*args, **kwargs)\n",
      "  File \"C:\\Users\\Marina\\Anaconda3\\envs\\DLC-GPU\\lib\\site-packages\\IPython\\core\\interactiveshell.py\", line 2887, in run_cell\n",
      "    raw_cell, store_history, silent, shell_futures)\n",
      "  File \"C:\\Users\\Marina\\Anaconda3\\envs\\DLC-GPU\\lib\\site-packages\\IPython\\core\\interactiveshell.py\", line 2932, in _run_cell\n",
      "    return runner(coro)\n",
      "  File \"C:\\Users\\Marina\\Anaconda3\\envs\\DLC-GPU\\lib\\site-packages\\IPython\\core\\async_helpers.py\", line 68, in _pseudo_sync_runner\n",
      "    coro.send(None)\n",
      "  File \"C:\\Users\\Marina\\Anaconda3\\envs\\DLC-GPU\\lib\\site-packages\\IPython\\core\\interactiveshell.py\", line 3156, in run_cell_async\n",
      "    interactivity=interactivity, compiler=compiler, result=result)\n",
      "  File \"C:\\Users\\Marina\\Anaconda3\\envs\\DLC-GPU\\lib\\site-packages\\IPython\\core\\interactiveshell.py\", line 3347, in run_ast_nodes\n",
      "    if (await self.run_code(code, result,  async_=asy)):\n",
      "  File \"C:\\Users\\Marina\\Anaconda3\\envs\\DLC-GPU\\lib\\site-packages\\IPython\\core\\interactiveshell.py\", line 3427, in run_code\n",
      "    exec(code_obj, self.user_global_ns, self.user_ns)\n",
      "  File \"<ipython-input-7-7e3f40db92d4>\", line 1, in <module>\n",
      "    deeplabcut.train_network(path_config_file)\n",
      "  File \"C:\\Users\\Marina\\Anaconda3\\envs\\DLC-GPU\\lib\\site-packages\\deeplabcut\\pose_estimation_tensorflow\\training.py\", line 189, in train_network\n",
      "    allow_growth=allow_growth,\n",
      "  File \"C:\\Users\\Marina\\Anaconda3\\envs\\DLC-GPU\\lib\\site-packages\\deeplabcut\\pose_estimation_tensorflow\\train.py\", line 180, in train\n",
      "    batch, enqueue_op, placeholders = setup_preloading(batch_spec)\n",
      "  File \"C:\\Users\\Marina\\Anaconda3\\envs\\DLC-GPU\\lib\\site-packages\\deeplabcut\\pose_estimation_tensorflow\\train.py\", line 77, in setup_preloading\n",
      "    enqueue_op = q.enqueue(placeholders_list)\n",
      "  File \"C:\\Users\\Marina\\Anaconda3\\envs\\DLC-GPU\\lib\\site-packages\\tensorflow\\python\\ops\\data_flow_ops.py\", line 345, in enqueue\n",
      "    self._queue_ref, vals, name=scope)\n",
      "  File \"C:\\Users\\Marina\\Anaconda3\\envs\\DLC-GPU\\lib\\site-packages\\tensorflow\\python\\ops\\gen_data_flow_ops.py\", line 4158, in queue_enqueue_v2\n",
      "    timeout_ms=timeout_ms, name=name)\n",
      "  File \"C:\\Users\\Marina\\Anaconda3\\envs\\DLC-GPU\\lib\\site-packages\\tensorflow\\python\\framework\\op_def_library.py\", line 788, in _apply_op_helper\n",
      "    op_def=op_def)\n",
      "  File \"C:\\Users\\Marina\\Anaconda3\\envs\\DLC-GPU\\lib\\site-packages\\tensorflow\\python\\util\\deprecation.py\", line 507, in new_func\n",
      "    return func(*args, **kwargs)\n",
      "  File \"C:\\Users\\Marina\\Anaconda3\\envs\\DLC-GPU\\lib\\site-packages\\tensorflow\\python\\framework\\ops.py\", line 3300, in create_op\n",
      "    op_def=op_def)\n",
      "  File \"C:\\Users\\Marina\\Anaconda3\\envs\\DLC-GPU\\lib\\site-packages\\tensorflow\\python\\framework\\ops.py\", line 1801, in __init__\n",
      "    self._traceback = tf_stack.extract_stack()\n",
      "\n",
      "CancelledError (see above for traceback): Enqueue operation was cancelled\n",
      "\t [[node fifo_queue_enqueue (defined at C:\\Users\\Marina\\Anaconda3\\envs\\DLC-GPU\\lib\\site-packages\\deeplabcut\\pose_estimation_tensorflow\\train.py:77) ]]\n",
      "\n",
      "\n"
     ]
    }
   ],
   "source": [
    "deeplabcut.train_network(path_config_file)"
   ]
  },
  {
   "cell_type": "markdown",
   "metadata": {
    "colab_type": "text",
    "id": "xZygsb2DoEJc"
   },
   "source": [
    "## Start evaluating\n",
    "This funtion evaluates a trained model for a specific shuffle/shuffles at a particular state or all the states on the data set (images)\n",
    "and stores the results as .csv file in a subdirectory under **evaluation-results**"
   ]
  },
  {
   "cell_type": "code",
   "execution_count": 6,
   "metadata": {},
   "outputs": [],
   "source": [
    "deeplabcut.train_network?"
   ]
  },
  {
   "cell_type": "code",
   "execution_count": 8,
   "metadata": {
    "colab": {},
    "colab_type": "code",
    "id": "nv4zlbrnoEJg",
    "scrolled": true
   },
   "outputs": [
    {
     "name": "stderr",
     "output_type": "stream",
     "text": [
      "Config:\n",
      "{'all_joints': [[0], [1], [2], [3], [4], [5], [6], [7], [8], [9], [10], [11]],\n",
      " 'all_joints_names': ['pupilW',\n",
      "                      'pupilNW',\n",
      "                      'pupilN',\n",
      "                      'pupilNE',\n",
      "                      'pupilE',\n",
      "                      'pupilSE',\n",
      "                      'pupilS',\n",
      "                      'pupilSW',\n",
      "                      'eyeCornerTemp',\n",
      "                      'eyeCornerNasal',\n",
      "                      'CRW',\n",
      "                      'CRE'],\n",
      " 'batch_size': 1,\n",
      " 'crop_pad': 0,\n",
      " 'dataset': 'training-datasets\\\\iteration-0\\\\UnaugmentedDataSet_EyeTrackingMar1\\\\EyeTracking_Marina95shuffle1.mat',\n",
      " 'dataset_type': 'imgaug',\n",
      " 'deterministic': False,\n",
      " 'fg_fraction': 0.25,\n",
      " 'global_scale': 0.8,\n",
      " 'init_weights': 'C:\\\\Users\\\\Marina\\\\Anaconda3\\\\envs\\\\DLC-GPU\\\\lib\\\\site-packages\\\\deeplabcut\\\\pose_estimation_tensorflow\\\\models\\\\pretrained\\\\resnet_v1_50.ckpt',\n",
      " 'intermediate_supervision': False,\n",
      " 'intermediate_supervision_layer': 12,\n",
      " 'location_refinement': True,\n",
      " 'locref_huber_loss': True,\n",
      " 'locref_loss_weight': 1.0,\n",
      " 'locref_stdev': 7.2801,\n",
      " 'log_dir': 'log',\n",
      " 'mean_pixel': [123.68, 116.779, 103.939],\n",
      " 'mirror': False,\n",
      " 'net_type': 'resnet_50',\n",
      " 'num_joints': 12,\n",
      " 'optimizer': 'sgd',\n",
      " 'pairwise_huber_loss': True,\n",
      " 'pairwise_predict': False,\n",
      " 'partaffinityfield_predict': False,\n",
      " 'regularize': False,\n",
      " 'scoremap_dir': 'test',\n",
      " 'shuffle': True,\n",
      " 'snapshot_prefix': 'D:\\\\PetreanuLab\\\\Code\\\\DeepLabCut\\\\examples\\\\EyeTracking-Marina-2021-03-01\\\\dlc-models\\\\iteration-0\\\\EyeTrackingMar1-trainset95shuffle1\\\\test\\\\snapshot',\n",
      " 'stride': 8.0,\n",
      " 'weigh_negatives': False,\n",
      " 'weigh_only_present_joints': False,\n",
      " 'weigh_part_predictions': False,\n",
      " 'weight_decay': 0.0001}\n"
     ]
    },
    {
     "name": "stdout",
     "output_type": "stream",
     "text": [
      "Running  DLC_resnet_50_EyeTrackingMar1shuffle1_200000  with # of trainingiterations: 200000\n",
      "Initializing ResNet\n"
     ]
    },
    {
     "name": "stderr",
     "output_type": "stream",
     "text": [
      "\r",
      "0it [00:00, ?it/s]"
     ]
    },
    {
     "name": "stdout",
     "output_type": "stream",
     "text": [
      "Analyzing data...\n"
     ]
    },
    {
     "name": "stderr",
     "output_type": "stream",
     "text": [
      "280it [00:06, 40.37it/s]\n",
      "  0%|                                                                                          | 0/280 [00:00<?, ?it/s]"
     ]
    },
    {
     "name": "stdout",
     "output_type": "stream",
     "text": [
      "Done and results stored for snapshot:  snapshot-200000\n",
      "Results for 200000  training iterations: 95 1 train error: 2.25 pixels. Test error: 3.35  pixels.\n",
      "With pcutoff of 0.6  train error: 2.25 pixels. Test error: 3.34 pixels\n",
      "Thereby, the errors are given by the average distances between the labels by DLC and the scorer.\n",
      "Plotting...\n"
     ]
    },
    {
     "name": "stderr",
     "output_type": "stream",
     "text": [
      "100%|████████████████████████████████████████████████████████████████████████████████| 280/280 [01:39<00:00,  2.81it/s]"
     ]
    },
    {
     "name": "stdout",
     "output_type": "stream",
     "text": [
      "The network is evaluated and the results are stored in the subdirectory 'evaluation_results'.\n",
      "If it generalizes well, choose the best model for prediction and update the config file with the appropriate index for the 'snapshotindex'.\n",
      "Use the function 'analyze_video' to make predictions on new videos.\n",
      "Otherwise consider retraining the network (see DeepLabCut workflow Fig 2)\n"
     ]
    },
    {
     "name": "stderr",
     "output_type": "stream",
     "text": [
      "\n"
     ]
    }
   ],
   "source": [
    "deeplabcut.evaluate_network(path_config_file, plotting=True)"
   ]
  },
  {
   "cell_type": "markdown",
   "metadata": {
    "colab_type": "text",
    "id": "OVFLSKKfoEJk"
   },
   "source": [
    "## Start Analyzing videos\n",
    "This function analyzes the new video. The user can choose the best model from the evaluation results and specify the correct snapshot index for the variable **snapshotindex** in the **config.yaml** file. Otherwise, by default the most recent snapshot is used to analyse the video.\n",
    "\n",
    "The results are stored in hd5 file in the same directory where the video resides. "
   ]
  },
  {
   "cell_type": "code",
   "execution_count": 3,
   "metadata": {
    "colab": {},
    "colab_type": "code",
    "id": "Y_LZiS_0oEJl",
    "scrolled": true
   },
   "outputs": [
    {
     "name": "stdout",
     "output_type": "stream",
     "text": [
      "Using snapshot-200000 for model D:\\PetreanuLab\\Code\\DeepLabCut\\examples\\EyeTracking-Marina-2021-03-01\\dlc-models\\iteration-0\\EyeTrackingMar1-trainset95shuffle1\n",
      "Initializing ResNet\n",
      "Analyzing all the videos in the directory...\n",
      "Starting to analyze %  E:\\Imaging2AFCPop\\eye tracking\\110516\\MF209_110516_12a_FIXED_132.avi\n",
      "E:\\Imaging2AFCPop\\eye tracking\\110516  already exists!\n",
      "Loading  E:\\Imaging2AFCPop\\eye tracking\\110516\\MF209_110516_12a_FIXED_132.avi\n"
     ]
    },
    {
     "name": "stderr",
     "output_type": "stream",
     "text": [
      "\r",
      "  0%|                                                                                         | 0/1538 [00:00<?, ?it/s]"
     ]
    },
    {
     "name": "stdout",
     "output_type": "stream",
     "text": [
      "Duration of video [s]:  17.09 , recorded with  90.0 fps!\n",
      "Overall # of frames:  1538  found with (before cropping) frame dimensions:  224 180\n",
      "Starting to extract posture\n"
     ]
    },
    {
     "name": "stderr",
     "output_type": "stream",
     "text": [
      "1545it [00:12, 122.31it/s]                                                                                             \n"
     ]
    },
    {
     "name": "stdout",
     "output_type": "stream",
     "text": [
      "Saving results in E:\\Imaging2AFCPop\\eye tracking\\110516...\n",
      "Saving csv poses!\n"
     ]
    },
    {
     "name": "stderr",
     "output_type": "stream",
     "text": [
      "  2%|█▌                                                                             | 56/2875 [00:00<00:06, 402.91it/s]"
     ]
    },
    {
     "name": "stdout",
     "output_type": "stream",
     "text": [
      "Starting to analyze %  E:\\Imaging2AFCPop\\eye tracking\\110516\\MF209_110516_12a_FIXED_262.avi\n",
      "E:\\Imaging2AFCPop\\eye tracking\\110516  already exists!\n",
      "Loading  E:\\Imaging2AFCPop\\eye tracking\\110516\\MF209_110516_12a_FIXED_262.avi\n",
      "Duration of video [s]:  31.94 , recorded with  90.0 fps!\n",
      "Overall # of frames:  2875  found with (before cropping) frame dimensions:  224 180\n",
      "Starting to extract posture\n"
     ]
    },
    {
     "name": "stderr",
     "output_type": "stream",
     "text": [
      "2884it [00:15, 189.76it/s]                                                                                             \n"
     ]
    },
    {
     "name": "stdout",
     "output_type": "stream",
     "text": [
      "Saving results in E:\\Imaging2AFCPop\\eye tracking\\110516...\n",
      "Saving csv poses!\n"
     ]
    },
    {
     "name": "stderr",
     "output_type": "stream",
     "text": [
      "  3%|██▎                                                                            | 42/1400 [00:00<00:04, 324.33it/s]"
     ]
    },
    {
     "name": "stdout",
     "output_type": "stream",
     "text": [
      "Starting to analyze %  E:\\Imaging2AFCPop\\eye tracking\\110516\\MF209_110516_12a_FIXED_104.avi\n",
      "E:\\Imaging2AFCPop\\eye tracking\\110516  already exists!\n",
      "Loading  E:\\Imaging2AFCPop\\eye tracking\\110516\\MF209_110516_12a_FIXED_104.avi\n",
      "Duration of video [s]:  15.56 , recorded with  90.0 fps!\n",
      "Overall # of frames:  1400  found with (before cropping) frame dimensions:  224 180\n",
      "Starting to extract posture\n"
     ]
    },
    {
     "name": "stderr",
     "output_type": "stream",
     "text": [
      "1414it [00:07, 195.34it/s]                                                                                             \n"
     ]
    },
    {
     "name": "stdout",
     "output_type": "stream",
     "text": [
      "Saving results in E:\\Imaging2AFCPop\\eye tracking\\110516...\n",
      "Saving csv poses!\n"
     ]
    },
    {
     "name": "stderr",
     "output_type": "stream",
     "text": [
      "  6%|████▋                                                                           | 40/678 [00:00<00:02, 312.52it/s]"
     ]
    },
    {
     "name": "stdout",
     "output_type": "stream",
     "text": [
      "Starting to analyze %  E:\\Imaging2AFCPop\\eye tracking\\110516\\MF209_110516_12a_FIXED_079.avi\n",
      "E:\\Imaging2AFCPop\\eye tracking\\110516  already exists!\n",
      "Loading  E:\\Imaging2AFCPop\\eye tracking\\110516\\MF209_110516_12a_FIXED_079.avi\n",
      "Duration of video [s]:  7.53 , recorded with  90.0 fps!\n",
      "Overall # of frames:  678  found with (before cropping) frame dimensions:  224 180\n",
      "Starting to extract posture\n"
     ]
    },
    {
     "name": "stderr",
     "output_type": "stream",
     "text": [
      "680it [00:03, 187.53it/s]                                                                                              \n",
      "  0%|                                                                                         | 0/1369 [00:00<?, ?it/s]"
     ]
    },
    {
     "name": "stdout",
     "output_type": "stream",
     "text": [
      "Saving results in E:\\Imaging2AFCPop\\eye tracking\\110516...\n",
      "Saving csv poses!\n",
      "Starting to analyze %  E:\\Imaging2AFCPop\\eye tracking\\110516\\MF209_110516_12a_FIXED_163.avi\n",
      "E:\\Imaging2AFCPop\\eye tracking\\110516  already exists!\n",
      "Loading  E:\\Imaging2AFCPop\\eye tracking\\110516\\MF209_110516_12a_FIXED_163.avi\n",
      "Duration of video [s]:  15.21 , recorded with  90.0 fps!\n",
      "Overall # of frames:  1369  found with (before cropping) frame dimensions:  224 180\n",
      "Starting to extract posture\n"
     ]
    },
    {
     "name": "stderr",
     "output_type": "stream",
     "text": [
      "1378it [00:07, 194.90it/s]                                                                                             \n"
     ]
    },
    {
     "name": "stdout",
     "output_type": "stream",
     "text": [
      "Saving results in E:\\Imaging2AFCPop\\eye tracking\\110516...\n",
      "Saving csv poses!\n"
     ]
    },
    {
     "name": "stderr",
     "output_type": "stream",
     "text": [
      "  3%|██▎                                                                            | 36/1262 [00:00<00:04, 297.54it/s]"
     ]
    },
    {
     "name": "stdout",
     "output_type": "stream",
     "text": [
      "Starting to analyze %  E:\\Imaging2AFCPop\\eye tracking\\110516\\MF209_110516_12a_FIXED_247.avi\n",
      "E:\\Imaging2AFCPop\\eye tracking\\110516  already exists!\n",
      "Loading  E:\\Imaging2AFCPop\\eye tracking\\110516\\MF209_110516_12a_FIXED_247.avi\n",
      "Duration of video [s]:  14.02 , recorded with  90.0 fps!\n",
      "Overall # of frames:  1262  found with (before cropping) frame dimensions:  224 180\n",
      "Starting to extract posture\n"
     ]
    },
    {
     "name": "stderr",
     "output_type": "stream",
     "text": [
      "1272it [00:06, 194.34it/s]                                                                                             \n"
     ]
    },
    {
     "name": "stdout",
     "output_type": "stream",
     "text": [
      "Saving results in E:\\Imaging2AFCPop\\eye tracking\\110516...\n",
      "Saving csv poses!\n"
     ]
    },
    {
     "name": "stderr",
     "output_type": "stream",
     "text": [
      "  9%|██████▉                                                                         | 40/462 [00:00<00:01, 303.10it/s]"
     ]
    },
    {
     "name": "stdout",
     "output_type": "stream",
     "text": [
      "Starting to analyze %  E:\\Imaging2AFCPop\\eye tracking\\110516\\MF209_110516_12a_FIXED_242.avi\n",
      "E:\\Imaging2AFCPop\\eye tracking\\110516  already exists!\n",
      "Loading  E:\\Imaging2AFCPop\\eye tracking\\110516\\MF209_110516_12a_FIXED_242.avi\n",
      "Duration of video [s]:  5.13 , recorded with  90.0 fps!\n",
      "Overall # of frames:  462  found with (before cropping) frame dimensions:  224 180\n",
      "Starting to extract posture\n"
     ]
    },
    {
     "name": "stderr",
     "output_type": "stream",
     "text": [
      "470it [00:02, 198.31it/s]                                                                                              \n",
      "  0%|                                                                                         | 0/1016 [00:00<?, ?it/s]"
     ]
    },
    {
     "name": "stdout",
     "output_type": "stream",
     "text": [
      "Saving results in E:\\Imaging2AFCPop\\eye tracking\\110516...\n",
      "Saving csv poses!\n",
      "Starting to analyze %  E:\\Imaging2AFCPop\\eye tracking\\110516\\MF209_110516_12a_FIXED_226.avi\n",
      "E:\\Imaging2AFCPop\\eye tracking\\110516  already exists!\n",
      "Loading  E:\\Imaging2AFCPop\\eye tracking\\110516\\MF209_110516_12a_FIXED_226.avi\n",
      "Duration of video [s]:  11.29 , recorded with  90.0 fps!\n",
      "Overall # of frames:  1016  found with (before cropping) frame dimensions:  224 180\n",
      "Starting to extract posture\n"
     ]
    },
    {
     "name": "stderr",
     "output_type": "stream",
     "text": [
      "1020it [00:05, 199.18it/s]                                                                                             \n"
     ]
    },
    {
     "name": "stdout",
     "output_type": "stream",
     "text": [
      "Saving results in E:\\Imaging2AFCPop\\eye tracking\\110516...\n",
      "Saving csv poses!\n",
      "Starting to analyze %  E:\\Imaging2AFCPop\\eye tracking\\110516\\MF209_110516_12a_FIXED_162.avi\n",
      "E:\\Imaging2AFCPop\\eye tracking\\110516  already exists!\n",
      "Loading  E:\\Imaging2AFCPop\\eye tracking\\110516\\MF209_110516_12a_FIXED_162.avi\n"
     ]
    },
    {
     "name": "stderr",
     "output_type": "stream",
     "text": [
      "  6%|█████                                                                           | 40/631 [00:00<00:01, 313.61it/s]"
     ]
    },
    {
     "name": "stdout",
     "output_type": "stream",
     "text": [
      "Duration of video [s]:  7.01 , recorded with  90.0 fps!\n",
      "Overall # of frames:  631  found with (before cropping) frame dimensions:  224 180\n",
      "Starting to extract posture\n"
     ]
    },
    {
     "name": "stderr",
     "output_type": "stream",
     "text": [
      "640it [00:03, 196.90it/s]                                                                                              \n",
      "  0%|                                                                                          | 0/846 [00:00<?, ?it/s]"
     ]
    },
    {
     "name": "stdout",
     "output_type": "stream",
     "text": [
      "Saving results in E:\\Imaging2AFCPop\\eye tracking\\110516...\n",
      "Saving csv poses!\n",
      "Starting to analyze %  E:\\Imaging2AFCPop\\eye tracking\\110516\\MF209_110516_12a_FIXED_032.avi\n",
      "E:\\Imaging2AFCPop\\eye tracking\\110516  already exists!\n",
      "Loading  E:\\Imaging2AFCPop\\eye tracking\\110516\\MF209_110516_12a_FIXED_032.avi\n",
      "Duration of video [s]:  9.4 , recorded with  90.0 fps!\n",
      "Overall # of frames:  846  found with (before cropping) frame dimensions:  224 180\n",
      "Starting to extract posture\n"
     ]
    },
    {
     "name": "stderr",
     "output_type": "stream",
     "text": [
      "850it [00:04, 195.84it/s]                                                                                              \n",
      "  0%|                                                                                          | 0/831 [00:00<?, ?it/s]"
     ]
    },
    {
     "name": "stdout",
     "output_type": "stream",
     "text": [
      "Saving results in E:\\Imaging2AFCPop\\eye tracking\\110516...\n",
      "Saving csv poses!\n",
      "Starting to analyze %  E:\\Imaging2AFCPop\\eye tracking\\110516\\MF209_110516_12a_FIXED_010.avi\n",
      "E:\\Imaging2AFCPop\\eye tracking\\110516  already exists!\n",
      "Loading  E:\\Imaging2AFCPop\\eye tracking\\110516\\MF209_110516_12a_FIXED_010.avi\n",
      "Duration of video [s]:  9.23 , recorded with  90.0 fps!\n",
      "Overall # of frames:  831  found with (before cropping) frame dimensions:  224 180\n",
      "Starting to extract posture\n"
     ]
    },
    {
     "name": "stderr",
     "output_type": "stream",
     "text": [
      "840it [00:04, 196.46it/s]                                                                                              \n"
     ]
    },
    {
     "name": "stdout",
     "output_type": "stream",
     "text": [
      "Saving results in E:\\Imaging2AFCPop\\eye tracking\\110516...\n",
      "Saving csv poses!\n",
      "Starting to analyze %  E:\\Imaging2AFCPop\\eye tracking\\110516\\MF209_110516_12a_FIXED_028.avi\n",
      "E:\\Imaging2AFCPop\\eye tracking\\110516  already exists!\n",
      "Loading  E:\\Imaging2AFCPop\\eye tracking\\110516\\MF209_110516_12a_FIXED_028.avi\n",
      "Duration of video [s]:  5.31 , recorded with  90.0 fps!\n",
      "Overall # of frames:  478  found with (before cropping) frame dimensions:  224 180\n",
      "Starting to extract posture\n"
     ]
    },
    {
     "name": "stderr",
     "output_type": "stream",
     "text": [
      "480it [00:02, 195.20it/s]                                                                                              \n",
      "  0%|                                                                                          | 0/477 [00:00<?, ?it/s]"
     ]
    },
    {
     "name": "stdout",
     "output_type": "stream",
     "text": [
      "Saving results in E:\\Imaging2AFCPop\\eye tracking\\110516...\n",
      "Saving csv poses!\n",
      "Starting to analyze %  E:\\Imaging2AFCPop\\eye tracking\\110516\\MF209_110516_12a_FIXED_165.avi\n",
      "E:\\Imaging2AFCPop\\eye tracking\\110516  already exists!\n",
      "Loading  E:\\Imaging2AFCPop\\eye tracking\\110516\\MF209_110516_12a_FIXED_165.avi\n",
      "Duration of video [s]:  5.3 , recorded with  90.0 fps!\n",
      "Overall # of frames:  477  found with (before cropping) frame dimensions:  224 180\n",
      "Starting to extract posture\n"
     ]
    },
    {
     "name": "stderr",
     "output_type": "stream",
     "text": [
      "480it [00:02, 195.07it/s]                                                                                              \n",
      "  0%|                                                                                          | 0/892 [00:00<?, ?it/s]"
     ]
    },
    {
     "name": "stdout",
     "output_type": "stream",
     "text": [
      "Saving results in E:\\Imaging2AFCPop\\eye tracking\\110516...\n",
      "Saving csv poses!\n",
      "Starting to analyze %  E:\\Imaging2AFCPop\\eye tracking\\110516\\MF209_110516_12a_FIXED_080.avi\n",
      "E:\\Imaging2AFCPop\\eye tracking\\110516  already exists!\n",
      "Loading  E:\\Imaging2AFCPop\\eye tracking\\110516\\MF209_110516_12a_FIXED_080.avi\n",
      "Duration of video [s]:  9.91 , recorded with  90.0 fps!\n",
      "Overall # of frames:  892  found with (before cropping) frame dimensions:  224 180\n",
      "Starting to extract posture\n"
     ]
    },
    {
     "name": "stderr",
     "output_type": "stream",
     "text": [
      "900it [00:04, 195.30it/s]                                                                                              \n"
     ]
    },
    {
     "name": "stdout",
     "output_type": "stream",
     "text": [
      "Saving results in E:\\Imaging2AFCPop\\eye tracking\\110516...\n",
      "Saving csv poses!\n",
      "Starting to analyze %  E:\\Imaging2AFCPop\\eye tracking\\110516\\MF209_110516_12a_FIXED_190.avi\n",
      "E:\\Imaging2AFCPop\\eye tracking\\110516  already exists!\n",
      "Loading  E:\\Imaging2AFCPop\\eye tracking\\110516\\MF209_110516_12a_FIXED_190.avi\n",
      "Duration of video [s]:  12.48 , recorded with  90.0 fps!\n",
      "Overall # of frames:  1123  found with (before cropping) frame dimensions:  224 180\n"
     ]
    },
    {
     "name": "stderr",
     "output_type": "stream",
     "text": [
      "  4%|███                                                                            | 44/1123 [00:00<00:04, 268.68it/s]"
     ]
    },
    {
     "name": "stdout",
     "output_type": "stream",
     "text": [
      "Starting to extract posture\n"
     ]
    },
    {
     "name": "stderr",
     "output_type": "stream",
     "text": [
      "1133it [00:05, 196.00it/s]                                                                                             \n"
     ]
    },
    {
     "name": "stdout",
     "output_type": "stream",
     "text": [
      "Saving results in E:\\Imaging2AFCPop\\eye tracking\\110516...\n",
      "Saving csv poses!\n",
      "Starting to analyze %  E:\\Imaging2AFCPop\\eye tracking\\110516\\MF209_110516_12a_FIXED_168.avi\n",
      "E:\\Imaging2AFCPop\\eye tracking\\110516  already exists!\n",
      "Loading  E:\\Imaging2AFCPop\\eye tracking\\110516\\MF209_110516_12a_FIXED_168.avi\n"
     ]
    },
    {
     "name": "stderr",
     "output_type": "stream",
     "text": [
      "  7%|█████▉                                                                          | 40/539 [00:00<00:01, 321.32it/s]"
     ]
    },
    {
     "name": "stdout",
     "output_type": "stream",
     "text": [
      "Duration of video [s]:  5.99 , recorded with  90.0 fps!\n",
      "Overall # of frames:  539  found with (before cropping) frame dimensions:  224 180\n",
      "Starting to extract posture\n"
     ]
    },
    {
     "name": "stderr",
     "output_type": "stream",
     "text": [
      "540it [00:02, 192.93it/s]                                                                                              \n",
      "  0%|                                                                                          | 0/462 [00:00<?, ?it/s]"
     ]
    },
    {
     "name": "stdout",
     "output_type": "stream",
     "text": [
      "Saving results in E:\\Imaging2AFCPop\\eye tracking\\110516...\n",
      "Saving csv poses!\n",
      "Starting to analyze %  E:\\Imaging2AFCPop\\eye tracking\\110516\\MF209_110516_12a_FIXED_145.avi\n",
      "E:\\Imaging2AFCPop\\eye tracking\\110516  already exists!\n",
      "Loading  E:\\Imaging2AFCPop\\eye tracking\\110516\\MF209_110516_12a_FIXED_145.avi\n",
      "Duration of video [s]:  5.13 , recorded with  90.0 fps!\n",
      "Overall # of frames:  462  found with (before cropping) frame dimensions:  224 180\n",
      "Starting to extract posture\n"
     ]
    },
    {
     "name": "stderr",
     "output_type": "stream",
     "text": [
      "470it [00:02, 197.30it/s]                                                                                              \n",
      "  0%|                                                                                          | 0/446 [00:00<?, ?it/s]"
     ]
    },
    {
     "name": "stdout",
     "output_type": "stream",
     "text": [
      "Saving results in E:\\Imaging2AFCPop\\eye tracking\\110516...\n",
      "Saving csv poses!\n",
      "Starting to analyze %  E:\\Imaging2AFCPop\\eye tracking\\110516\\MF209_110516_12a_FIXED_119.avi\n",
      "E:\\Imaging2AFCPop\\eye tracking\\110516  already exists!\n",
      "Loading  E:\\Imaging2AFCPop\\eye tracking\\110516\\MF209_110516_12a_FIXED_119.avi\n",
      "Duration of video [s]:  4.96 , recorded with  90.0 fps!\n",
      "Overall # of frames:  446  found with (before cropping) frame dimensions:  224 180\n",
      "Starting to extract posture\n"
     ]
    },
    {
     "name": "stderr",
     "output_type": "stream",
     "text": [
      "450it [00:02, 194.57it/s]                                                                                              \n",
      "  0%|                                                                                          | 0/477 [00:00<?, ?it/s]"
     ]
    },
    {
     "name": "stdout",
     "output_type": "stream",
     "text": [
      "Saving results in E:\\Imaging2AFCPop\\eye tracking\\110516...\n",
      "Saving csv poses!\n",
      "Starting to analyze %  E:\\Imaging2AFCPop\\eye tracking\\110516\\MF209_110516_12a_FIXED_015.avi\n",
      "E:\\Imaging2AFCPop\\eye tracking\\110516  already exists!\n",
      "Loading  E:\\Imaging2AFCPop\\eye tracking\\110516\\MF209_110516_12a_FIXED_015.avi\n",
      "Duration of video [s]:  5.3 , recorded with  90.0 fps!\n",
      "Overall # of frames:  477  found with (before cropping) frame dimensions:  224 180\n",
      "Starting to extract posture\n"
     ]
    },
    {
     "name": "stderr",
     "output_type": "stream",
     "text": [
      "480it [00:02, 194.73it/s]                                                                                              \n",
      "  0%|                                                                                         | 0/4490 [00:00<?, ?it/s]"
     ]
    },
    {
     "name": "stdout",
     "output_type": "stream",
     "text": [
      "Saving results in E:\\Imaging2AFCPop\\eye tracking\\110516...\n",
      "Saving csv poses!\n",
      "Starting to analyze %  E:\\Imaging2AFCPop\\eye tracking\\110516\\MF209_110516_12a_FIXED_195.avi\n",
      "E:\\Imaging2AFCPop\\eye tracking\\110516  already exists!\n",
      "Loading  E:\\Imaging2AFCPop\\eye tracking\\110516\\MF209_110516_12a_FIXED_195.avi\n",
      "Duration of video [s]:  49.89 , recorded with  90.0 fps!\n",
      "Overall # of frames:  4490  found with (before cropping) frame dimensions:  224 180\n",
      "Starting to extract posture\n"
     ]
    },
    {
     "name": "stderr",
     "output_type": "stream",
     "text": [
      "4532it [00:22, 198.60it/s]                                                                                             \n"
     ]
    },
    {
     "name": "stdout",
     "output_type": "stream",
     "text": [
      "Saving results in E:\\Imaging2AFCPop\\eye tracking\\110516...\n",
      "Saving csv poses!\n"
     ]
    },
    {
     "name": "stderr",
     "output_type": "stream",
     "text": [
      "  2%|█▌                                                                             | 50/2538 [00:00<00:06, 399.41it/s]"
     ]
    },
    {
     "name": "stdout",
     "output_type": "stream",
     "text": [
      "Starting to analyze %  E:\\Imaging2AFCPop\\eye tracking\\110516\\MF209_110516_12a_FIXED_181.avi\n",
      "E:\\Imaging2AFCPop\\eye tracking\\110516  already exists!\n",
      "Loading  E:\\Imaging2AFCPop\\eye tracking\\110516\\MF209_110516_12a_FIXED_181.avi\n",
      "Duration of video [s]:  28.2 , recorded with  90.0 fps!\n",
      "Overall # of frames:  2538  found with (before cropping) frame dimensions:  224 180\n",
      "Starting to extract posture\n"
     ]
    },
    {
     "name": "stderr",
     "output_type": "stream",
     "text": [
      "2550it [00:13, 194.76it/s]                                                                                             \n"
     ]
    },
    {
     "name": "stdout",
     "output_type": "stream",
     "text": [
      "Saving results in E:\\Imaging2AFCPop\\eye tracking\\110516...\n",
      "Saving csv poses!\n"
     ]
    },
    {
     "name": "stderr",
     "output_type": "stream",
     "text": [
      "  8%|██████                                                                          | 40/523 [00:00<00:01, 295.72it/s]"
     ]
    },
    {
     "name": "stdout",
     "output_type": "stream",
     "text": [
      "Starting to analyze %  E:\\Imaging2AFCPop\\eye tracking\\110516\\MF209_110516_12a_FIXED_044.avi\n",
      "E:\\Imaging2AFCPop\\eye tracking\\110516  already exists!\n",
      "Loading  E:\\Imaging2AFCPop\\eye tracking\\110516\\MF209_110516_12a_FIXED_044.avi\n",
      "Duration of video [s]:  5.81 , recorded with  90.0 fps!\n",
      "Overall # of frames:  523  found with (before cropping) frame dimensions:  224 180\n",
      "Starting to extract posture\n"
     ]
    },
    {
     "name": "stderr",
     "output_type": "stream",
     "text": [
      "530it [00:02, 194.21it/s]                                                                                              \n",
      "  0%|                                                                                         | 0/1492 [00:00<?, ?it/s]"
     ]
    },
    {
     "name": "stdout",
     "output_type": "stream",
     "text": [
      "Saving results in E:\\Imaging2AFCPop\\eye tracking\\110516...\n",
      "Saving csv poses!\n",
      "Starting to analyze %  E:\\Imaging2AFCPop\\eye tracking\\110516\\MF209_110516_12a_FIXED_222.avi\n",
      "E:\\Imaging2AFCPop\\eye tracking\\110516  already exists!\n",
      "Loading  E:\\Imaging2AFCPop\\eye tracking\\110516\\MF209_110516_12a_FIXED_222.avi\n",
      "Duration of video [s]:  16.58 , recorded with  90.0 fps!\n",
      "Overall # of frames:  1492  found with (before cropping) frame dimensions:  224 180\n",
      "Starting to extract posture\n"
     ]
    },
    {
     "name": "stderr",
     "output_type": "stream",
     "text": [
      "1498it [00:07, 194.21it/s]                                                                                             \n"
     ]
    },
    {
     "name": "stdout",
     "output_type": "stream",
     "text": [
      "Saving results in E:\\Imaging2AFCPop\\eye tracking\\110516...\n",
      "Saving csv poses!\n"
     ]
    },
    {
     "name": "stderr",
     "output_type": "stream",
     "text": [
      "  8%|██████▋                                                                         | 40/478 [00:00<00:01, 305.73it/s]"
     ]
    },
    {
     "name": "stdout",
     "output_type": "stream",
     "text": [
      "Starting to analyze %  E:\\Imaging2AFCPop\\eye tracking\\110516\\MF209_110516_12a_FIXED_031.avi\n",
      "E:\\Imaging2AFCPop\\eye tracking\\110516  already exists!\n",
      "Loading  E:\\Imaging2AFCPop\\eye tracking\\110516\\MF209_110516_12a_FIXED_031.avi\n",
      "Duration of video [s]:  5.31 , recorded with  90.0 fps!\n",
      "Overall # of frames:  478  found with (before cropping) frame dimensions:  224 180\n",
      "Starting to extract posture\n"
     ]
    },
    {
     "name": "stderr",
     "output_type": "stream",
     "text": [
      "480it [00:02, 193.95it/s]                                                                                              \n",
      "  0%|                                                                                          | 0/462 [00:00<?, ?it/s]"
     ]
    },
    {
     "name": "stdout",
     "output_type": "stream",
     "text": [
      "Saving results in E:\\Imaging2AFCPop\\eye tracking\\110516...\n",
      "Saving csv poses!\n",
      "Starting to analyze %  E:\\Imaging2AFCPop\\eye tracking\\110516\\MF209_110516_12a_FIXED_108.avi\n",
      "E:\\Imaging2AFCPop\\eye tracking\\110516  already exists!\n",
      "Loading  E:\\Imaging2AFCPop\\eye tracking\\110516\\MF209_110516_12a_FIXED_108.avi\n",
      "Duration of video [s]:  5.13 , recorded with  90.0 fps!\n",
      "Overall # of frames:  462  found with (before cropping) frame dimensions:  224 180\n",
      "Starting to extract posture\n"
     ]
    },
    {
     "name": "stderr",
     "output_type": "stream",
     "text": [
      "470it [00:02, 196.81it/s]                                                                                              \n",
      "  0%|                                                                                          | 0/939 [00:00<?, ?it/s]"
     ]
    },
    {
     "name": "stdout",
     "output_type": "stream",
     "text": [
      "Saving results in E:\\Imaging2AFCPop\\eye tracking\\110516...\n",
      "Saving csv poses!\n",
      "Starting to analyze %  E:\\Imaging2AFCPop\\eye tracking\\110516\\MF209_110516_12a_FIXED_107.avi\n",
      "E:\\Imaging2AFCPop\\eye tracking\\110516  already exists!\n",
      "Loading  E:\\Imaging2AFCPop\\eye tracking\\110516\\MF209_110516_12a_FIXED_107.avi\n",
      "Duration of video [s]:  10.43 , recorded with  90.0 fps!\n",
      "Overall # of frames:  939  found with (before cropping) frame dimensions:  224 180\n",
      "Starting to extract posture\n"
     ]
    },
    {
     "name": "stderr",
     "output_type": "stream",
     "text": [
      "940it [00:04, 193.82it/s]                                                                                              \n"
     ]
    },
    {
     "name": "stdout",
     "output_type": "stream",
     "text": [
      "Saving results in E:\\Imaging2AFCPop\\eye tracking\\110516...\n",
      "Saving csv poses!\n",
      "Starting to analyze %  E:\\Imaging2AFCPop\\eye tracking\\110516\\MF209_110516_12a_FIXED_212.avi\n",
      "E:\\Imaging2AFCPop\\eye tracking\\110516  already exists!\n",
      "Loading  E:\\Imaging2AFCPop\\eye tracking\\110516\\MF209_110516_12a_FIXED_212.avi\n"
     ]
    },
    {
     "name": "stderr",
     "output_type": "stream",
     "text": [
      "  9%|██████▉                                                                         | 40/463 [00:00<00:01, 307.22it/s]"
     ]
    },
    {
     "name": "stdout",
     "output_type": "stream",
     "text": [
      "Duration of video [s]:  5.14 , recorded with  90.0 fps!\n",
      "Overall # of frames:  463  found with (before cropping) frame dimensions:  224 180\n",
      "Starting to extract posture\n"
     ]
    },
    {
     "name": "stderr",
     "output_type": "stream",
     "text": [
      "470it [00:02, 196.86it/s]                                                                                              \n",
      "  0%|                                                                                          | 0/524 [00:00<?, ?it/s]"
     ]
    },
    {
     "name": "stdout",
     "output_type": "stream",
     "text": [
      "Saving results in E:\\Imaging2AFCPop\\eye tracking\\110516...\n",
      "Saving csv poses!\n",
      "Starting to analyze %  E:\\Imaging2AFCPop\\eye tracking\\110516\\MF209_110516_12a_FIXED_121.avi\n",
      "E:\\Imaging2AFCPop\\eye tracking\\110516  already exists!\n",
      "Loading  E:\\Imaging2AFCPop\\eye tracking\\110516\\MF209_110516_12a_FIXED_121.avi\n",
      "Duration of video [s]:  5.82 , recorded with  90.0 fps!\n",
      "Overall # of frames:  524  found with (before cropping) frame dimensions:  224 180\n",
      "Starting to extract posture\n"
     ]
    },
    {
     "name": "stderr",
     "output_type": "stream",
     "text": [
      "530it [00:02, 195.08it/s]                                                                                              \n",
      "  0%|                                                                                         | 0/1939 [00:00<?, ?it/s]"
     ]
    },
    {
     "name": "stdout",
     "output_type": "stream",
     "text": [
      "Saving results in E:\\Imaging2AFCPop\\eye tracking\\110516...\n",
      "Saving csv poses!\n",
      "Starting to analyze %  E:\\Imaging2AFCPop\\eye tracking\\110516\\MF209_110516_12a_FIXED_094.avi\n",
      "E:\\Imaging2AFCPop\\eye tracking\\110516  already exists!\n",
      "Loading  E:\\Imaging2AFCPop\\eye tracking\\110516\\MF209_110516_12a_FIXED_094.avi\n",
      "Duration of video [s]:  21.54 , recorded with  90.0 fps!\n",
      "Overall # of frames:  1939  found with (before cropping) frame dimensions:  224 180\n",
      "Starting to extract posture\n"
     ]
    },
    {
     "name": "stderr",
     "output_type": "stream",
     "text": [
      "1957it [00:09, 196.94it/s]                                                                                             \n"
     ]
    },
    {
     "name": "stdout",
     "output_type": "stream",
     "text": [
      "Saving results in E:\\Imaging2AFCPop\\eye tracking\\110516...\n",
      "Saving csv poses!\n"
     ]
    },
    {
     "name": "stderr",
     "output_type": "stream",
     "text": [
      "  2%|█▌                                                                             | 48/2431 [00:00<00:06, 381.97it/s]"
     ]
    },
    {
     "name": "stdout",
     "output_type": "stream",
     "text": [
      "Starting to analyze %  E:\\Imaging2AFCPop\\eye tracking\\110516\\MF209_110516_12a_FIXED_157.avi\n",
      "E:\\Imaging2AFCPop\\eye tracking\\110516  already exists!\n",
      "Loading  E:\\Imaging2AFCPop\\eye tracking\\110516\\MF209_110516_12a_FIXED_157.avi\n",
      "Duration of video [s]:  27.01 , recorded with  90.0 fps!\n",
      "Overall # of frames:  2431  found with (before cropping) frame dimensions:  224 180\n",
      "Starting to extract posture\n"
     ]
    },
    {
     "name": "stderr",
     "output_type": "stream",
     "text": [
      "2448it [00:12, 195.38it/s]                                                                                             \n"
     ]
    },
    {
     "name": "stdout",
     "output_type": "stream",
     "text": [
      "Saving results in E:\\Imaging2AFCPop\\eye tracking\\110516...\n",
      "Saving csv poses!\n"
     ]
    },
    {
     "name": "stderr",
     "output_type": "stream",
     "text": [
      "  9%|██████▉                                                                         | 40/462 [00:00<00:01, 318.11it/s]"
     ]
    },
    {
     "name": "stdout",
     "output_type": "stream",
     "text": [
      "Starting to analyze %  E:\\Imaging2AFCPop\\eye tracking\\110516\\MF209_110516_12a_FIXED_208.avi\n",
      "E:\\Imaging2AFCPop\\eye tracking\\110516  already exists!\n",
      "Loading  E:\\Imaging2AFCPop\\eye tracking\\110516\\MF209_110516_12a_FIXED_208.avi\n",
      "Duration of video [s]:  5.13 , recorded with  90.0 fps!\n",
      "Overall # of frames:  462  found with (before cropping) frame dimensions:  224 180\n",
      "Starting to extract posture\n"
     ]
    },
    {
     "name": "stderr",
     "output_type": "stream",
     "text": [
      "470it [00:02, 196.27it/s]                                                                                              \n",
      "  0%|                                                                                          | 0/477 [00:00<?, ?it/s]"
     ]
    },
    {
     "name": "stdout",
     "output_type": "stream",
     "text": [
      "Saving results in E:\\Imaging2AFCPop\\eye tracking\\110516...\n",
      "Saving csv poses!\n",
      "Starting to analyze %  E:\\Imaging2AFCPop\\eye tracking\\110516\\MF209_110516_12a_FIXED_184.avi\n",
      "E:\\Imaging2AFCPop\\eye tracking\\110516  already exists!\n",
      "Loading  E:\\Imaging2AFCPop\\eye tracking\\110516\\MF209_110516_12a_FIXED_184.avi\n",
      "Duration of video [s]:  5.3 , recorded with  90.0 fps!\n",
      "Overall # of frames:  477  found with (before cropping) frame dimensions:  224 180\n",
      "Starting to extract posture\n"
     ]
    },
    {
     "name": "stderr",
     "output_type": "stream",
     "text": [
      "480it [00:02, 193.37it/s]                                                                                              \n",
      "  0%|                                                                                         | 0/3604 [00:00<?, ?it/s]"
     ]
    },
    {
     "name": "stdout",
     "output_type": "stream",
     "text": [
      "Saving results in E:\\Imaging2AFCPop\\eye tracking\\110516...\n",
      "Saving csv poses!\n",
      "Starting to analyze %  E:\\Imaging2AFCPop\\eye tracking\\110516\\MF209_110516_12a_FIXED_178.avi\n",
      "E:\\Imaging2AFCPop\\eye tracking\\110516  already exists!\n",
      "Loading  E:\\Imaging2AFCPop\\eye tracking\\110516\\MF209_110516_12a_FIXED_178.avi\n",
      "Duration of video [s]:  40.04 , recorded with  90.0 fps!\n",
      "Overall # of frames:  3604  found with (before cropping) frame dimensions:  224 180\n",
      "Starting to extract posture\n"
     ]
    },
    {
     "name": "stderr",
     "output_type": "stream",
     "text": [
      "3636it [00:18, 197.59it/s]                                                                                             \n"
     ]
    },
    {
     "name": "stdout",
     "output_type": "stream",
     "text": [
      "Saving results in E:\\Imaging2AFCPop\\eye tracking\\110516...\n",
      "Saving csv poses!\n"
     ]
    },
    {
     "name": "stderr",
     "output_type": "stream",
     "text": [
      "  9%|███████▏                                                                        | 40/447 [00:00<00:01, 308.00it/s]"
     ]
    },
    {
     "name": "stdout",
     "output_type": "stream",
     "text": [
      "Starting to analyze %  E:\\Imaging2AFCPop\\eye tracking\\110516\\MF209_110516_12a_FIXED_004.avi\n",
      "E:\\Imaging2AFCPop\\eye tracking\\110516  already exists!\n",
      "Loading  E:\\Imaging2AFCPop\\eye tracking\\110516\\MF209_110516_12a_FIXED_004.avi\n",
      "Duration of video [s]:  4.97 , recorded with  90.0 fps!\n",
      "Overall # of frames:  447  found with (before cropping) frame dimensions:  224 180\n",
      "Starting to extract posture\n"
     ]
    },
    {
     "name": "stderr",
     "output_type": "stream",
     "text": [
      "450it [00:02, 193.91it/s]                                                                                              \n",
      "  0%|                                                                                          | 0/554 [00:00<?, ?it/s]"
     ]
    },
    {
     "name": "stdout",
     "output_type": "stream",
     "text": [
      "Saving results in E:\\Imaging2AFCPop\\eye tracking\\110516...\n",
      "Saving csv poses!\n",
      "Starting to analyze %  E:\\Imaging2AFCPop\\eye tracking\\110516\\MF209_110516_12a_FIXED_084.avi\n",
      "E:\\Imaging2AFCPop\\eye tracking\\110516  already exists!\n",
      "Loading  E:\\Imaging2AFCPop\\eye tracking\\110516\\MF209_110516_12a_FIXED_084.avi\n",
      "Duration of video [s]:  6.16 , recorded with  90.0 fps!\n",
      "Overall # of frames:  554  found with (before cropping) frame dimensions:  224 180\n",
      "Starting to extract posture\n"
     ]
    },
    {
     "name": "stderr",
     "output_type": "stream",
     "text": [
      "560it [00:02, 193.70it/s]                                                                                              \n",
      "  0%|                                                                                          | 0/770 [00:00<?, ?it/s]"
     ]
    },
    {
     "name": "stdout",
     "output_type": "stream",
     "text": [
      "Saving results in E:\\Imaging2AFCPop\\eye tracking\\110516...\n",
      "Saving csv poses!\n",
      "Starting to analyze %  E:\\Imaging2AFCPop\\eye tracking\\110516\\MF209_110516_12a_FIXED_255.avi\n",
      "E:\\Imaging2AFCPop\\eye tracking\\110516  already exists!\n",
      "Loading  E:\\Imaging2AFCPop\\eye tracking\\110516\\MF209_110516_12a_FIXED_255.avi\n",
      "Duration of video [s]:  8.56 , recorded with  90.0 fps!\n",
      "Overall # of frames:  770  found with (before cropping) frame dimensions:  224 180\n",
      "Starting to extract posture\n"
     ]
    },
    {
     "name": "stderr",
     "output_type": "stream",
     "text": [
      "780it [00:03, 195.37it/s]                                                                                              \n"
     ]
    },
    {
     "name": "stdout",
     "output_type": "stream",
     "text": [
      "Saving results in E:\\Imaging2AFCPop\\eye tracking\\110516...\n",
      "Saving csv poses!\n",
      "Starting to analyze %  E:\\Imaging2AFCPop\\eye tracking\\110516\\MF209_110516_12a_FIXED_056.avi\n",
      "E:\\Imaging2AFCPop\\eye tracking\\110516  already exists!\n",
      "Loading  E:\\Imaging2AFCPop\\eye tracking\\110516\\MF209_110516_12a_FIXED_056.avi\n",
      "Duration of video [s]:  5.3 , recorded with  90.0 fps!\n",
      "Overall # of frames:  477  found with (before cropping) frame dimensions: "
     ]
    },
    {
     "name": "stderr",
     "output_type": "stream",
     "text": [
      "  8%|██████▋                                                                         | 40/477 [00:00<00:01, 307.34it/s]"
     ]
    },
    {
     "name": "stdout",
     "output_type": "stream",
     "text": [
      " 224 180\n",
      "Starting to extract posture\n"
     ]
    },
    {
     "name": "stderr",
     "output_type": "stream",
     "text": [
      "480it [00:02, 193.46it/s]                                                                                              \n",
      "  0%|                                                                                         | 0/3230 [00:00<?, ?it/s]"
     ]
    },
    {
     "name": "stdout",
     "output_type": "stream",
     "text": [
      "Saving results in E:\\Imaging2AFCPop\\eye tracking\\110516...\n",
      "Saving csv poses!\n",
      "Starting to analyze %  E:\\Imaging2AFCPop\\eye tracking\\110516\\MF209_110516_12a_FIXED_191.avi\n",
      "E:\\Imaging2AFCPop\\eye tracking\\110516  already exists!\n",
      "Loading  E:\\Imaging2AFCPop\\eye tracking\\110516\\MF209_110516_12a_FIXED_191.avi\n",
      "Duration of video [s]:  35.89 , recorded with  90.0 fps!\n",
      "Overall # of frames:  3230  found with (before cropping) frame dimensions:  224 180\n",
      "Starting to extract posture\n"
     ]
    },
    {
     "name": "stderr",
     "output_type": "stream",
     "text": [
      "3232it [00:16, 195.11it/s]                                                                                             \n"
     ]
    },
    {
     "name": "stdout",
     "output_type": "stream",
     "text": [
      "Saving results in E:\\Imaging2AFCPop\\eye tracking\\110516...\n",
      "Saving csv poses!\n"
     ]
    },
    {
     "name": "stderr",
     "output_type": "stream",
     "text": [
      "  7%|█████▊                                                                          | 40/553 [00:00<00:01, 311.24it/s]"
     ]
    },
    {
     "name": "stdout",
     "output_type": "stream",
     "text": [
      "Starting to analyze %  E:\\Imaging2AFCPop\\eye tracking\\110516\\MF209_110516_12a_FIXED_112.avi\n",
      "E:\\Imaging2AFCPop\\eye tracking\\110516  already exists!\n",
      "Loading  E:\\Imaging2AFCPop\\eye tracking\\110516\\MF209_110516_12a_FIXED_112.avi\n",
      "Duration of video [s]:  6.14 , recorded with  90.0 fps!\n",
      "Overall # of frames:  553  found with (before cropping) frame dimensions:  224 180\n",
      "Starting to extract posture\n"
     ]
    },
    {
     "name": "stderr",
     "output_type": "stream",
     "text": [
      "560it [00:02, 193.80it/s]                                                                                              \n",
      "  0%|                                                                                          | 0/570 [00:00<?, ?it/s]"
     ]
    },
    {
     "name": "stdout",
     "output_type": "stream",
     "text": [
      "Saving results in E:\\Imaging2AFCPop\\eye tracking\\110516...\n",
      "Saving csv poses!\n",
      "Starting to analyze %  E:\\Imaging2AFCPop\\eye tracking\\110516\\MF209_110516_12a_FIXED_013.avi\n",
      "E:\\Imaging2AFCPop\\eye tracking\\110516  already exists!\n",
      "Loading  E:\\Imaging2AFCPop\\eye tracking\\110516\\MF209_110516_12a_FIXED_013.avi\n",
      "Duration of video [s]:  6.33 , recorded with  90.0 fps!\n",
      "Overall # of frames:  570  found with (before cropping) frame dimensions:  224 180\n",
      "Starting to extract posture\n"
     ]
    },
    {
     "name": "stderr",
     "output_type": "stream",
     "text": [
      "580it [00:02, 194.10it/s]                                                                                              \n",
      "  0%|                                                                                          | 0/462 [00:00<?, ?it/s]"
     ]
    },
    {
     "name": "stdout",
     "output_type": "stream",
     "text": [
      "Saving results in E:\\Imaging2AFCPop\\eye tracking\\110516...\n",
      "Saving csv poses!\n",
      "Starting to analyze %  E:\\Imaging2AFCPop\\eye tracking\\110516\\MF209_110516_12a_FIXED_199.avi\n",
      "E:\\Imaging2AFCPop\\eye tracking\\110516  already exists!\n",
      "Loading  E:\\Imaging2AFCPop\\eye tracking\\110516\\MF209_110516_12a_FIXED_199.avi\n",
      "Duration of video [s]:  5.13 , recorded with  90.0 fps!\n",
      "Overall # of frames:  462  found with (before cropping) frame dimensions:  224 180\n",
      "Starting to extract posture\n"
     ]
    },
    {
     "name": "stderr",
     "output_type": "stream",
     "text": [
      "470it [00:02, 195.26it/s]                                                                                              \n",
      "  0%|                                                                                          | 0/893 [00:00<?, ?it/s]"
     ]
    },
    {
     "name": "stdout",
     "output_type": "stream",
     "text": [
      "Saving results in E:\\Imaging2AFCPop\\eye tracking\\110516...\n",
      "Saving csv poses!\n",
      "Starting to analyze %  E:\\Imaging2AFCPop\\eye tracking\\110516\\MF209_110516_12a_FIXED_129.avi\n",
      "E:\\Imaging2AFCPop\\eye tracking\\110516  already exists!\n",
      "Loading  E:\\Imaging2AFCPop\\eye tracking\\110516\\MF209_110516_12a_FIXED_129.avi\n",
      "Duration of video [s]:  9.92 , recorded with  90.0 fps!\n",
      "Overall # of frames:  893  found with (before cropping) frame dimensions:  224 180\n",
      "Starting to extract posture\n"
     ]
    },
    {
     "name": "stderr",
     "output_type": "stream",
     "text": [
      "900it [00:04, 194.26it/s]                                                                                              \n"
     ]
    },
    {
     "name": "stdout",
     "output_type": "stream",
     "text": [
      "Saving results in E:\\Imaging2AFCPop\\eye tracking\\110516...\n",
      "Saving csv poses!\n",
      "Starting to analyze %  E:\\Imaging2AFCPop\\eye tracking\\110516\\MF209_110516_12a_FIXED_266.avi\n",
      "E:\\Imaging2AFCPop\\eye tracking\\110516  already exists!\n",
      "Loading  E:\\Imaging2AFCPop\\eye tracking\\110516\\MF209_110516_12a_FIXED_266.avi\n",
      "Duration of video [s]:  5.13 , recorded with  90.0 fps!\n",
      "Overall # of frames:  462  found with (before cropping) frame dimensions:  224 180\n",
      "Starting to extract posture\n"
     ]
    },
    {
     "name": "stderr",
     "output_type": "stream",
     "text": [
      "470it [00:02, 195.96it/s]                                                                                              \n",
      "  0%|                                                                                         | 0/1415 [00:00<?, ?it/s]"
     ]
    },
    {
     "name": "stdout",
     "output_type": "stream",
     "text": [
      "Saving results in E:\\Imaging2AFCPop\\eye tracking\\110516...\n",
      "Saving csv poses!\n",
      "Starting to analyze %  E:\\Imaging2AFCPop\\eye tracking\\110516\\MF209_110516_12a_FIXED_082.avi\n",
      "E:\\Imaging2AFCPop\\eye tracking\\110516  already exists!\n",
      "Loading  E:\\Imaging2AFCPop\\eye tracking\\110516\\MF209_110516_12a_FIXED_082.avi\n",
      "Duration of video [s]:  15.72 , recorded with  90.0 fps!\n",
      "Overall # of frames:  1415  found with (before cropping) frame dimensions:  224 180\n",
      "Starting to extract posture\n"
     ]
    },
    {
     "name": "stderr",
     "output_type": "stream",
     "text": [
      "1428it [00:07, 194.69it/s]                                                                                             \n"
     ]
    },
    {
     "name": "stdout",
     "output_type": "stream",
     "text": [
      "Saving results in E:\\Imaging2AFCPop\\eye tracking\\110516...\n",
      "Saving csv poses!\n"
     ]
    },
    {
     "name": "stderr",
     "output_type": "stream",
     "text": [
      "  8%|██████▋                                                                         | 40/476 [00:00<00:01, 323.88it/s]"
     ]
    },
    {
     "name": "stdout",
     "output_type": "stream",
     "text": [
      "Starting to analyze %  E:\\Imaging2AFCPop\\eye tracking\\110516\\MF209_110516_12a_FIXED_035.avi\n",
      "E:\\Imaging2AFCPop\\eye tracking\\110516  already exists!\n",
      "Loading  E:\\Imaging2AFCPop\\eye tracking\\110516\\MF209_110516_12a_FIXED_035.avi\n",
      "Duration of video [s]:  5.29 , recorded with  90.0 fps!\n",
      "Overall # of frames:  476  found with (before cropping) frame dimensions:  224 180\n",
      "Starting to extract posture\n"
     ]
    },
    {
     "name": "stderr",
     "output_type": "stream",
     "text": [
      "480it [00:02, 191.91it/s]                                                                                              \n",
      "  0%|                                                                                         | 0/1631 [00:00<?, ?it/s]"
     ]
    },
    {
     "name": "stdout",
     "output_type": "stream",
     "text": [
      "Saving results in E:\\Imaging2AFCPop\\eye tracking\\110516...\n",
      "Saving csv poses!\n",
      "Starting to analyze %  E:\\Imaging2AFCPop\\eye tracking\\110516\\MF209_110516_12a_FIXED_136.avi\n",
      "E:\\Imaging2AFCPop\\eye tracking\\110516  already exists!\n",
      "Loading  E:\\Imaging2AFCPop\\eye tracking\\110516\\MF209_110516_12a_FIXED_136.avi\n",
      "Duration of video [s]:  18.12 , recorded with  90.0 fps!\n",
      "Overall # of frames:  1631  found with (before cropping) frame dimensions:  224 180\n",
      "Starting to extract posture\n"
     ]
    },
    {
     "name": "stderr",
     "output_type": "stream",
     "text": [
      "1632it [00:08, 194.90it/s]                                                                                             \n"
     ]
    },
    {
     "name": "stdout",
     "output_type": "stream",
     "text": [
      "Saving results in E:\\Imaging2AFCPop\\eye tracking\\110516...\n",
      "Saving csv poses!\n"
     ]
    },
    {
     "name": "stderr",
     "output_type": "stream",
     "text": [
      "  7%|█████▌                                                                          | 40/569 [00:00<00:01, 298.34it/s]"
     ]
    },
    {
     "name": "stdout",
     "output_type": "stream",
     "text": [
      "Starting to analyze %  E:\\Imaging2AFCPop\\eye tracking\\110516\\MF209_110516_12a_FIXED_051.avi\n",
      "E:\\Imaging2AFCPop\\eye tracking\\110516  already exists!\n",
      "Loading  E:\\Imaging2AFCPop\\eye tracking\\110516\\MF209_110516_12a_FIXED_051.avi\n",
      "Duration of video [s]:  6.32 , recorded with  90.0 fps!\n",
      "Overall # of frames:  569  found with (before cropping) frame dimensions:  224 180\n",
      "Starting to extract posture\n"
     ]
    },
    {
     "name": "stderr",
     "output_type": "stream",
     "text": [
      "570it [00:02, 191.03it/s]                                                                                              \n",
      "  0%|                                                                                          | 0/477 [00:00<?, ?it/s]"
     ]
    },
    {
     "name": "stdout",
     "output_type": "stream",
     "text": [
      "Saving results in E:\\Imaging2AFCPop\\eye tracking\\110516...\n",
      "Saving csv poses!\n",
      "Starting to analyze %  E:\\Imaging2AFCPop\\eye tracking\\110516\\MF209_110516_12a_FIXED_128.avi\n",
      "E:\\Imaging2AFCPop\\eye tracking\\110516  already exists!\n",
      "Loading  E:\\Imaging2AFCPop\\eye tracking\\110516\\MF209_110516_12a_FIXED_128.avi\n",
      "Duration of video [s]:  5.3 , recorded with  90.0 fps!\n",
      "Overall # of frames:  477  found with (before cropping) frame dimensions:  224 180\n",
      "Starting to extract posture\n"
     ]
    },
    {
     "name": "stderr",
     "output_type": "stream",
     "text": [
      "480it [00:02, 193.37it/s]                                                                                              \n",
      "  0%|                                                                                          | 0/615 [00:00<?, ?it/s]"
     ]
    },
    {
     "name": "stdout",
     "output_type": "stream",
     "text": [
      "Saving results in E:\\Imaging2AFCPop\\eye tracking\\110516...\n",
      "Saving csv poses!\n",
      "Starting to analyze %  E:\\Imaging2AFCPop\\eye tracking\\110516\\MF209_110516_12a_FIXED_071.avi\n",
      "E:\\Imaging2AFCPop\\eye tracking\\110516  already exists!\n",
      "Loading  E:\\Imaging2AFCPop\\eye tracking\\110516\\MF209_110516_12a_FIXED_071.avi\n",
      "Duration of video [s]:  6.83 , recorded with  90.0 fps!\n",
      "Overall # of frames:  615  found with (before cropping) frame dimensions:  224 180\n",
      "Starting to extract posture\n"
     ]
    },
    {
     "name": "stderr",
     "output_type": "stream",
     "text": [
      "620it [00:03, 194.35it/s]                                                                                              \n",
      "  0%|                                                                                         | 0/1461 [00:00<?, ?it/s]"
     ]
    },
    {
     "name": "stdout",
     "output_type": "stream",
     "text": [
      "Saving results in E:\\Imaging2AFCPop\\eye tracking\\110516...\n",
      "Saving csv poses!\n",
      "Starting to analyze %  E:\\Imaging2AFCPop\\eye tracking\\110516\\MF209_110516_12a_FIXED_053.avi\n",
      "E:\\Imaging2AFCPop\\eye tracking\\110516  already exists!\n",
      "Loading  E:\\Imaging2AFCPop\\eye tracking\\110516\\MF209_110516_12a_FIXED_053.avi\n",
      "Duration of video [s]:  16.23 , recorded with  90.0 fps!\n",
      "Overall # of frames:  1461  found with (before cropping) frame dimensions:  224 180\n",
      "Starting to extract posture\n"
     ]
    },
    {
     "name": "stderr",
     "output_type": "stream",
     "text": [
      "1470it [00:07, 194.21it/s]                                                                                             \n"
     ]
    },
    {
     "name": "stdout",
     "output_type": "stream",
     "text": [
      "Saving results in E:\\Imaging2AFCPop\\eye tracking\\110516...\n",
      "Saving csv poses!\n"
     ]
    },
    {
     "name": "stderr",
     "output_type": "stream",
     "text": [
      "  4%|███▎                                                                            | 40/969 [00:00<00:02, 310.77it/s]"
     ]
    },
    {
     "name": "stdout",
     "output_type": "stream",
     "text": [
      "Starting to analyze %  E:\\Imaging2AFCPop\\eye tracking\\110516\\MF209_110516_12a_FIXED_142.avi\n",
      "E:\\Imaging2AFCPop\\eye tracking\\110516  already exists!\n",
      "Loading  E:\\Imaging2AFCPop\\eye tracking\\110516\\MF209_110516_12a_FIXED_142.avi\n",
      "Duration of video [s]:  10.77 , recorded with  90.0 fps!\n",
      "Overall # of frames:  969  found with (before cropping) frame dimensions:  224 180\n",
      "Starting to extract posture\n"
     ]
    },
    {
     "name": "stderr",
     "output_type": "stream",
     "text": [
      "970it [00:05, 193.20it/s]                                                                                              \n"
     ]
    },
    {
     "name": "stdout",
     "output_type": "stream",
     "text": [
      "Saving results in E:\\Imaging2AFCPop\\eye tracking\\110516...\n",
      "Saving csv poses!\n",
      "Starting to analyze %  E:\\Imaging2AFCPop\\eye tracking\\110516\\MF209_110516_12a_FIXED_167.avi\n",
      "E:\\Imaging2AFCPop\\eye tracking\\110516  already exists!\n",
      "Loading  E:\\Imaging2AFCPop\\eye tracking\\110516\\MF209_110516_12a_FIXED_167.avi\n",
      "Duration of video [s]:  10.08 , recorded with  90.0 fps!\n",
      "Overall # of frames:  907  found with (before cropping) frame dimensions:  224 180\n",
      "Starting to extract posture\n"
     ]
    },
    {
     "name": "stderr",
     "output_type": "stream",
     "text": [
      "910it [00:04, 193.89it/s]                                                                                              \n"
     ]
    },
    {
     "name": "stdout",
     "output_type": "stream",
     "text": [
      "Saving results in E:\\Imaging2AFCPop\\eye tracking\\110516...\n",
      "Saving csv poses!\n",
      "Starting to analyze %  E:\\Imaging2AFCPop\\eye tracking\\110516\\MF209_110516_12a_FIXED_072.avi\n",
      "E:\\Imaging2AFCPop\\eye tracking\\110516  already exists!\n",
      "Loading  E:\\Imaging2AFCPop\\eye tracking\\110516\\MF209_110516_12a_FIXED_072.avi\n",
      "Duration of video [s]:  4.97 , recorded with  90.0"
     ]
    },
    {
     "name": "stderr",
     "output_type": "stream",
     "text": [
      "  9%|███████▏                                                                        | 40/447 [00:00<00:01, 302.76it/s]"
     ]
    },
    {
     "name": "stdout",
     "output_type": "stream",
     "text": [
      " fps!\n",
      "Overall # of frames:  447  found with (before cropping) frame dimensions:  224 180\n",
      "Starting to extract posture\n"
     ]
    },
    {
     "name": "stderr",
     "output_type": "stream",
     "text": [
      "450it [00:02, 195.15it/s]                                                                                              \n",
      "  0%|                                                                                          | 0/463 [00:00<?, ?it/s]"
     ]
    },
    {
     "name": "stdout",
     "output_type": "stream",
     "text": [
      "Saving results in E:\\Imaging2AFCPop\\eye tracking\\110516...\n",
      "Saving csv poses!\n",
      "Starting to analyze %  E:\\Imaging2AFCPop\\eye tracking\\110516\\MF209_110516_12a_FIXED_034.avi\n",
      "E:\\Imaging2AFCPop\\eye tracking\\110516  already exists!\n",
      "Loading  E:\\Imaging2AFCPop\\eye tracking\\110516\\MF209_110516_12a_FIXED_034.avi\n",
      "Duration of video [s]:  5.14 , recorded with  90.0 fps!\n",
      "Overall # of frames:  463  found with (before cropping) frame dimensions:  224 180\n",
      "Starting to extract posture\n"
     ]
    },
    {
     "name": "stderr",
     "output_type": "stream",
     "text": [
      "470it [00:02, 195.83it/s]                                                                                              \n",
      "  0%|                                                                                          | 0/584 [00:00<?, ?it/s]"
     ]
    },
    {
     "name": "stdout",
     "output_type": "stream",
     "text": [
      "Saving results in E:\\Imaging2AFCPop\\eye tracking\\110516...\n",
      "Saving csv poses!\n",
      "Starting to analyze %  E:\\Imaging2AFCPop\\eye tracking\\110516\\MF209_110516_12a_FIXED_230.avi\n",
      "E:\\Imaging2AFCPop\\eye tracking\\110516  already exists!\n",
      "Loading  E:\\Imaging2AFCPop\\eye tracking\\110516\\MF209_110516_12a_FIXED_230.avi\n",
      "Duration of video [s]:  6.49 , recorded with  90.0 fps!\n",
      "Overall # of frames:  584  found with (before cropping) frame dimensions:  224 180\n",
      "Starting to extract posture\n"
     ]
    },
    {
     "name": "stderr",
     "output_type": "stream",
     "text": [
      "590it [00:02, 197.17it/s]                                                                                              \n",
      "  0%|                                                                                          | 0/462 [00:00<?, ?it/s]"
     ]
    },
    {
     "name": "stdout",
     "output_type": "stream",
     "text": [
      "Saving results in E:\\Imaging2AFCPop\\eye tracking\\110516...\n",
      "Saving csv poses!\n",
      "Starting to analyze %  E:\\Imaging2AFCPop\\eye tracking\\110516\\MF209_110516_12a_FIXED_073.avi\n",
      "E:\\Imaging2AFCPop\\eye tracking\\110516  already exists!\n",
      "Loading  E:\\Imaging2AFCPop\\eye tracking\\110516\\MF209_110516_12a_FIXED_073.avi\n",
      "Duration of video [s]:  5.13 , recorded with  90.0 fps!\n",
      "Overall # of frames:  462  found with (before cropping) frame dimensions:  224 180\n",
      "Starting to extract posture\n"
     ]
    },
    {
     "name": "stderr",
     "output_type": "stream",
     "text": [
      "470it [00:02, 196.19it/s]                                                                                              \n",
      "  0%|                                                                                          | 0/753 [00:00<?, ?it/s]"
     ]
    },
    {
     "name": "stdout",
     "output_type": "stream",
     "text": [
      "Saving results in E:\\Imaging2AFCPop\\eye tracking\\110516...\n",
      "Saving csv poses!\n",
      "Starting to analyze %  E:\\Imaging2AFCPop\\eye tracking\\110516\\MF209_110516_12a_FIXED_037.avi\n",
      "E:\\Imaging2AFCPop\\eye tracking\\110516  already exists!\n",
      "Loading  E:\\Imaging2AFCPop\\eye tracking\\110516\\MF209_110516_12a_FIXED_037.avi\n",
      "Duration of video [s]:  8.37 , recorded with  90.0 fps!\n",
      "Overall # of frames:  753  found with (before cropping) frame dimensions:  224 180\n",
      "Starting to extract posture\n"
     ]
    },
    {
     "name": "stderr",
     "output_type": "stream",
     "text": [
      "760it [00:03, 197.57it/s]                                                                                              \n"
     ]
    },
    {
     "name": "stdout",
     "output_type": "stream",
     "text": [
      "Saving results in E:\\Imaging2AFCPop\\eye tracking\\110516...\n",
      "Saving csv poses!\n",
      "Starting to analyze %  E:\\Imaging2AFCPop\\eye tracking\\110516\\MF209_110516_12a_FIXED_098.avi\n",
      "E:\\Imaging2AFCPop\\eye tracking\\110516  already exists!\n",
      "Loading  E:\\Imaging2AFCPop\\eye tracking\\110516\\MF209_110516_12a_FIXED_098.avi\n",
      "Duration of video [s]:  6.67 , recorded with  90.0 fps!\n",
      "Overall # of frames:  "
     ]
    },
    {
     "name": "stderr",
     "output_type": "stream",
     "text": [
      "  7%|█████▎                                                                          | 40/600 [00:00<00:01, 298.48it/s]"
     ]
    },
    {
     "name": "stdout",
     "output_type": "stream",
     "text": [
      "600  found with (before cropping) frame dimensions:  224 180\n",
      "Starting to extract posture\n"
     ]
    },
    {
     "name": "stderr",
     "output_type": "stream",
     "text": [
      "610it [00:03, 194.61it/s]                                                                                              \n",
      "  0%|                                                                                          | 0/508 [00:00<?, ?it/s]"
     ]
    },
    {
     "name": "stdout",
     "output_type": "stream",
     "text": [
      "Saving results in E:\\Imaging2AFCPop\\eye tracking\\110516...\n",
      "Saving csv poses!\n",
      "Starting to analyze %  E:\\Imaging2AFCPop\\eye tracking\\110516\\MF209_110516_12a_FIXED_196.avi\n",
      "E:\\Imaging2AFCPop\\eye tracking\\110516  already exists!\n",
      "Loading  E:\\Imaging2AFCPop\\eye tracking\\110516\\MF209_110516_12a_FIXED_196.avi\n",
      "Duration of video [s]:  5.64 , recorded with  90.0 fps!\n",
      "Overall # of frames:  508  found with (before cropping) frame dimensions:  224 180\n",
      "Starting to extract posture\n"
     ]
    },
    {
     "name": "stderr",
     "output_type": "stream",
     "text": [
      "510it [00:02, 191.06it/s]                                                                                              \n",
      "  0%|                                                                                          | 0/446 [00:00<?, ?it/s]"
     ]
    },
    {
     "name": "stdout",
     "output_type": "stream",
     "text": [
      "Saving results in E:\\Imaging2AFCPop\\eye tracking\\110516...\n",
      "Saving csv poses!\n",
      "Starting to analyze %  E:\\Imaging2AFCPop\\eye tracking\\110516\\MF209_110516_12a_FIXED_006.avi\n",
      "E:\\Imaging2AFCPop\\eye tracking\\110516  already exists!\n",
      "Loading  E:\\Imaging2AFCPop\\eye tracking\\110516\\MF209_110516_12a_FIXED_006.avi\n",
      "Duration of video [s]:  4.96 , recorded with  90.0 fps!\n",
      "Overall # of frames:  446  found with (before cropping) frame dimensions:  224 180\n",
      "Starting to extract posture\n"
     ]
    },
    {
     "name": "stderr",
     "output_type": "stream",
     "text": [
      "450it [00:02, 191.45it/s]                                                                                              \n",
      "  0%|                                                                                          | 0/446 [00:00<?, ?it/s]"
     ]
    },
    {
     "name": "stdout",
     "output_type": "stream",
     "text": [
      "Saving results in E:\\Imaging2AFCPop\\eye tracking\\110516...\n",
      "Saving csv poses!\n",
      "Starting to analyze %  E:\\Imaging2AFCPop\\eye tracking\\110516\\MF209_110516_12a_FIXED_186.avi\n",
      "E:\\Imaging2AFCPop\\eye tracking\\110516  already exists!\n",
      "Loading  E:\\Imaging2AFCPop\\eye tracking\\110516\\MF209_110516_12a_FIXED_186.avi\n",
      "Duration of video [s]:  4.96 , recorded with  90.0 fps!\n",
      "Overall # of frames:  446  found with (before cropping) frame dimensions:  224 180\n",
      "Starting to extract posture\n"
     ]
    },
    {
     "name": "stderr",
     "output_type": "stream",
     "text": [
      "450it [00:02, 192.33it/s]                                                                                              \n",
      "  0%|                                                                                         | 0/2492 [00:00<?, ?it/s]"
     ]
    },
    {
     "name": "stdout",
     "output_type": "stream",
     "text": [
      "Saving results in E:\\Imaging2AFCPop\\eye tracking\\110516...\n",
      "Saving csv poses!\n",
      "Starting to analyze %  E:\\Imaging2AFCPop\\eye tracking\\110516\\MF209_110516_12a_FIXED_147.avi\n",
      "E:\\Imaging2AFCPop\\eye tracking\\110516  already exists!\n",
      "Loading  E:\\Imaging2AFCPop\\eye tracking\\110516\\MF209_110516_12a_FIXED_147.avi\n",
      "Duration of video [s]:  27.69 , recorded with  90.0 fps!\n",
      "Overall # of frames:  2492  found with (before cropping) frame dimensions:  224 180\n",
      "Starting to extract posture\n"
     ]
    },
    {
     "name": "stderr",
     "output_type": "stream",
     "text": [
      "2496it [00:13, 191.36it/s]                                                                                             \n"
     ]
    },
    {
     "name": "stdout",
     "output_type": "stream",
     "text": [
      "Saving results in E:\\Imaging2AFCPop\\eye tracking\\110516...\n",
      "Saving csv poses!\n"
     ]
    },
    {
     "name": "stderr",
     "output_type": "stream",
     "text": [
      "  4%|██▉                                                                            | 40/1093 [00:00<00:03, 294.50it/s]"
     ]
    },
    {
     "name": "stdout",
     "output_type": "stream",
     "text": [
      "Starting to analyze %  E:\\Imaging2AFCPop\\eye tracking\\110516\\MF209_110516_12a_FIXED_233.avi\n",
      "E:\\Imaging2AFCPop\\eye tracking\\110516  already exists!\n",
      "Loading  E:\\Imaging2AFCPop\\eye tracking\\110516\\MF209_110516_12a_FIXED_233.avi\n",
      "Duration of video [s]:  12.14 , recorded with  90.0 fps!\n",
      "Overall # of frames:  1093  found with (before cropping) frame dimensions:  224 180\n",
      "Starting to extract posture\n"
     ]
    },
    {
     "name": "stderr",
     "output_type": "stream",
     "text": [
      "1100it [00:05, 192.05it/s]                                                                                             \n"
     ]
    },
    {
     "name": "stdout",
     "output_type": "stream",
     "text": [
      "Saving results in E:\\Imaging2AFCPop\\eye tracking\\110516...\n",
      "Saving csv poses!\n",
      "Starting to analyze % "
     ]
    },
    {
     "name": "stderr",
     "output_type": "stream",
     "text": [
      "  7%|█████▊                                                                          | 40/554 [00:00<00:01, 317.53it/s]"
     ]
    },
    {
     "name": "stdout",
     "output_type": "stream",
     "text": [
      " E:\\Imaging2AFCPop\\eye tracking\\110516\\MF209_110516_12a_FIXED_182.avi\n",
      "E:\\Imaging2AFCPop\\eye tracking\\110516  already exists!\n",
      "Loading  E:\\Imaging2AFCPop\\eye tracking\\110516\\MF209_110516_12a_FIXED_182.avi\n",
      "Duration of video [s]:  6.16 , recorded with  90.0 fps!\n",
      "Overall # of frames:  554  found with (before cropping) frame dimensions:  224 180\n",
      "Starting to extract posture\n"
     ]
    },
    {
     "name": "stderr",
     "output_type": "stream",
     "text": [
      "560it [00:02, 191.87it/s]                                                                                              \n",
      "  0%|                                                                                          | 0/477 [00:00<?, ?it/s]"
     ]
    },
    {
     "name": "stdout",
     "output_type": "stream",
     "text": [
      "Saving results in E:\\Imaging2AFCPop\\eye tracking\\110516...\n",
      "Saving csv poses!\n",
      "Starting to analyze %  E:\\Imaging2AFCPop\\eye tracking\\110516\\MF209_110516_12a_FIXED_009.avi\n",
      "E:\\Imaging2AFCPop\\eye tracking\\110516  already exists!\n",
      "Loading  E:\\Imaging2AFCPop\\eye tracking\\110516\\MF209_110516_12a_FIXED_009.avi\n",
      "Duration of video [s]:  5.3 , recorded with  90.0 fps!\n",
      "Overall # of frames:  477  found with (before cropping) frame dimensions:  224 180\n",
      "Starting to extract posture\n"
     ]
    },
    {
     "name": "stderr",
     "output_type": "stream",
     "text": [
      "480it [00:02, 192.29it/s]                                                                                              \n",
      "  0%|                                                                                         | 0/4067 [00:00<?, ?it/s]"
     ]
    },
    {
     "name": "stdout",
     "output_type": "stream",
     "text": [
      "Saving results in E:\\Imaging2AFCPop\\eye tracking\\110516...\n",
      "Saving csv poses!\n",
      "Starting to analyze %  E:\\Imaging2AFCPop\\eye tracking\\110516\\MF209_110516_12a_FIXED_185.avi\n",
      "E:\\Imaging2AFCPop\\eye tracking\\110516  already exists!\n",
      "Loading  E:\\Imaging2AFCPop\\eye tracking\\110516\\MF209_110516_12a_FIXED_185.avi\n",
      "Duration of video [s]:  45.19 , recorded with  90.0 fps!\n",
      "Overall # of frames:  4067  found with (before cropping) frame dimensions:  224 180\n",
      "Starting to extract posture\n"
     ]
    },
    {
     "name": "stderr",
     "output_type": "stream",
     "text": [
      "4080it [00:20, 195.23it/s]                                                                                             \n"
     ]
    },
    {
     "name": "stdout",
     "output_type": "stream",
     "text": [
      "Saving results in E:\\Imaging2AFCPop\\eye tracking\\110516...\n",
      "Saving csv poses!\n"
     ]
    },
    {
     "name": "stderr",
     "output_type": "stream",
     "text": [
      "  8%|██████▋                                                                         | 40/477 [00:00<00:01, 304.15it/s]"
     ]
    },
    {
     "name": "stdout",
     "output_type": "stream",
     "text": [
      "Starting to analyze %  E:\\Imaging2AFCPop\\eye tracking\\110516\\MF209_110516_12a_FIXED_155.avi\n",
      "E:\\Imaging2AFCPop\\eye tracking\\110516  already exists!\n",
      "Loading  E:\\Imaging2AFCPop\\eye tracking\\110516\\MF209_110516_12a_FIXED_155.avi\n",
      "Duration of video [s]:  5.3 , recorded with  90.0 fps!\n",
      "Overall # of frames:  477  found with (before cropping) frame dimensions:  224 180\n",
      "Starting to extract posture\n"
     ]
    },
    {
     "name": "stderr",
     "output_type": "stream",
     "text": [
      "480it [00:02, 191.51it/s]                                                                                              \n",
      "  0%|                                                                                          | 0/477 [00:00<?, ?it/s]"
     ]
    },
    {
     "name": "stdout",
     "output_type": "stream",
     "text": [
      "Saving results in E:\\Imaging2AFCPop\\eye tracking\\110516...\n",
      "Saving csv poses!\n",
      "Starting to analyze %  E:\\Imaging2AFCPop\\eye tracking\\110516\\MF209_110516_12a_FIXED_090.avi\n",
      "E:\\Imaging2AFCPop\\eye tracking\\110516  already exists!\n",
      "Loading  E:\\Imaging2AFCPop\\eye tracking\\110516\\MF209_110516_12a_FIXED_090.avi\n",
      "Duration of video [s]:  5.3 , recorded with  90.0 fps!\n",
      "Overall # of frames:  477  found with (before cropping) frame dimensions:  224 180\n",
      "Starting to extract posture\n"
     ]
    },
    {
     "name": "stderr",
     "output_type": "stream",
     "text": [
      "480it [00:02, 189.88it/s]                                                                                              \n",
      "  0%|                                                                                          | 0/631 [00:00<?, ?it/s]"
     ]
    },
    {
     "name": "stdout",
     "output_type": "stream",
     "text": [
      "Saving results in E:\\Imaging2AFCPop\\eye tracking\\110516...\n",
      "Saving csv poses!\n",
      "Starting to analyze %  E:\\Imaging2AFCPop\\eye tracking\\110516\\MF209_110516_12a_FIXED_075.avi\n",
      "E:\\Imaging2AFCPop\\eye tracking\\110516  already exists!\n",
      "Loading  E:\\Imaging2AFCPop\\eye tracking\\110516\\MF209_110516_12a_FIXED_075.avi\n",
      "Duration of video [s]:  7.01 , recorded with  90.0 fps!\n",
      "Overall # of frames:  631  found with (before cropping) frame dimensions:  224 180\n",
      "Starting to extract posture\n"
     ]
    },
    {
     "name": "stderr",
     "output_type": "stream",
     "text": [
      "640it [00:03, 194.81it/s]                                                                                              \n",
      "  0%|                                                                                          | 0/923 [00:00<?, ?it/s]"
     ]
    },
    {
     "name": "stdout",
     "output_type": "stream",
     "text": [
      "Saving results in E:\\Imaging2AFCPop\\eye tracking\\110516...\n",
      "Saving csv poses!\n",
      "Starting to analyze %  E:\\Imaging2AFCPop\\eye tracking\\110516\\MF209_110516_12a_FIXED_048.avi\n",
      "E:\\Imaging2AFCPop\\eye tracking\\110516  already exists!\n",
      "Loading  E:\\Imaging2AFCPop\\eye tracking\\110516\\MF209_110516_12a_FIXED_048.avi\n",
      "Duration of video [s]:  10.26 , recorded with  90.0 fps!\n",
      "Overall # of frames:  923  found with (before cropping) frame dimensions:  224 180\n",
      "Starting to extract posture\n"
     ]
    },
    {
     "name": "stderr",
     "output_type": "stream",
     "text": [
      "930it [00:04, 191.50it/s]                                                                                              \n"
     ]
    },
    {
     "name": "stdout",
     "output_type": "stream",
     "text": [
      "Saving results in E:\\Imaging2AFCPop\\eye tracking\\110516...\n",
      "Saving csv poses!\n",
      "Starting to analyze %  E:\\Imaging2AFCPop\\eye tracking\\110516\\MF209_110516_12a_FIXED_026.avi\n",
      "E:\\Imaging2AFCPop\\eye tracking\\110516  already exists!\n",
      "Loading  E:\\Imaging2AFCPop\\eye tracking\\110516\\MF209_110516_12a_FIXED_026.avi\n",
      "Duration of video [s]: "
     ]
    },
    {
     "name": "stderr",
     "output_type": "stream",
     "text": [
      "  5%|████▎                                                                           | 40/739 [00:00<00:02, 299.40it/s]"
     ]
    },
    {
     "name": "stdout",
     "output_type": "stream",
     "text": [
      " 8.21 , recorded with  90.0 fps!\n",
      "Overall # of frames:  739  found with (before cropping) frame dimensions:  224 180\n",
      "Starting to extract posture\n"
     ]
    },
    {
     "name": "stderr",
     "output_type": "stream",
     "text": [
      "740it [00:03, 190.07it/s]                                                                                              \n"
     ]
    },
    {
     "name": "stdout",
     "output_type": "stream",
     "text": [
      "Saving results in E:\\Imaging2AFCPop\\eye tracking\\110516...\n",
      "Saving csv poses!\n",
      "Starting to analyze %  E:\\Imaging2AFCPop\\eye tracking\\110516\\MF209_110516_12a_FIXED_260.avi\n",
      "E:\\Imaging2AFCPop\\eye tracking\\110516  already exists!\n",
      "Loading  E:\\Imaging2AFCPop\\eye tracking\\110516\\MF209_110516_12a_FIXED_260.avi\n",
      "Duration of video [s]: "
     ]
    },
    {
     "name": "stderr",
     "output_type": "stream",
     "text": [
      "  9%|██████▉                                                                         | 40/461 [00:00<00:01, 305.89it/s]"
     ]
    },
    {
     "name": "stdout",
     "output_type": "stream",
     "text": [
      " 5.12 , recorded with  90.0 fps!\n",
      "Overall # of frames:  461  found with (before cropping) frame dimensions:  224 180\n",
      "Starting to extract posture\n"
     ]
    },
    {
     "name": "stderr",
     "output_type": "stream",
     "text": [
      "470it [00:02, 194.67it/s]                                                                                              \n",
      "  0%|                                                                                          | 0/723 [00:00<?, ?it/s]"
     ]
    },
    {
     "name": "stdout",
     "output_type": "stream",
     "text": [
      "Saving results in E:\\Imaging2AFCPop\\eye tracking\\110516...\n",
      "Saving csv poses!\n",
      "Starting to analyze %  E:\\Imaging2AFCPop\\eye tracking\\110516\\MF209_110516_12a_FIXED_012.avi\n",
      "E:\\Imaging2AFCPop\\eye tracking\\110516  already exists!\n",
      "Loading  E:\\Imaging2AFCPop\\eye tracking\\110516\\MF209_110516_12a_FIXED_012.avi\n",
      "Duration of video [s]:  8.03 , recorded with  90.0 fps!\n",
      "Overall # of frames:  723  found with (before cropping) frame dimensions:  224 180\n",
      "Starting to extract posture\n"
     ]
    },
    {
     "name": "stderr",
     "output_type": "stream",
     "text": [
      "730it [00:03, 191.83it/s]                                                                                              \n",
      "  0%|                                                                                          | 0/647 [00:00<?, ?it/s]"
     ]
    },
    {
     "name": "stdout",
     "output_type": "stream",
     "text": [
      "Saving results in E:\\Imaging2AFCPop\\eye tracking\\110516...\n",
      "Saving csv poses!\n",
      "Starting to analyze %  E:\\Imaging2AFCPop\\eye tracking\\110516\\MF209_110516_12a_FIXED_022.avi\n",
      "E:\\Imaging2AFCPop\\eye tracking\\110516  already exists!\n",
      "Loading  E:\\Imaging2AFCPop\\eye tracking\\110516\\MF209_110516_12a_FIXED_022.avi\n",
      "Duration of video [s]:  7.19 , recorded with  90.0 fps!\n",
      "Overall # of frames:  647  found with (before cropping) frame dimensions:  224 180\n",
      "Starting to extract posture\n"
     ]
    },
    {
     "name": "stderr",
     "output_type": "stream",
     "text": [
      "650it [00:03, 192.47it/s]                                                                                              \n",
      "  0%|                                                                                          | 0/738 [00:00<?, ?it/s]"
     ]
    },
    {
     "name": "stdout",
     "output_type": "stream",
     "text": [
      "Saving results in E:\\Imaging2AFCPop\\eye tracking\\110516...\n",
      "Saving csv poses!\n",
      "Starting to analyze %  E:\\Imaging2AFCPop\\eye tracking\\110516\\MF209_110516_12a_FIXED_153.avi\n",
      "E:\\Imaging2AFCPop\\eye tracking\\110516  already exists!\n",
      "Loading  E:\\Imaging2AFCPop\\eye tracking\\110516\\MF209_110516_12a_FIXED_153.avi\n",
      "Duration of video [s]:  8.2 , recorded with  90.0 fps!\n",
      "Overall # of frames:  738  found with (before cropping) frame dimensions:  224 180\n",
      "Starting to extract posture\n"
     ]
    },
    {
     "name": "stderr",
     "output_type": "stream",
     "text": [
      "740it [00:03, 190.08it/s]                                                                                              \n",
      "  0%|                                                                                          | 0/477 [00:00<?, ?it/s]"
     ]
    },
    {
     "name": "stdout",
     "output_type": "stream",
     "text": [
      "Saving results in E:\\Imaging2AFCPop\\eye tracking\\110516...\n",
      "Saving csv poses!\n",
      "Starting to analyze %  E:\\Imaging2AFCPop\\eye tracking\\110516\\MF209_110516_12a_FIXED_146.avi\n",
      "E:\\Imaging2AFCPop\\eye tracking\\110516  already exists!\n",
      "Loading  E:\\Imaging2AFCPop\\eye tracking\\110516\\MF209_110516_12a_FIXED_146.avi\n",
      "Duration of video [s]:  5.3 , recorded with  90.0 fps!\n",
      "Overall # of frames:  477  found with (before cropping) frame dimensions:  224 180\n",
      "Starting to extract posture\n"
     ]
    },
    {
     "name": "stderr",
     "output_type": "stream",
     "text": [
      "480it [00:02, 191.78it/s]                                                                                              \n",
      "  0%|                                                                                          | 0/477 [00:00<?, ?it/s]"
     ]
    },
    {
     "name": "stdout",
     "output_type": "stream",
     "text": [
      "Saving results in E:\\Imaging2AFCPop\\eye tracking\\110516...\n",
      "Saving csv poses!\n",
      "Starting to analyze %  E:\\Imaging2AFCPop\\eye tracking\\110516\\MF209_110516_12a_FIXED_011.avi\n",
      "E:\\Imaging2AFCPop\\eye tracking\\110516  already exists!\n",
      "Loading  E:\\Imaging2AFCPop\\eye tracking\\110516\\MF209_110516_12a_FIXED_011.avi\n",
      "Duration of video [s]:  5.3 , recorded with  90.0 fps!\n",
      "Overall # of frames:  477  found with (before cropping) frame dimensions:  224 180\n",
      "Starting to extract posture\n"
     ]
    },
    {
     "name": "stderr",
     "output_type": "stream",
     "text": [
      "480it [00:02, 192.14it/s]                                                                                              \n",
      "  0%|                                                                                         | 0/1646 [00:00<?, ?it/s]"
     ]
    },
    {
     "name": "stdout",
     "output_type": "stream",
     "text": [
      "Saving results in E:\\Imaging2AFCPop\\eye tracking\\110516...\n",
      "Saving csv poses!\n",
      "Starting to analyze %  E:\\Imaging2AFCPop\\eye tracking\\110516\\MF209_110516_12a_FIXED_085.avi\n",
      "E:\\Imaging2AFCPop\\eye tracking\\110516  already exists!\n",
      "Loading  E:\\Imaging2AFCPop\\eye tracking\\110516\\MF209_110516_12a_FIXED_085.avi\n",
      "Duration of video [s]:  18.29 , recorded with  90.0 fps!\n",
      "Overall # of frames:  1646  found with (before cropping) frame dimensions:  224 180\n",
      "Starting to extract posture\n"
     ]
    },
    {
     "name": "stderr",
     "output_type": "stream",
     "text": [
      "1648it [00:08, 193.13it/s]                                                                                             \n"
     ]
    },
    {
     "name": "stdout",
     "output_type": "stream",
     "text": [
      "Saving results in E:\\Imaging2AFCPop\\eye tracking\\110516...\n",
      "Saving csv poses!\n"
     ]
    },
    {
     "name": "stderr",
     "output_type": "stream",
     "text": [
      "  8%|██████▋                                                                         | 40/477 [00:00<00:01, 322.72it/s]"
     ]
    },
    {
     "name": "stdout",
     "output_type": "stream",
     "text": [
      "Starting to analyze %  E:\\Imaging2AFCPop\\eye tracking\\110516\\MF209_110516_12a_FIXED_234.avi\n",
      "E:\\Imaging2AFCPop\\eye tracking\\110516  already exists!\n",
      "Loading  E:\\Imaging2AFCPop\\eye tracking\\110516\\MF209_110516_12a_FIXED_234.avi\n",
      "Duration of video [s]:  5.3 , recorded with  90.0 fps!\n",
      "Overall # of frames:  477  found with (before cropping) frame dimensions:  224 180\n",
      "Starting to extract posture\n"
     ]
    },
    {
     "name": "stderr",
     "output_type": "stream",
     "text": [
      "480it [00:02, 191.98it/s]                                                                                              \n",
      "  0%|                                                                                          | 0/462 [00:00<?, ?it/s]"
     ]
    },
    {
     "name": "stdout",
     "output_type": "stream",
     "text": [
      "Saving results in E:\\Imaging2AFCPop\\eye tracking\\110516...\n",
      "Saving csv poses!\n",
      "Starting to analyze %  E:\\Imaging2AFCPop\\eye tracking\\110516\\MF209_110516_12a_FIXED_024.avi\n",
      "E:\\Imaging2AFCPop\\eye tracking\\110516  already exists!\n",
      "Loading  E:\\Imaging2AFCPop\\eye tracking\\110516\\MF209_110516_12a_FIXED_024.avi\n",
      "Duration of video [s]:  5.13 , recorded with  90.0 fps!\n",
      "Overall # of frames:  462  found with (before cropping) frame dimensions:  224 180\n",
      "Starting to extract posture\n"
     ]
    },
    {
     "name": "stderr",
     "output_type": "stream",
     "text": [
      "470it [00:02, 194.59it/s]                                                                                              \n",
      "  0%|                                                                                          | 0/477 [00:00<?, ?it/s]"
     ]
    },
    {
     "name": "stdout",
     "output_type": "stream",
     "text": [
      "Saving results in E:\\Imaging2AFCPop\\eye tracking\\110516...\n",
      "Saving csv poses!\n",
      "Starting to analyze %  E:\\Imaging2AFCPop\\eye tracking\\110516\\MF209_110516_12a_FIXED_221.avi\n",
      "E:\\Imaging2AFCPop\\eye tracking\\110516  already exists!\n",
      "Loading  E:\\Imaging2AFCPop\\eye tracking\\110516\\MF209_110516_12a_FIXED_221.avi\n",
      "Duration of video [s]:  5.3 , recorded with  90.0 fps!\n",
      "Overall # of frames:  477  found with (before cropping) frame dimensions:  224 180\n",
      "Starting to extract posture\n"
     ]
    },
    {
     "name": "stderr",
     "output_type": "stream",
     "text": [
      "480it [00:02, 191.61it/s]                                                                                              \n",
      "  0%|                                                                                          | 0/462 [00:00<?, ?it/s]"
     ]
    },
    {
     "name": "stdout",
     "output_type": "stream",
     "text": [
      "Saving results in E:\\Imaging2AFCPop\\eye tracking\\110516...\n",
      "Saving csv poses!\n",
      "Starting to analyze %  E:\\Imaging2AFCPop\\eye tracking\\110516\\MF209_110516_12a_FIXED_099.avi\n",
      "E:\\Imaging2AFCPop\\eye tracking\\110516  already exists!\n",
      "Loading  E:\\Imaging2AFCPop\\eye tracking\\110516\\MF209_110516_12a_FIXED_099.avi\n",
      "Duration of video [s]:  5.13 , recorded with  90.0 fps!\n",
      "Overall # of frames:  462  found with (before cropping) frame dimensions:  224 180\n",
      "Starting to extract posture\n"
     ]
    },
    {
     "name": "stderr",
     "output_type": "stream",
     "text": [
      "470it [00:02, 194.47it/s]                                                                                              \n",
      "  0%|                                                                                          | 0/493 [00:00<?, ?it/s]"
     ]
    },
    {
     "name": "stdout",
     "output_type": "stream",
     "text": [
      "Saving results in E:\\Imaging2AFCPop\\eye tracking\\110516...\n",
      "Saving csv poses!\n",
      "Starting to analyze %  E:\\Imaging2AFCPop\\eye tracking\\110516\\MF209_110516_12a_FIXED_192.avi\n",
      "E:\\Imaging2AFCPop\\eye tracking\\110516  already exists!\n",
      "Loading  E:\\Imaging2AFCPop\\eye tracking\\110516\\MF209_110516_12a_FIXED_192.avi\n",
      "Duration of video [s]:  5.48 , recorded with  90.0 fps!\n",
      "Overall # of frames:  493  found with (before cropping) frame dimensions:  224 180\n",
      "Starting to extract posture\n"
     ]
    },
    {
     "name": "stderr",
     "output_type": "stream",
     "text": [
      "500it [00:02, 193.42it/s]                                                                                              \n",
      "  0%|                                                                                         | 0/1538 [00:00<?, ?it/s]"
     ]
    },
    {
     "name": "stdout",
     "output_type": "stream",
     "text": [
      "Saving results in E:\\Imaging2AFCPop\\eye tracking\\110516...\n",
      "Saving csv poses!\n",
      "Starting to analyze %  E:\\Imaging2AFCPop\\eye tracking\\110516\\MF209_110516_12a_FIXED_025.avi\n",
      "E:\\Imaging2AFCPop\\eye tracking\\110516  already exists!\n",
      "Loading  E:\\Imaging2AFCPop\\eye tracking\\110516\\MF209_110516_12a_FIXED_025.avi\n",
      "Duration of video [s]:  17.09 , recorded with  90.0 fps!\n",
      "Overall # of frames:  1538  found with (before cropping) frame dimensions:  224 180\n",
      "Starting to extract posture\n"
     ]
    },
    {
     "name": "stderr",
     "output_type": "stream",
     "text": [
      "1545it [00:07, 193.26it/s]                                                                                             \n"
     ]
    },
    {
     "name": "stdout",
     "output_type": "stream",
     "text": [
      "Saving results in E:\\Imaging2AFCPop\\eye tracking\\110516...\n",
      "Saving csv poses!\n"
     ]
    },
    {
     "name": "stderr",
     "output_type": "stream",
     "text": [
      "  3%|██▏                                                                            | 42/1493 [00:00<00:04, 320.18it/s]"
     ]
    },
    {
     "name": "stdout",
     "output_type": "stream",
     "text": [
      "Starting to analyze %  E:\\Imaging2AFCPop\\eye tracking\\110516\\MF209_110516_12a_FIXED_043.avi\n",
      "E:\\Imaging2AFCPop\\eye tracking\\110516  already exists!\n",
      "Loading  E:\\Imaging2AFCPop\\eye tracking\\110516\\MF209_110516_12a_FIXED_043.avi\n",
      "Duration of video [s]:  16.59 , recorded with  90.0 fps!\n",
      "Overall # of frames:  1493  found with (before cropping) frame dimensions:  224 180\n",
      "Starting to extract posture\n"
     ]
    },
    {
     "name": "stderr",
     "output_type": "stream",
     "text": [
      "1498it [00:07, 191.89it/s]                                                                                             \n"
     ]
    },
    {
     "name": "stdout",
     "output_type": "stream",
     "text": [
      "Saving results in E:\\Imaging2AFCPop\\eye tracking\\110516...\n",
      "Saving csv poses!\n"
     ]
    },
    {
     "name": "stderr",
     "output_type": "stream",
     "text": [
      "  4%|███▌                                                                            | 40/892 [00:00<00:02, 328.32it/s]"
     ]
    },
    {
     "name": "stdout",
     "output_type": "stream",
     "text": [
      "Starting to analyze %  E:\\Imaging2AFCPop\\eye tracking\\110516\\MF209_110516_12a_FIXED_194.avi\n",
      "E:\\Imaging2AFCPop\\eye tracking\\110516  already exists!\n",
      "Loading  E:\\Imaging2AFCPop\\eye tracking\\110516\\MF209_110516_12a_FIXED_194.avi\n",
      "Duration of video [s]:  9.91 , recorded with  90.0 fps!\n",
      "Overall # of frames:  892  found with (before cropping) frame dimensions:  224 180\n",
      "Starting to extract posture\n"
     ]
    },
    {
     "name": "stderr",
     "output_type": "stream",
     "text": [
      "900it [00:04, 193.65it/s]                                                                                              \n"
     ]
    },
    {
     "name": "stdout",
     "output_type": "stream",
     "text": [
      "Saving results in E:\\Imaging2AFCPop\\eye tracking\\110516...\n",
      "Saving csv poses!\n",
      "Starting to analyze %  E:\\Imaging2AFCPop\\eye tracking\\110516\\MF209_110516_12a_FIXED_102.avi\n",
      "E:\\Imaging2AFCPop\\eye tracking\\110516  already exists!\n",
      "Loading  E:\\Imaging2AFCPop\\eye tracking\\110516\\MF209_110516_12a_FIXED_102.avi\n",
      "Duration of video [s]:  14.7 , recorded with  90.0 fps!\n"
     ]
    },
    {
     "name": "stderr",
     "output_type": "stream",
     "text": [
      "  3%|██▎                                                                            | 39/1323 [00:00<00:04, 293.67it/s]"
     ]
    },
    {
     "name": "stdout",
     "output_type": "stream",
     "text": [
      "Overall # of frames:  1323  found with (before cropping) frame dimensions:  224 180\n",
      "Starting to extract posture\n"
     ]
    },
    {
     "name": "stderr",
     "output_type": "stream",
     "text": [
      "1326it [00:06, 190.99it/s]                                                                                             \n"
     ]
    },
    {
     "name": "stdout",
     "output_type": "stream",
     "text": [
      "Saving results in E:\\Imaging2AFCPop\\eye tracking\\110516...\n",
      "Saving csv poses!\n"
     ]
    },
    {
     "name": "stderr",
     "output_type": "stream",
     "text": [
      "  3%|██▎                                                                            | 39/1369 [00:00<00:04, 318.28it/s]"
     ]
    },
    {
     "name": "stdout",
     "output_type": "stream",
     "text": [
      "Starting to analyze %  E:\\Imaging2AFCPop\\eye tracking\\110516\\MF209_110516_12a_FIXED_173.avi\n",
      "E:\\Imaging2AFCPop\\eye tracking\\110516  already exists!\n",
      "Loading  E:\\Imaging2AFCPop\\eye tracking\\110516\\MF209_110516_12a_FIXED_173.avi\n",
      "Duration of video [s]:  15.21 , recorded with  90.0 fps!\n",
      "Overall # of frames:  1369  found with (before cropping) frame dimensions:  224 180\n",
      "Starting to extract posture\n"
     ]
    },
    {
     "name": "stderr",
     "output_type": "stream",
     "text": [
      "1378it [00:07, 191.82it/s]                                                                                             \n"
     ]
    },
    {
     "name": "stdout",
     "output_type": "stream",
     "text": [
      "Saving results in E:\\Imaging2AFCPop\\eye tracking\\110516...\n",
      "Saving csv poses!\n"
     ]
    },
    {
     "name": "stderr",
     "output_type": "stream",
     "text": [
      "  5%|████▎                                                                           | 40/738 [00:00<00:02, 291.86it/s]"
     ]
    },
    {
     "name": "stdout",
     "output_type": "stream",
     "text": [
      "Starting to analyze %  E:\\Imaging2AFCPop\\eye tracking\\110516\\MF209_110516_12a_FIXED_029.avi\n",
      "E:\\Imaging2AFCPop\\eye tracking\\110516  already exists!\n",
      "Loading  E:\\Imaging2AFCPop\\eye tracking\\110516\\MF209_110516_12a_FIXED_029.avi\n",
      "Duration of video [s]:  8.2 , recorded with  90.0 fps!\n",
      "Overall # of frames:  738  found with (before cropping) frame dimensions:  224 180\n",
      "Starting to extract posture\n"
     ]
    },
    {
     "name": "stderr",
     "output_type": "stream",
     "text": [
      "740it [00:03, 189.85it/s]                                                                                              \n",
      "  0%|                                                                                          | 0/954 [00:00<?, ?it/s]"
     ]
    },
    {
     "name": "stdout",
     "output_type": "stream",
     "text": [
      "Saving results in E:\\Imaging2AFCPop\\eye tracking\\110516...\n",
      "Saving csv poses!\n",
      "Starting to analyze %  E:\\Imaging2AFCPop\\eye tracking\\110516\\MF209_110516_12a_FIXED_057.avi\n",
      "E:\\Imaging2AFCPop\\eye tracking\\110516  already exists!\n",
      "Loading  E:\\Imaging2AFCPop\\eye tracking\\110516\\MF209_110516_12a_FIXED_057.avi\n",
      "Duration of video [s]:  10.6 , recorded with  90.0 fps!\n",
      "Overall # of frames:  954  found with (before cropping) frame dimensions:  224 180\n",
      "Starting to extract posture\n"
     ]
    },
    {
     "name": "stderr",
     "output_type": "stream",
     "text": [
      "960it [00:05, 191.99it/s]                                                                                              \n"
     ]
    },
    {
     "name": "stdout",
     "output_type": "stream",
     "text": [
      "Saving results in E:\\Imaging2AFCPop\\eye tracking\\110516...\n",
      "Saving csv poses!\n",
      "Starting to analyze %  E:\\Imaging2AFCPop\\eye tracking\\110516\\MF209_110516_12a_FIXED_172.avi\n",
      "E:\\Imaging2AFCPop\\eye tracking\\110516  already exists!\n",
      "Loading  E:\\Imaging2AFCPop\\eye tracking\\110516\\MF209_110516_12a_FIXED_172.avi\n"
     ]
    },
    {
     "name": "stderr",
     "output_type": "stream",
     "text": [
      " 12%|█████████▍                                                                      | 40/337 [00:00<00:00, 301.59it/s]"
     ]
    },
    {
     "name": "stdout",
     "output_type": "stream",
     "text": [
      "Duration of video [s]:  3.74 , recorded with  90.0 fps!\n",
      "Overall # of frames:  337  found with (before cropping) frame dimensions:  224 180\n",
      "Starting to extract posture\n"
     ]
    },
    {
     "name": "stderr",
     "output_type": "stream",
     "text": [
      "340it [00:01, 190.22it/s]                                                                                              \n",
      "  0%|                                                                                          | 0/477 [00:00<?, ?it/s]"
     ]
    },
    {
     "name": "stdout",
     "output_type": "stream",
     "text": [
      "Saving results in E:\\Imaging2AFCPop\\eye tracking\\110516...\n",
      "Saving csv poses!\n",
      "Starting to analyze %  E:\\Imaging2AFCPop\\eye tracking\\110516\\MF209_110516_12a_FIXED_137.avi\n",
      "E:\\Imaging2AFCPop\\eye tracking\\110516  already exists!\n",
      "Loading  E:\\Imaging2AFCPop\\eye tracking\\110516\\MF209_110516_12a_FIXED_137.avi\n",
      "Duration of video [s]:  5.3 , recorded with  90.0 fps!\n",
      "Overall # of frames:  477  found with (before cropping) frame dimensions:  224 180\n",
      "Starting to extract posture\n"
     ]
    },
    {
     "name": "stderr",
     "output_type": "stream",
     "text": [
      "480it [00:02, 191.84it/s]                                                                                              \n",
      "  0%|                                                                                          | 0/447 [00:00<?, ?it/s]"
     ]
    },
    {
     "name": "stdout",
     "output_type": "stream",
     "text": [
      "Saving results in E:\\Imaging2AFCPop\\eye tracking\\110516...\n",
      "Saving csv poses!\n",
      "Starting to analyze %  E:\\Imaging2AFCPop\\eye tracking\\110516\\MF209_110516_12a_FIXED_115.avi\n",
      "E:\\Imaging2AFCPop\\eye tracking\\110516  already exists!\n",
      "Loading  E:\\Imaging2AFCPop\\eye tracking\\110516\\MF209_110516_12a_FIXED_115.avi\n",
      "Duration of video [s]:  4.97 , recorded with  90.0 fps!\n",
      "Overall # of frames:  447  found with (before cropping) frame dimensions:  224 180\n",
      "Starting to extract posture\n"
     ]
    },
    {
     "name": "stderr",
     "output_type": "stream",
     "text": [
      "450it [00:02, 192.45it/s]                                                                                              \n",
      "  0%|                                                                                          | 0/754 [00:00<?, ?it/s]"
     ]
    },
    {
     "name": "stdout",
     "output_type": "stream",
     "text": [
      "Saving results in E:\\Imaging2AFCPop\\eye tracking\\110516...\n",
      "Saving csv poses!\n",
      "Starting to analyze %  E:\\Imaging2AFCPop\\eye tracking\\110516\\MF209_110516_12a_FIXED_001.avi\n",
      "E:\\Imaging2AFCPop\\eye tracking\\110516  already exists!\n",
      "Loading  E:\\Imaging2AFCPop\\eye tracking\\110516\\MF209_110516_12a_FIXED_001.avi\n",
      "Duration of video [s]:  8.38 , recorded with  90.0 fps!\n",
      "Overall # of frames:  754  found with (before cropping) frame dimensions:  224 180\n",
      "Starting to extract posture\n"
     ]
    },
    {
     "name": "stderr",
     "output_type": "stream",
     "text": [
      "760it [00:03, 191.73it/s]                                                                                              \n",
      "  0%|                                                                                          | 0/462 [00:00<?, ?it/s]"
     ]
    },
    {
     "name": "stdout",
     "output_type": "stream",
     "text": [
      "Saving results in E:\\Imaging2AFCPop\\eye tracking\\110516...\n",
      "Saving csv poses!\n",
      "Starting to analyze %  E:\\Imaging2AFCPop\\eye tracking\\110516\\MF209_110516_12a_FIXED_224.avi\n",
      "E:\\Imaging2AFCPop\\eye tracking\\110516  already exists!\n",
      "Loading  E:\\Imaging2AFCPop\\eye tracking\\110516\\MF209_110516_12a_FIXED_224.avi\n",
      "Duration of video [s]:  5.13 , recorded with  90.0 fps!\n",
      "Overall # of frames:  462  found with (before cropping) frame dimensions:  224 180\n",
      "Starting to extract posture\n"
     ]
    },
    {
     "name": "stderr",
     "output_type": "stream",
     "text": [
      "470it [00:02, 193.57it/s]                                                                                              \n",
      "  0%|                                                                                          | 0/492 [00:00<?, ?it/s]"
     ]
    },
    {
     "name": "stdout",
     "output_type": "stream",
     "text": [
      "Saving results in E:\\Imaging2AFCPop\\eye tracking\\110516...\n",
      "Saving csv poses!\n",
      "Starting to analyze %  E:\\Imaging2AFCPop\\eye tracking\\110516\\MF209_110516_12a_FIXED_244.avi\n",
      "E:\\Imaging2AFCPop\\eye tracking\\110516  already exists!\n",
      "Loading  E:\\Imaging2AFCPop\\eye tracking\\110516\\MF209_110516_12a_FIXED_244.avi\n",
      "Duration of video [s]:  5.47 , recorded with  90.0 fps!\n",
      "Overall # of frames:  492  found with (before cropping) frame dimensions:  224 180\n",
      "Starting to extract posture\n"
     ]
    },
    {
     "name": "stderr",
     "output_type": "stream",
     "text": [
      "500it [00:02, 192.15it/s]                                                                                              \n",
      "  0%|                                                                                          | 0/522 [00:00<?, ?it/s]"
     ]
    },
    {
     "name": "stdout",
     "output_type": "stream",
     "text": [
      "Saving results in E:\\Imaging2AFCPop\\eye tracking\\110516...\n",
      "Saving csv poses!\n",
      "Starting to analyze %  E:\\Imaging2AFCPop\\eye tracking\\110516\\MF209_110516_12a_FIXED_017.avi\n",
      "E:\\Imaging2AFCPop\\eye tracking\\110516  already exists!\n",
      "Loading  E:\\Imaging2AFCPop\\eye tracking\\110516\\MF209_110516_12a_FIXED_017.avi\n",
      "Duration of video [s]:  5.8 , recorded with  90.0 fps!\n",
      "Overall # of frames:  522  found with (before cropping) frame dimensions:  224 180\n",
      "Starting to extract posture\n"
     ]
    },
    {
     "name": "stderr",
     "output_type": "stream",
     "text": [
      "530it [00:02, 192.72it/s]                                                                                              \n",
      "  0%|                                                                                          | 0/615 [00:00<?, ?it/s]"
     ]
    },
    {
     "name": "stdout",
     "output_type": "stream",
     "text": [
      "Saving results in E:\\Imaging2AFCPop\\eye tracking\\110516...\n",
      "Saving csv poses!\n",
      "Starting to analyze %  E:\\Imaging2AFCPop\\eye tracking\\110516\\MF209_110516_12a_FIXED_219.avi\n",
      "E:\\Imaging2AFCPop\\eye tracking\\110516  already exists!\n",
      "Loading  E:\\Imaging2AFCPop\\eye tracking\\110516\\MF209_110516_12a_FIXED_219.avi\n",
      "Duration of video [s]:  6.83 , recorded with  90.0 fps!\n",
      "Overall # of frames:  615  found with (before cropping) frame dimensions:  224 180\n",
      "Starting to extract posture\n"
     ]
    },
    {
     "name": "stderr",
     "output_type": "stream",
     "text": [
      "620it [00:03, 193.10it/s]                                                                                              \n",
      "  0%|                                                                                          | 0/646 [00:00<?, ?it/s]"
     ]
    },
    {
     "name": "stdout",
     "output_type": "stream",
     "text": [
      "Saving results in E:\\Imaging2AFCPop\\eye tracking\\110516...\n",
      "Saving csv poses!\n",
      "Starting to analyze %  E:\\Imaging2AFCPop\\eye tracking\\110516\\MF209_110516_12a_FIXED_122.avi\n",
      "E:\\Imaging2AFCPop\\eye tracking\\110516  already exists!\n",
      "Loading  E:\\Imaging2AFCPop\\eye tracking\\110516\\MF209_110516_12a_FIXED_122.avi\n",
      "Duration of video [s]:  7.18 , recorded with  90.0 fps!\n",
      "Overall # of frames:  646  found with (before cropping) frame dimensions:  224 180\n",
      "Starting to extract posture\n"
     ]
    },
    {
     "name": "stderr",
     "output_type": "stream",
     "text": [
      "650it [00:03, 193.68it/s]                                                                                              \n",
      "  0%|                                                                                          | 0/646 [00:00<?, ?it/s]"
     ]
    },
    {
     "name": "stdout",
     "output_type": "stream",
     "text": [
      "Saving results in E:\\Imaging2AFCPop\\eye tracking\\110516...\n",
      "Saving csv poses!\n",
      "Starting to analyze %  E:\\Imaging2AFCPop\\eye tracking\\110516\\MF209_110516_12a_FIXED_097.avi\n",
      "E:\\Imaging2AFCPop\\eye tracking\\110516  already exists!\n",
      "Loading  E:\\Imaging2AFCPop\\eye tracking\\110516\\MF209_110516_12a_FIXED_097.avi\n",
      "Duration of video [s]:  7.18 , recorded with  90.0 fps!\n",
      "Overall # of frames:  646  found with (before cropping) frame dimensions:  224 180\n",
      "Starting to extract posture\n"
     ]
    },
    {
     "name": "stderr",
     "output_type": "stream",
     "text": [
      "650it [00:03, 193.05it/s]                                                                                              \n",
      "  0%|                                                                                          | 0/492 [00:00<?, ?it/s]"
     ]
    },
    {
     "name": "stdout",
     "output_type": "stream",
     "text": [
      "Saving results in E:\\Imaging2AFCPop\\eye tracking\\110516...\n",
      "Saving csv poses!\n",
      "Starting to analyze %  E:\\Imaging2AFCPop\\eye tracking\\110516\\MF209_110516_12a_FIXED_180.avi\n",
      "E:\\Imaging2AFCPop\\eye tracking\\110516  already exists!\n",
      "Loading  E:\\Imaging2AFCPop\\eye tracking\\110516\\MF209_110516_12a_FIXED_180.avi\n",
      "Duration of video [s]:  5.47 , recorded with  90.0 fps!\n",
      "Overall # of frames:  492  found with (before cropping) frame dimensions:  224 180\n",
      "Starting to extract posture\n"
     ]
    },
    {
     "name": "stderr",
     "output_type": "stream",
     "text": [
      "500it [00:02, 194.08it/s]                                                                                              \n",
      "  0%|                                                                                          | 0/462 [00:00<?, ?it/s]"
     ]
    },
    {
     "name": "stdout",
     "output_type": "stream",
     "text": [
      "Saving results in E:\\Imaging2AFCPop\\eye tracking\\110516...\n",
      "Saving csv poses!\n",
      "Starting to analyze %  E:\\Imaging2AFCPop\\eye tracking\\110516\\MF209_110516_12a_FIXED_169.avi\n",
      "E:\\Imaging2AFCPop\\eye tracking\\110516  already exists!\n",
      "Loading  E:\\Imaging2AFCPop\\eye tracking\\110516\\MF209_110516_12a_FIXED_169.avi\n",
      "Duration of video [s]:  5.13 , recorded with  90.0 fps!\n",
      "Overall # of frames:  462  found with (before cropping) frame dimensions:  224 180\n",
      "Starting to extract posture\n"
     ]
    },
    {
     "name": "stderr",
     "output_type": "stream",
     "text": [
      "470it [00:02, 194.73it/s]                                                                                              \n",
      "  0%|                                                                                          | 0/243 [00:00<?, ?it/s]"
     ]
    },
    {
     "name": "stdout",
     "output_type": "stream",
     "text": [
      "Saving results in E:\\Imaging2AFCPop\\eye tracking\\110516...\n",
      "Saving csv poses!\n",
      "Starting to analyze %  E:\\Imaging2AFCPop\\eye tracking\\110516\\MF209_110516_12a_FIXED_243.avi\n",
      "E:\\Imaging2AFCPop\\eye tracking\\110516  already exists!\n",
      "Loading  E:\\Imaging2AFCPop\\eye tracking\\110516\\MF209_110516_12a_FIXED_243.avi\n",
      "Duration of video [s]:  2.7 , recorded with  90.0 fps!\n",
      "Overall # of frames:  243  found with (before cropping) frame dimensions:  224 180\n",
      "Starting to extract posture\n"
     ]
    },
    {
     "name": "stderr",
     "output_type": "stream",
     "text": [
      "250it [00:01, 192.88it/s]                                                                                              \n",
      "  0%|                                                                                         | 0/1062 [00:00<?, ?it/s]"
     ]
    },
    {
     "name": "stdout",
     "output_type": "stream",
     "text": [
      "Saving results in E:\\Imaging2AFCPop\\eye tracking\\110516...\n",
      "Saving csv poses!\n",
      "Starting to analyze %  E:\\Imaging2AFCPop\\eye tracking\\110516\\MF209_110516_12a_FIXED_007.avi\n",
      "E:\\Imaging2AFCPop\\eye tracking\\110516  already exists!\n",
      "Loading  E:\\Imaging2AFCPop\\eye tracking\\110516\\MF209_110516_12a_FIXED_007.avi\n",
      "Duration of video [s]:  11.8 , recorded with  90.0 fps!\n",
      "Overall # of frames:  1062  found with (before cropping) frame dimensions:  224 180\n",
      "Starting to extract posture\n"
     ]
    },
    {
     "name": "stderr",
     "output_type": "stream",
     "text": [
      "1070it [00:05, 194.67it/s]                                                                                             \n"
     ]
    },
    {
     "name": "stdout",
     "output_type": "stream",
     "text": [
      "Saving results in E:\\Imaging2AFCPop\\eye tracking\\110516...\n",
      "Saving csv poses!\n",
      "Starting to analyze %  E:\\Imaging2AFCPop\\eye tracking\\110516\\MF209_110516_12a_FIXED_237.avi\n",
      "E:\\Imaging2AFCPop\\eye tracking\\110516  already exists!\n",
      "Loading  E:\\Imaging2AFCPop\\eye tracking\\110516\\MF209_110516_12a_FIXED_237.avi\n"
     ]
    },
    {
     "name": "stderr",
     "output_type": "stream",
     "text": [
      "  9%|███████▏                                                                        | 40/447 [00:00<00:01, 302.89it/s]"
     ]
    },
    {
     "name": "stdout",
     "output_type": "stream",
     "text": [
      "Duration of video [s]:  4.97 , recorded with  90.0 fps!\n",
      "Overall # of frames:  447  found with (before cropping) frame dimensions:  224 180\n",
      "Starting to extract posture\n"
     ]
    },
    {
     "name": "stderr",
     "output_type": "stream",
     "text": [
      "450it [00:02, 194.62it/s]                                                                                              \n",
      "  0%|                                                                                          | 0/538 [00:00<?, ?it/s]"
     ]
    },
    {
     "name": "stdout",
     "output_type": "stream",
     "text": [
      "Saving results in E:\\Imaging2AFCPop\\eye tracking\\110516...\n",
      "Saving csv poses!\n",
      "Starting to analyze %  E:\\Imaging2AFCPop\\eye tracking\\110516\\MF209_110516_12a_FIXED_211.avi\n",
      "E:\\Imaging2AFCPop\\eye tracking\\110516  already exists!\n",
      "Loading  E:\\Imaging2AFCPop\\eye tracking\\110516\\MF209_110516_12a_FIXED_211.avi\n",
      "Duration of video [s]:  5.98 , recorded with  90.0 fps!\n",
      "Overall # of frames:  538  found with (before cropping) frame dimensions:  224 180\n",
      "Starting to extract posture\n"
     ]
    },
    {
     "name": "stderr",
     "output_type": "stream",
     "text": [
      "540it [00:02, 191.24it/s]                                                                                              \n",
      "  0%|                                                                                          | 0/524 [00:00<?, ?it/s]"
     ]
    },
    {
     "name": "stdout",
     "output_type": "stream",
     "text": [
      "Saving results in E:\\Imaging2AFCPop\\eye tracking\\110516...\n",
      "Saving csv poses!\n",
      "Starting to analyze %  E:\\Imaging2AFCPop\\eye tracking\\110516\\MF209_110516_12a_FIXED_062.avi\n",
      "E:\\Imaging2AFCPop\\eye tracking\\110516  already exists!\n",
      "Loading  E:\\Imaging2AFCPop\\eye tracking\\110516\\MF209_110516_12a_FIXED_062.avi\n",
      "Duration of video [s]:  5.82 , recorded with  90.0 fps!\n",
      "Overall # of frames:  524  found with (before cropping) frame dimensions:  224 180\n",
      "Starting to extract posture\n"
     ]
    },
    {
     "name": "stderr",
     "output_type": "stream",
     "text": [
      "530it [00:02, 194.61it/s]                                                                                              \n",
      "  0%|                                                                                          | 0/477 [00:00<?, ?it/s]"
     ]
    },
    {
     "name": "stdout",
     "output_type": "stream",
     "text": [
      "Saving results in E:\\Imaging2AFCPop\\eye tracking\\110516...\n",
      "Saving csv poses!\n",
      "Starting to analyze %  E:\\Imaging2AFCPop\\eye tracking\\110516\\MF209_110516_12a_FIXED_095.avi\n",
      "E:\\Imaging2AFCPop\\eye tracking\\110516  already exists!\n",
      "Loading  E:\\Imaging2AFCPop\\eye tracking\\110516\\MF209_110516_12a_FIXED_095.avi\n",
      "Duration of video [s]:  5.3 , recorded with  90.0 fps!\n",
      "Overall # of frames:  477  found with (before cropping) frame dimensions:  224 180\n",
      "Starting to extract posture\n"
     ]
    },
    {
     "name": "stderr",
     "output_type": "stream",
     "text": [
      "480it [00:02, 192.72it/s]                                                                                              \n",
      "  0%|                                                                                         | 0/2108 [00:00<?, ?it/s]"
     ]
    },
    {
     "name": "stdout",
     "output_type": "stream",
     "text": [
      "Saving results in E:\\Imaging2AFCPop\\eye tracking\\110516...\n",
      "Saving csv poses!\n",
      "Starting to analyze %  E:\\Imaging2AFCPop\\eye tracking\\110516\\MF209_110516_12a_FIXED_087.avi\n",
      "E:\\Imaging2AFCPop\\eye tracking\\110516  already exists!\n",
      "Loading  E:\\Imaging2AFCPop\\eye tracking\\110516\\MF209_110516_12a_FIXED_087.avi\n",
      "Duration of video [s]:  23.42 , recorded with  90.0 fps!\n",
      "Overall # of frames:  2108  found with (before cropping) frame dimensions:  224 180\n",
      "Starting to extract posture\n"
     ]
    },
    {
     "name": "stderr",
     "output_type": "stream",
     "text": [
      "2121it [00:10, 195.74it/s]                                                                                             \n"
     ]
    },
    {
     "name": "stdout",
     "output_type": "stream",
     "text": [
      "Saving results in E:\\Imaging2AFCPop\\eye tracking\\110516...\n",
      "Saving csv poses!\n"
     ]
    },
    {
     "name": "stderr",
     "output_type": "stream",
     "text": [
      "  7%|█████▏                                                                          | 40/615 [00:00<00:01, 308.25it/s]"
     ]
    },
    {
     "name": "stdout",
     "output_type": "stream",
     "text": [
      "Starting to analyze %  E:\\Imaging2AFCPop\\eye tracking\\110516\\MF209_110516_12a_FIXED_063.avi\n",
      "E:\\Imaging2AFCPop\\eye tracking\\110516  already exists!\n",
      "Loading  E:\\Imaging2AFCPop\\eye tracking\\110516\\MF209_110516_12a_FIXED_063.avi\n",
      "Duration of video [s]:  6.83 , recorded with  90.0 fps!\n",
      "Overall # of frames:  615  found with (before cropping) frame dimensions:  224 180\n",
      "Starting to extract posture\n"
     ]
    },
    {
     "name": "stderr",
     "output_type": "stream",
     "text": [
      "620it [00:03, 194.98it/s]                                                                                              \n",
      "  0%|                                                                                         | 0/3611 [00:00<?, ?it/s]"
     ]
    },
    {
     "name": "stdout",
     "output_type": "stream",
     "text": [
      "Saving results in E:\\Imaging2AFCPop\\eye tracking\\110516...\n",
      "Saving csv poses!\n",
      "Starting to analyze %  E:\\Imaging2AFCPop\\eye tracking\\110516\\MF209_110516_12a_FIXED_198.avi\n",
      "E:\\Imaging2AFCPop\\eye tracking\\110516  already exists!\n",
      "Loading  E:\\Imaging2AFCPop\\eye tracking\\110516\\MF209_110516_12a_FIXED_198.avi\n",
      "Duration of video [s]:  40.12 , recorded with  90.0 fps!\n",
      "Overall # of frames:  3611  found with (before cropping) frame dimensions:  224 180\n",
      "Starting to extract posture\n"
     ]
    },
    {
     "name": "stderr",
     "output_type": "stream",
     "text": [
      "3636it [00:18, 196.37it/s]                                                                                             \n"
     ]
    },
    {
     "name": "stdout",
     "output_type": "stream",
     "text": [
      "Saving results in E:\\Imaging2AFCPop\\eye tracking\\110516...\n",
      "Saving csv poses!\n"
     ]
    },
    {
     "name": "stderr",
     "output_type": "stream",
     "text": [
      "  6%|████▍                                                                           | 40/724 [00:00<00:02, 323.07it/s]"
     ]
    },
    {
     "name": "stdout",
     "output_type": "stream",
     "text": [
      "Starting to analyze %  E:\\Imaging2AFCPop\\eye tracking\\110516\\MF209_110516_12a_FIXED_038.avi\n",
      "E:\\Imaging2AFCPop\\eye tracking\\110516  already exists!\n",
      "Loading  E:\\Imaging2AFCPop\\eye tracking\\110516\\MF209_110516_12a_FIXED_038.avi\n",
      "Duration of video [s]:  8.04 , recorded with  90.0 fps!\n",
      "Overall # of frames:  724  found with (before cropping) frame dimensions:  224 180\n",
      "Starting to extract posture\n"
     ]
    },
    {
     "name": "stderr",
     "output_type": "stream",
     "text": [
      "730it [00:03, 194.23it/s]                                                                                              \n",
      "  0%|                                                                                          | 0/539 [00:00<?, ?it/s]"
     ]
    },
    {
     "name": "stdout",
     "output_type": "stream",
     "text": [
      "Saving results in E:\\Imaging2AFCPop\\eye tracking\\110516...\n",
      "Saving csv poses!\n",
      "Starting to analyze %  E:\\Imaging2AFCPop\\eye tracking\\110516\\MF209_110516_12a_FIXED_214.avi\n",
      "E:\\Imaging2AFCPop\\eye tracking\\110516  already exists!\n",
      "Loading  E:\\Imaging2AFCPop\\eye tracking\\110516\\MF209_110516_12a_FIXED_214.avi\n",
      "Duration of video [s]:  5.99 , recorded with  90.0 fps!\n",
      "Overall # of frames:  539  found with (before cropping) frame dimensions:  224 180\n",
      "Starting to extract posture\n"
     ]
    },
    {
     "name": "stderr",
     "output_type": "stream",
     "text": [
      "540it [00:02, 191.68it/s]                                                                                              \n",
      "  0%|                                                                                          | 0/754 [00:00<?, ?it/s]"
     ]
    },
    {
     "name": "stdout",
     "output_type": "stream",
     "text": [
      "Saving results in E:\\Imaging2AFCPop\\eye tracking\\110516...\n",
      "Saving csv poses!\n",
      "Starting to analyze %  E:\\Imaging2AFCPop\\eye tracking\\110516\\MF209_110516_12a_FIXED_154.avi\n",
      "E:\\Imaging2AFCPop\\eye tracking\\110516  already exists!\n",
      "Loading  E:\\Imaging2AFCPop\\eye tracking\\110516\\MF209_110516_12a_FIXED_154.avi\n",
      "Duration of video [s]:  8.38 , recorded with  90.0 fps!\n",
      "Overall # of frames:  754  found with (before cropping) frame dimensions:  224 180\n",
      "Starting to extract posture\n"
     ]
    },
    {
     "name": "stderr",
     "output_type": "stream",
     "text": [
      "760it [00:03, 193.77it/s]                                                                                              \n",
      "  0%|                                                                                          | 0/708 [00:00<?, ?it/s]"
     ]
    },
    {
     "name": "stdout",
     "output_type": "stream",
     "text": [
      "Saving results in E:\\Imaging2AFCPop\\eye tracking\\110516...\n",
      "Saving csv poses!\n",
      "Starting to analyze %  E:\\Imaging2AFCPop\\eye tracking\\110516\\MF209_110516_12a_FIXED_164.avi\n",
      "E:\\Imaging2AFCPop\\eye tracking\\110516  already exists!\n",
      "Loading  E:\\Imaging2AFCPop\\eye tracking\\110516\\MF209_110516_12a_FIXED_164.avi\n",
      "Duration of video [s]:  7.87 , recorded with  90.0 fps!\n",
      "Overall # of frames:  708  found with (before cropping) frame dimensions:  224 180\n",
      "Starting to extract posture\n"
     ]
    },
    {
     "name": "stderr",
     "output_type": "stream",
     "text": [
      "710it [00:03, 193.30it/s]                                                                                              \n"
     ]
    },
    {
     "name": "stdout",
     "output_type": "stream",
     "text": [
      "Saving results in E:\\Imaging2AFCPop\\eye tracking\\110516...\n",
      "Saving csv poses!\n",
      "Starting to analyze %  E:\\Imaging2AFCPop\\eye tracking\\110516\\MF209_110516_12a_FIXED_225.avi\n",
      "E:\\Imaging2AFCPop\\eye tracking\\110516  already exists!\n",
      "Loading  E:\\Imaging2AFCPop\\eye tracking\\110516\\MF209_110516_12a_FIXED_225.avi\n",
      "Duration of video [s]:  5.13 , recorded with  90.0 fps!\n",
      "Overall # of frames:  462  found with (before cropping) frame dimensions:  224 180\n",
      "Starting to extract posture\n"
     ]
    },
    {
     "name": "stderr",
     "output_type": "stream",
     "text": [
      "470it [00:02, 194.15it/s]                                                                                              \n",
      "  0%|                                                                                          | 0/477 [00:00<?, ?it/s]"
     ]
    },
    {
     "name": "stdout",
     "output_type": "stream",
     "text": [
      "Saving results in E:\\Imaging2AFCPop\\eye tracking\\110516...\n",
      "Saving csv poses!\n",
      "Starting to analyze %  E:\\Imaging2AFCPop\\eye tracking\\110516\\MF209_110516_12a_FIXED_077.avi\n",
      "E:\\Imaging2AFCPop\\eye tracking\\110516  already exists!\n",
      "Loading  E:\\Imaging2AFCPop\\eye tracking\\110516\\MF209_110516_12a_FIXED_077.avi\n",
      "Duration of video [s]:  5.3 , recorded with  90.0 fps!\n",
      "Overall # of frames:  477  found with (before cropping) frame dimensions:  224 180\n",
      "Starting to extract posture\n"
     ]
    },
    {
     "name": "stderr",
     "output_type": "stream",
     "text": [
      "480it [00:02, 192.68it/s]                                                                                              \n",
      "  0%|                                                                                          | 0/477 [00:00<?, ?it/s]"
     ]
    },
    {
     "name": "stdout",
     "output_type": "stream",
     "text": [
      "Saving results in E:\\Imaging2AFCPop\\eye tracking\\110516...\n",
      "Saving csv poses!\n",
      "Starting to analyze %  E:\\Imaging2AFCPop\\eye tracking\\110516\\MF209_110516_12a_FIXED_217.avi\n",
      "E:\\Imaging2AFCPop\\eye tracking\\110516  already exists!\n",
      "Loading  E:\\Imaging2AFCPop\\eye tracking\\110516\\MF209_110516_12a_FIXED_217.avi\n",
      "Duration of video [s]:  5.3 , recorded with  90.0 fps!\n",
      "Overall # of frames:  477  found with (before cropping) frame dimensions:  224 180\n",
      "Starting to extract posture\n"
     ]
    },
    {
     "name": "stderr",
     "output_type": "stream",
     "text": [
      "480it [00:02, 193.73it/s]                                                                                              \n",
      "  0%|                                                                                          | 0/461 [00:00<?, ?it/s]"
     ]
    },
    {
     "name": "stdout",
     "output_type": "stream",
     "text": [
      "Saving results in E:\\Imaging2AFCPop\\eye tracking\\110516...\n",
      "Saving csv poses!\n",
      "Starting to analyze %  E:\\Imaging2AFCPop\\eye tracking\\110516\\MF209_110516_12a_FIXED_021.avi\n",
      "E:\\Imaging2AFCPop\\eye tracking\\110516  already exists!\n",
      "Loading  E:\\Imaging2AFCPop\\eye tracking\\110516\\MF209_110516_12a_FIXED_021.avi\n",
      "Duration of video [s]:  5.12 , recorded with  90.0 fps!\n",
      "Overall # of frames:  461  found with (before cropping) frame dimensions:  224 180\n",
      "Starting to extract posture\n"
     ]
    },
    {
     "name": "stderr",
     "output_type": "stream",
     "text": [
      "470it [00:02, 195.89it/s]                                                                                              \n",
      "  0%|                                                                                          | 0/585 [00:00<?, ?it/s]"
     ]
    },
    {
     "name": "stdout",
     "output_type": "stream",
     "text": [
      "Saving results in E:\\Imaging2AFCPop\\eye tracking\\110516...\n",
      "Saving csv poses!\n",
      "Starting to analyze %  E:\\Imaging2AFCPop\\eye tracking\\110516\\MF209_110516_12a_FIXED_141.avi\n",
      "E:\\Imaging2AFCPop\\eye tracking\\110516  already exists!\n",
      "Loading  E:\\Imaging2AFCPop\\eye tracking\\110516\\MF209_110516_12a_FIXED_141.avi\n",
      "Duration of video [s]:  6.5 , recorded with  90.0 fps!\n",
      "Overall # of frames:  585  found with (before cropping) frame dimensions:  224 180\n",
      "Starting to extract posture\n"
     ]
    },
    {
     "name": "stderr",
     "output_type": "stream",
     "text": [
      "590it [00:03, 193.08it/s]                                                                                              \n",
      "  0%|                                                                                         | 0/1201 [00:00<?, ?it/s]"
     ]
    },
    {
     "name": "stdout",
     "output_type": "stream",
     "text": [
      "Saving results in E:\\Imaging2AFCPop\\eye tracking\\110516...\n",
      "Saving csv poses!\n",
      "Starting to analyze %  E:\\Imaging2AFCPop\\eye tracking\\110516\\MF209_110516_12a_FIXED_111.avi\n",
      "E:\\Imaging2AFCPop\\eye tracking\\110516  already exists!\n",
      "Loading  E:\\Imaging2AFCPop\\eye tracking\\110516\\MF209_110516_12a_FIXED_111.avi\n",
      "Duration of video [s]:  13.34 , recorded with  90.0 fps!\n",
      "Overall # of frames:  1201  found with (before cropping) frame dimensions:  224 180\n",
      "Starting to extract posture\n"
     ]
    },
    {
     "name": "stderr",
     "output_type": "stream",
     "text": [
      "1212it [00:06, 194.32it/s]                                                                                             \n"
     ]
    },
    {
     "name": "stdout",
     "output_type": "stream",
     "text": [
      "Saving results in E:\\Imaging2AFCPop\\eye tracking\\110516...\n",
      "Saving csv poses!\n"
     ]
    },
    {
     "name": "stderr",
     "output_type": "stream",
     "text": [
      "  9%|███████▏                                                                        | 40/447 [00:00<00:01, 314.63it/s]"
     ]
    },
    {
     "name": "stdout",
     "output_type": "stream",
     "text": [
      "Starting to analyze %  E:\\Imaging2AFCPop\\eye tracking\\110516\\MF209_110516_12a_FIXED_066.avi\n",
      "E:\\Imaging2AFCPop\\eye tracking\\110516  already exists!\n",
      "Loading  E:\\Imaging2AFCPop\\eye tracking\\110516\\MF209_110516_12a_FIXED_066.avi\n",
      "Duration of video [s]:  4.97 , recorded with  90.0 fps!\n",
      "Overall # of frames:  447  found with (before cropping) frame dimensions:  224 180\n",
      "Starting to extract posture\n"
     ]
    },
    {
     "name": "stderr",
     "output_type": "stream",
     "text": [
      "450it [00:02, 193.59it/s]                                                                                              \n",
      "  0%|                                                                                         | 0/1569 [00:00<?, ?it/s]"
     ]
    },
    {
     "name": "stdout",
     "output_type": "stream",
     "text": [
      "Saving results in E:\\Imaging2AFCPop\\eye tracking\\110516...\n",
      "Saving csv poses!\n",
      "Starting to analyze %  E:\\Imaging2AFCPop\\eye tracking\\110516\\MF209_110516_12a_FIXED_059.avi\n",
      "E:\\Imaging2AFCPop\\eye tracking\\110516  already exists!\n",
      "Loading  E:\\Imaging2AFCPop\\eye tracking\\110516\\MF209_110516_12a_FIXED_059.avi\n",
      "Duration of video [s]:  17.43 , recorded with  90.0 fps!\n",
      "Overall # of frames:  1569  found with (before cropping) frame dimensions:  224 180\n",
      "Starting to extract posture\n"
     ]
    },
    {
     "name": "stderr",
     "output_type": "stream",
     "text": [
      "1575it [00:08, 194.45it/s]                                                                                             \n"
     ]
    },
    {
     "name": "stdout",
     "output_type": "stream",
     "text": [
      "Saving results in E:\\Imaging2AFCPop\\eye tracking\\110516...\n",
      "Saving csv poses!\n"
     ]
    },
    {
     "name": "stderr",
     "output_type": "stream",
     "text": [
      "  8%|██████▎                                                                         | 40/508 [00:00<00:01, 303.31it/s]"
     ]
    },
    {
     "name": "stdout",
     "output_type": "stream",
     "text": [
      "Starting to analyze %  E:\\Imaging2AFCPop\\eye tracking\\110516\\MF209_110516_12a_FIXED_023.avi\n",
      "E:\\Imaging2AFCPop\\eye tracking\\110516  already exists!\n",
      "Loading  E:\\Imaging2AFCPop\\eye tracking\\110516\\MF209_110516_12a_FIXED_023.avi\n",
      "Duration of video [s]:  5.64 , recorded with  90.0 fps!\n",
      "Overall # of frames:  508  found with (before cropping) frame dimensions:  224 180\n",
      "Starting to extract posture\n"
     ]
    },
    {
     "name": "stderr",
     "output_type": "stream",
     "text": [
      "510it [00:02, 192.41it/s]                                                                                              \n",
      "  0%|                                                                                          | 0/462 [00:00<?, ?it/s]"
     ]
    },
    {
     "name": "stdout",
     "output_type": "stream",
     "text": [
      "Saving results in E:\\Imaging2AFCPop\\eye tracking\\110516...\n",
      "Saving csv poses!\n",
      "Starting to analyze %  E:\\Imaging2AFCPop\\eye tracking\\110516\\MF209_110516_12a_FIXED_223.avi\n",
      "E:\\Imaging2AFCPop\\eye tracking\\110516  already exists!\n",
      "Loading  E:\\Imaging2AFCPop\\eye tracking\\110516\\MF209_110516_12a_FIXED_223.avi\n",
      "Duration of video [s]:  5.13 , recorded with  90.0 fps!\n",
      "Overall # of frames:  462  found with (before cropping) frame dimensions:  224 180\n",
      "Starting to extract posture\n"
     ]
    },
    {
     "name": "stderr",
     "output_type": "stream",
     "text": [
      "470it [00:02, 195.14it/s]                                                                                              \n",
      "  0%|                                                                                          | 0/939 [00:00<?, ?it/s]"
     ]
    },
    {
     "name": "stdout",
     "output_type": "stream",
     "text": [
      "Saving results in E:\\Imaging2AFCPop\\eye tracking\\110516...\n",
      "Saving csv poses!\n",
      "Starting to analyze %  E:\\Imaging2AFCPop\\eye tracking\\110516\\MF209_110516_12a_FIXED_140.avi\n",
      "E:\\Imaging2AFCPop\\eye tracking\\110516  already exists!\n",
      "Loading  E:\\Imaging2AFCPop\\eye tracking\\110516\\MF209_110516_12a_FIXED_140.avi\n",
      "Duration of video [s]:  10.43 , recorded with  90.0 fps!\n",
      "Overall # of frames:  939  found with (before cropping) frame dimensions:  224 180\n",
      "Starting to extract posture\n"
     ]
    },
    {
     "name": "stderr",
     "output_type": "stream",
     "text": [
      "940it [00:04, 192.27it/s]                                                                                              \n"
     ]
    },
    {
     "name": "stdout",
     "output_type": "stream",
     "text": [
      "Saving results in E:\\Imaging2AFCPop\\eye tracking\\110516...\n",
      "Saving csv poses!\n",
      "Starting to analyze %  E:\\Imaging2AFCPop\\eye tracking\\110516\\MF209_110516_12a_FIXED_127.avi\n",
      "E:\\Imaging2AFCPop\\eye tracking\\110516  already exists!\n",
      "Loading  E:\\Imaging2AFCPop\\eye tracking\\110516\\MF209_110516_12a_FIXED_127.avi\n"
     ]
    },
    {
     "name": "stderr",
     "output_type": "stream",
     "text": [
      "  9%|███████                                                                         | 40/452 [00:00<00:01, 310.46it/s]"
     ]
    },
    {
     "name": "stdout",
     "output_type": "stream",
     "text": [
      "Duration of video [s]:  5.02 , recorded with  90.0 fps!\n",
      "Overall # of frames:  452  found with (before cropping) frame dimensions:  224 180\n",
      "Starting to extract posture\n"
     ]
    },
    {
     "name": "stderr",
     "output_type": "stream",
     "text": [
      "460it [00:02, 195.31it/s]                                                                                              \n",
      "  0%|                                                                                          | 0/708 [00:00<?, ?it/s]"
     ]
    },
    {
     "name": "stdout",
     "output_type": "stream",
     "text": [
      "Saving results in E:\\Imaging2AFCPop\\eye tracking\\110516...\n",
      "Saving csv poses!\n",
      "Starting to analyze %  E:\\Imaging2AFCPop\\eye tracking\\110516\\MF209_110516_12a_FIXED_197.avi\n",
      "E:\\Imaging2AFCPop\\eye tracking\\110516  already exists!\n",
      "Loading  E:\\Imaging2AFCPop\\eye tracking\\110516\\MF209_110516_12a_FIXED_197.avi\n",
      "Duration of video [s]:  7.87 , recorded with  90.0 fps!\n",
      "Overall # of frames:  708  found with (before cropping) frame dimensions:  224 180\n",
      "Starting to extract posture\n"
     ]
    },
    {
     "name": "stderr",
     "output_type": "stream",
     "text": [
      "710it [00:03, 192.30it/s]                                                                                              \n",
      "  0%|                                                                                          | 0/463 [00:00<?, ?it/s]"
     ]
    },
    {
     "name": "stdout",
     "output_type": "stream",
     "text": [
      "Saving results in E:\\Imaging2AFCPop\\eye tracking\\110516...\n",
      "Saving csv poses!\n",
      "Starting to analyze %  E:\\Imaging2AFCPop\\eye tracking\\110516\\MF209_110516_12a_FIXED_020.avi\n",
      "E:\\Imaging2AFCPop\\eye tracking\\110516  already exists!\n",
      "Loading  E:\\Imaging2AFCPop\\eye tracking\\110516\\MF209_110516_12a_FIXED_020.avi\n",
      "Duration of video [s]:  5.14 , recorded with  90.0 fps!\n",
      "Overall # of frames:  463  found with (before cropping) frame dimensions:  224 180\n",
      "Starting to extract posture\n"
     ]
    },
    {
     "name": "stderr",
     "output_type": "stream",
     "text": [
      "470it [00:02, 196.00it/s]                                                                                              \n",
      "  0%|                                                                                          | 0/446 [00:00<?, ?it/s]"
     ]
    },
    {
     "name": "stdout",
     "output_type": "stream",
     "text": [
      "Saving results in E:\\Imaging2AFCPop\\eye tracking\\110516...\n",
      "Saving csv poses!\n",
      "Starting to analyze %  E:\\Imaging2AFCPop\\eye tracking\\110516\\MF209_110516_12a_FIXED_207.avi\n",
      "E:\\Imaging2AFCPop\\eye tracking\\110516  already exists!\n",
      "Loading  E:\\Imaging2AFCPop\\eye tracking\\110516\\MF209_110516_12a_FIXED_207.avi\n",
      "Duration of video [s]:  4.96 , recorded with  90.0 fps!\n",
      "Overall # of frames:  446  found with (before cropping) frame dimensions:  224 180\n",
      "Starting to extract posture\n"
     ]
    },
    {
     "name": "stderr",
     "output_type": "stream",
     "text": [
      "450it [00:02, 194.92it/s]                                                                                              \n",
      "  0%|                                                                                         | 0/1338 [00:00<?, ?it/s]"
     ]
    },
    {
     "name": "stdout",
     "output_type": "stream",
     "text": [
      "Saving results in E:\\Imaging2AFCPop\\eye tracking\\110516...\n",
      "Saving csv poses!\n",
      "Starting to analyze %  E:\\Imaging2AFCPop\\eye tracking\\110516\\MF209_110516_12a_FIXED_159.avi\n",
      "E:\\Imaging2AFCPop\\eye tracking\\110516  already exists!\n",
      "Loading  E:\\Imaging2AFCPop\\eye tracking\\110516\\MF209_110516_12a_FIXED_159.avi\n",
      "Duration of video [s]:  14.87 , recorded with  90.0 fps!\n",
      "Overall # of frames:  1338  found with (before cropping) frame dimensions:  224 180\n",
      "Starting to extract posture\n"
     ]
    },
    {
     "name": "stderr",
     "output_type": "stream",
     "text": [
      "1339it [00:06, 192.93it/s]                                                                                             \n"
     ]
    },
    {
     "name": "stdout",
     "output_type": "stream",
     "text": [
      "Saving results in E:\\Imaging2AFCPop\\eye tracking\\110516...\n",
      "Saving csv poses!\n"
     ]
    },
    {
     "name": "stderr",
     "output_type": "stream",
     "text": [
      "  6%|█████▏                                                                          | 40/616 [00:00<00:01, 320.58it/s]"
     ]
    },
    {
     "name": "stdout",
     "output_type": "stream",
     "text": [
      "Starting to analyze %  E:\\Imaging2AFCPop\\eye tracking\\110516\\MF209_110516_12a_FIXED_117.avi\n",
      "E:\\Imaging2AFCPop\\eye tracking\\110516  already exists!\n",
      "Loading  E:\\Imaging2AFCPop\\eye tracking\\110516\\MF209_110516_12a_FIXED_117.avi\n",
      "Duration of video [s]:  6.84 , recorded with  90.0 fps!\n",
      "Overall # of frames:  616  found with (before cropping) frame dimensions:  224 180\n",
      "Starting to extract posture\n"
     ]
    },
    {
     "name": "stderr",
     "output_type": "stream",
     "text": [
      "620it [00:03, 195.14it/s]                                                                                              \n",
      "  0%|                                                                                          | 0/446 [00:00<?, ?it/s]"
     ]
    },
    {
     "name": "stdout",
     "output_type": "stream",
     "text": [
      "Saving results in E:\\Imaging2AFCPop\\eye tracking\\110516...\n",
      "Saving csv poses!\n",
      "Starting to analyze %  E:\\Imaging2AFCPop\\eye tracking\\110516\\MF209_110516_12a_FIXED_156.avi\n",
      "E:\\Imaging2AFCPop\\eye tracking\\110516  already exists!\n",
      "Loading  E:\\Imaging2AFCPop\\eye tracking\\110516\\MF209_110516_12a_FIXED_156.avi\n",
      "Duration of video [s]:  4.96 , recorded with  90.0 fps!\n",
      "Overall # of frames:  446  found with (before cropping) frame dimensions:  224 180\n",
      "Starting to extract posture\n"
     ]
    },
    {
     "name": "stderr",
     "output_type": "stream",
     "text": [
      "450it [00:02, 193.82it/s]                                                                                              \n",
      "  0%|                                                                                         | 0/1354 [00:00<?, ?it/s]"
     ]
    },
    {
     "name": "stdout",
     "output_type": "stream",
     "text": [
      "Saving results in E:\\Imaging2AFCPop\\eye tracking\\110516...\n",
      "Saving csv poses!\n",
      "Starting to analyze %  E:\\Imaging2AFCPop\\eye tracking\\110516\\MF209_110516_12a_FIXED_089.avi\n",
      "E:\\Imaging2AFCPop\\eye tracking\\110516  already exists!\n",
      "Loading  E:\\Imaging2AFCPop\\eye tracking\\110516\\MF209_110516_12a_FIXED_089.avi\n",
      "Duration of video [s]:  15.04 , recorded with  90.0 fps!\n",
      "Overall # of frames:  1354  found with (before cropping) frame dimensions:  224 180\n",
      "Starting to extract posture\n"
     ]
    },
    {
     "name": "stderr",
     "output_type": "stream",
     "text": [
      "1365it [00:07, 194.59it/s]                                                                                             \n"
     ]
    },
    {
     "name": "stdout",
     "output_type": "stream",
     "text": [
      "Saving results in E:\\Imaging2AFCPop\\eye tracking\\110516...\n",
      "Saving csv poses!\n"
     ]
    },
    {
     "name": "stderr",
     "output_type": "stream",
     "text": [
      "  8%|██████▋                                                                         | 40/477 [00:00<00:01, 318.09it/s]"
     ]
    },
    {
     "name": "stdout",
     "output_type": "stream",
     "text": [
      "Starting to analyze %  E:\\Imaging2AFCPop\\eye tracking\\110516\\MF209_110516_12a_FIXED_002.avi\n",
      "E:\\Imaging2AFCPop\\eye tracking\\110516  already exists!\n",
      "Loading  E:\\Imaging2AFCPop\\eye tracking\\110516\\MF209_110516_12a_FIXED_002.avi\n",
      "Duration of video [s]:  5.3 , recorded with  90.0 fps!\n",
      "Overall # of frames:  477  found with (before cropping) frame dimensions:  224 180\n",
      "Starting to extract posture\n"
     ]
    },
    {
     "name": "stderr",
     "output_type": "stream",
     "text": [
      "480it [00:02, 192.89it/s]                                                                                              \n",
      "  0%|                                                                                          | 0/446 [00:00<?, ?it/s]"
     ]
    },
    {
     "name": "stdout",
     "output_type": "stream",
     "text": [
      "Saving results in E:\\Imaging2AFCPop\\eye tracking\\110516...\n",
      "Saving csv poses!\n",
      "Starting to analyze %  E:\\Imaging2AFCPop\\eye tracking\\110516\\MF209_110516_12a_FIXED_251.avi\n",
      "E:\\Imaging2AFCPop\\eye tracking\\110516  already exists!\n",
      "Loading  E:\\Imaging2AFCPop\\eye tracking\\110516\\MF209_110516_12a_FIXED_251.avi\n",
      "Duration of video [s]:  4.96 , recorded with  90.0 fps!\n",
      "Overall # of frames:  446  found with (before cropping) frame dimensions:  224 180\n",
      "Starting to extract posture\n"
     ]
    },
    {
     "name": "stderr",
     "output_type": "stream",
     "text": [
      "450it [00:02, 193.97it/s]                                                                                              \n",
      "  0%|                                                                                           | 0/55 [00:00<?, ?it/s]"
     ]
    },
    {
     "name": "stdout",
     "output_type": "stream",
     "text": [
      "Saving results in E:\\Imaging2AFCPop\\eye tracking\\110516...\n",
      "Saving csv poses!\n",
      "Starting to analyze %  E:\\Imaging2AFCPop\\eye tracking\\110516\\MF209_110516_12a_FIXED_139.avi\n",
      "E:\\Imaging2AFCPop\\eye tracking\\110516  already exists!\n",
      "Loading  E:\\Imaging2AFCPop\\eye tracking\\110516\\MF209_110516_12a_FIXED_139.avi\n",
      "Duration of video [s]:  0.61 , recorded with  90.0 fps!\n",
      "Overall # of frames:  55  found with (before cropping) frame dimensions:  224 180\n",
      "Starting to extract posture\n"
     ]
    },
    {
     "name": "stderr",
     "output_type": "stream",
     "text": [
      "60it [00:00, 197.28it/s]                                                                                               \n",
      "  0%|                                                                                          | 0/462 [00:00<?, ?it/s]"
     ]
    },
    {
     "name": "stdout",
     "output_type": "stream",
     "text": [
      "Saving results in E:\\Imaging2AFCPop\\eye tracking\\110516...\n",
      "Saving csv poses!\n",
      "Starting to analyze %  E:\\Imaging2AFCPop\\eye tracking\\110516\\MF209_110516_12a_FIXED_150.avi\n",
      "E:\\Imaging2AFCPop\\eye tracking\\110516  already exists!\n",
      "Loading  E:\\Imaging2AFCPop\\eye tracking\\110516\\MF209_110516_12a_FIXED_150.avi\n",
      "Duration of video [s]:  5.13 , recorded with  90.0 fps!\n",
      "Overall # of frames:  462  found with (before cropping) frame dimensions:  224 180\n",
      "Starting to extract posture\n"
     ]
    },
    {
     "name": "stderr",
     "output_type": "stream",
     "text": [
      "470it [00:02, 196.41it/s]                                                                                              \n",
      "  0%|                                                                                          | 0/462 [00:00<?, ?it/s]"
     ]
    },
    {
     "name": "stdout",
     "output_type": "stream",
     "text": [
      "Saving results in E:\\Imaging2AFCPop\\eye tracking\\110516...\n",
      "Saving csv poses!\n",
      "Starting to analyze %  E:\\Imaging2AFCPop\\eye tracking\\110516\\MF209_110516_12a_FIXED_070.avi\n",
      "E:\\Imaging2AFCPop\\eye tracking\\110516  already exists!\n",
      "Loading  E:\\Imaging2AFCPop\\eye tracking\\110516\\MF209_110516_12a_FIXED_070.avi\n",
      "Duration of video [s]:  5.13 , recorded with  90.0 fps!\n",
      "Overall # of frames:  462  found with (before cropping) frame dimensions:  224 180\n",
      "Starting to extract posture\n"
     ]
    },
    {
     "name": "stderr",
     "output_type": "stream",
     "text": [
      "470it [00:02, 195.74it/s]                                                                                              \n",
      "  0%|                                                                                         | 0/3020 [00:00<?, ?it/s]"
     ]
    },
    {
     "name": "stdout",
     "output_type": "stream",
     "text": [
      "Saving results in E:\\Imaging2AFCPop\\eye tracking\\110516...\n",
      "Saving csv poses!\n",
      "Starting to analyze %  E:\\Imaging2AFCPop\\eye tracking\\110516\\MF209_110516_12a_FIXED_267.avi\n",
      "E:\\Imaging2AFCPop\\eye tracking\\110516  already exists!\n",
      "Loading  E:\\Imaging2AFCPop\\eye tracking\\110516\\MF209_110516_12a_FIXED_267.avi\n",
      "Duration of video [s]:  33.56 , recorded with  90.0 fps!\n",
      "Overall # of frames:  3020  found with (before cropping) frame dimensions:  224 180\n",
      "Starting to extract posture\n"
     ]
    },
    {
     "name": "stderr",
     "output_type": "stream",
     "text": [
      "3030it [00:15, 194.73it/s]                                                                                             \n"
     ]
    },
    {
     "name": "stdout",
     "output_type": "stream",
     "text": [
      "Saving results in E:\\Imaging2AFCPop\\eye tracking\\110516...\n",
      "Saving csv poses!\n"
     ]
    },
    {
     "name": "stderr",
     "output_type": "stream",
     "text": [
      "  5%|████▏                                                                           | 40/754 [00:00<00:02, 292.28it/s]"
     ]
    },
    {
     "name": "stdout",
     "output_type": "stream",
     "text": [
      "Starting to analyze %  E:\\Imaging2AFCPop\\eye tracking\\110516\\MF209_110516_12a_FIXED_058.avi\n",
      "E:\\Imaging2AFCPop\\eye tracking\\110516  already exists!\n",
      "Loading  E:\\Imaging2AFCPop\\eye tracking\\110516\\MF209_110516_12a_FIXED_058.avi\n",
      "Duration of video [s]:  8.38 , recorded with  90.0 fps!\n",
      "Overall # of frames:  754  found with (before cropping) frame dimensions:  224 180\n",
      "Starting to extract posture\n"
     ]
    },
    {
     "name": "stderr",
     "output_type": "stream",
     "text": [
      "760it [00:03, 193.32it/s]                                                                                              \n"
     ]
    },
    {
     "name": "stdout",
     "output_type": "stream",
     "text": [
      "Saving results in E:\\Imaging2AFCPop\\eye tracking\\110516...\n",
      "Saving csv poses!\n",
      "Starting to analyze %  E:\\Imaging2AFCPop\\eye tracking\\110516\\MF209_110516_12a_FIXED_144.avi\n",
      "E:\\Imaging2AFCPop\\eye tracking\\110516  already exists!\n",
      "Loading  E:\\Imaging2AFCPop\\eye tracking\\110516\\MF209_110516_12a_FIXED_144.avi\n",
      "Duration of video [s]:  25.29 , recorded with  90.0 fps!\n",
      "Overall # of frames:  2276  found with (before cropping) frame dimensions:  224 180\n",
      "Starting to extract posture\n"
     ]
    },
    {
     "name": "stderr",
     "output_type": "stream",
     "text": [
      "2288it [00:11, 195.53it/s]                                                                                             \n"
     ]
    },
    {
     "name": "stdout",
     "output_type": "stream",
     "text": [
      "Saving results in E:\\Imaging2AFCPop\\eye tracking\\110516...\n",
      "Saving csv poses!\n"
     ]
    },
    {
     "name": "stderr",
     "output_type": "stream",
     "text": [
      "  7%|█████▎                                                                          | 40/600 [00:00<00:01, 294.10it/s]"
     ]
    },
    {
     "name": "stdout",
     "output_type": "stream",
     "text": [
      "Starting to analyze %  E:\\Imaging2AFCPop\\eye tracking\\110516\\MF209_110516_12a_FIXED_055.avi\n",
      "E:\\Imaging2AFCPop\\eye tracking\\110516  already exists!\n",
      "Loading  E:\\Imaging2AFCPop\\eye tracking\\110516\\MF209_110516_12a_FIXED_055.avi\n",
      "Duration of video [s]:  6.67 , recorded with  90.0 fps!\n",
      "Overall # of frames:  600  found with (before cropping) frame dimensions:  224 180\n",
      "Starting to extract posture\n"
     ]
    },
    {
     "name": "stderr",
     "output_type": "stream",
     "text": [
      "610it [00:03, 196.52it/s]                                                                                              \n",
      "  0%|                                                                                          | 0/615 [00:00<?, ?it/s]"
     ]
    },
    {
     "name": "stdout",
     "output_type": "stream",
     "text": [
      "Saving results in E:\\Imaging2AFCPop\\eye tracking\\110516...\n",
      "Saving csv poses!\n",
      "Starting to analyze %  E:\\Imaging2AFCPop\\eye tracking\\110516\\MF209_110516_12a_FIXED_086.avi\n",
      "E:\\Imaging2AFCPop\\eye tracking\\110516  already exists!\n",
      "Loading  E:\\Imaging2AFCPop\\eye tracking\\110516\\MF209_110516_12a_FIXED_086.avi\n",
      "Duration of video [s]:  6.83 , recorded with  90.0 fps!\n",
      "Overall # of frames:  615  found with (before cropping) frame dimensions:  224 180\n",
      "Starting to extract posture\n"
     ]
    },
    {
     "name": "stderr",
     "output_type": "stream",
     "text": [
      "620it [00:03, 194.85it/s]                                                                                              \n",
      "  0%|                                                                                          | 0/477 [00:00<?, ?it/s]"
     ]
    },
    {
     "name": "stdout",
     "output_type": "stream",
     "text": [
      "Saving results in E:\\Imaging2AFCPop\\eye tracking\\110516...\n",
      "Saving csv poses!\n",
      "Starting to analyze %  E:\\Imaging2AFCPop\\eye tracking\\110516\\MF209_110516_12a_FIXED_060.avi\n",
      "E:\\Imaging2AFCPop\\eye tracking\\110516  already exists!\n",
      "Loading  E:\\Imaging2AFCPop\\eye tracking\\110516\\MF209_110516_12a_FIXED_060.avi\n",
      "Duration of video [s]:  5.3 , recorded with  90.0 fps!\n",
      "Overall # of frames:  477  found with (before cropping) frame dimensions:  224 180\n",
      "Starting to extract posture\n"
     ]
    },
    {
     "name": "stderr",
     "output_type": "stream",
     "text": [
      "480it [00:02, 194.09it/s]                                                                                              \n"
     ]
    },
    {
     "name": "stdout",
     "output_type": "stream",
     "text": [
      "Saving results in E:\\Imaging2AFCPop\\eye tracking\\110516...\n",
      "Saving csv poses!\n",
      "Starting to analyze %  E:\\Imaging2AFCPop\\eye tracking\\110516\\MF209_110516_12a_FIXED_188.avi\n",
      "E:\\Imaging2AFCPop\\eye tracking\\110516  already exists!\n",
      "Loading  E:\\Imaging2AFCPop\\eye tracking\\110516\\MF209_110516_12a_FIXED_188.avi\n",
      "Duration of video [s]:  7.51 , recorded with  90.0 fps!\n",
      "Overall # of frames:  676  found with (before cropping) frame dimensions:  224 180\n",
      "Starting to extract posture\n"
     ]
    },
    {
     "name": "stderr",
     "output_type": "stream",
     "text": [
      "680it [00:03, 193.77it/s]                                                                                              \n",
      "  0%|                                                                                          | 0/615 [00:00<?, ?it/s]"
     ]
    },
    {
     "name": "stdout",
     "output_type": "stream",
     "text": [
      "Saving results in E:\\Imaging2AFCPop\\eye tracking\\110516...\n",
      "Saving csv poses!\n",
      "Starting to analyze %  E:\\Imaging2AFCPop\\eye tracking\\110516\\MF209_110516_12a_FIXED_033.avi\n",
      "E:\\Imaging2AFCPop\\eye tracking\\110516  already exists!\n",
      "Loading  E:\\Imaging2AFCPop\\eye tracking\\110516\\MF209_110516_12a_FIXED_033.avi\n",
      "Duration of video [s]:  6.83 , recorded with  90.0 fps!\n",
      "Overall # of frames:  615  found with (before cropping) frame dimensions:  224 180\n",
      "Starting to extract posture\n"
     ]
    },
    {
     "name": "stderr",
     "output_type": "stream",
     "text": [
      "620it [00:03, 194.98it/s]                                                                                              \n",
      "  0%|                                                                                          | 0/723 [00:00<?, ?it/s]"
     ]
    },
    {
     "name": "stdout",
     "output_type": "stream",
     "text": [
      "Saving results in E:\\Imaging2AFCPop\\eye tracking\\110516...\n",
      "Saving csv poses!\n",
      "Starting to analyze %  E:\\Imaging2AFCPop\\eye tracking\\110516\\MF209_110516_12a_FIXED_218.avi\n",
      "E:\\Imaging2AFCPop\\eye tracking\\110516  already exists!\n",
      "Loading  E:\\Imaging2AFCPop\\eye tracking\\110516\\MF209_110516_12a_FIXED_218.avi\n",
      "Duration of video [s]:  8.03 , recorded with  90.0 fps!\n",
      "Overall # of frames:  723  found with (before cropping) frame dimensions:  224 180\n",
      "Starting to extract posture\n"
     ]
    },
    {
     "name": "stderr",
     "output_type": "stream",
     "text": [
      "730it [00:03, 194.20it/s]                                                                                              \n"
     ]
    },
    {
     "name": "stdout",
     "output_type": "stream",
     "text": [
      "Saving results in E:\\Imaging2AFCPop\\eye tracking\\110516...\n",
      "Saving csv poses!\n",
      "Starting to analyze %  E:\\Imaging2AFCPop\\eye tracking\\110516\\MF209_110516_12a_FIXED_114.avi\n",
      "E:\\Imaging2AFCPop\\eye tracking\\110516  already exists!\n",
      "Loading  E:\\Imaging2AFCPop\\eye tracking\\110516\\MF209_110516_12a_FIXED_114.avi\n",
      "Duration of video [s]:  12.3 , recorded with  90.0 fps!\n",
      "Overall # of frames:  1107  found with (before cropping) frame dimensions:  224 180\n",
      "Starting to extract posture\n"
     ]
    },
    {
     "name": "stderr",
     "output_type": "stream",
     "text": [
      "1111it [00:05, 194.07it/s]                                                                                             \n"
     ]
    },
    {
     "name": "stdout",
     "output_type": "stream",
     "text": [
      "Saving results in E:\\Imaging2AFCPop\\eye tracking\\110516...\n",
      "Saving csv poses!\n"
     ]
    },
    {
     "name": "stderr",
     "output_type": "stream",
     "text": [
      "  4%|███                                                                            | 40/1016 [00:00<00:03, 289.31it/s]"
     ]
    },
    {
     "name": "stdout",
     "output_type": "stream",
     "text": [
      "Starting to analyze %  E:\\Imaging2AFCPop\\eye tracking\\110516\\MF209_110516_12a_FIXED_049.avi\n",
      "E:\\Imaging2AFCPop\\eye tracking\\110516  already exists!\n",
      "Loading  E:\\Imaging2AFCPop\\eye tracking\\110516\\MF209_110516_12a_FIXED_049.avi\n",
      "Duration of video [s]:  11.29 , recorded with  90.0 fps!\n",
      "Overall # of frames:  1016  found with (before cropping) frame dimensions:  224 180\n",
      "Starting to extract posture\n"
     ]
    },
    {
     "name": "stderr",
     "output_type": "stream",
     "text": [
      "1020it [00:05, 194.35it/s]                                                                                             \n"
     ]
    },
    {
     "name": "stdout",
     "output_type": "stream",
     "text": [
      "Saving results in E:\\Imaging2AFCPop\\eye tracking\\110516...\n",
      "Saving csv poses!\n",
      "Starting to analyze %  E:\\Imaging2AFCPop\\eye tracking\\110516\\MF209_110516_12a_FIXED_135.avi\n",
      "E:\\Imaging2AFCPop\\eye tracking\\110516  already exists!\n",
      "Loading  E:\\Imaging2AFCPop\\eye tracking\\110516\\MF209_110516_12a_FIXED_135.avi\n"
     ]
    },
    {
     "name": "stderr",
     "output_type": "stream",
     "text": [
      "  7%|█████▉                                                                          | 40/539 [00:00<00:01, 300.65it/s]"
     ]
    },
    {
     "name": "stdout",
     "output_type": "stream",
     "text": [
      "Duration of video [s]:  5.99 , recorded with  90.0 fps!\n",
      "Overall # of frames:  539  found with (before cropping) frame dimensions:  224 180\n",
      "Starting to extract posture\n"
     ]
    },
    {
     "name": "stderr",
     "output_type": "stream",
     "text": [
      "540it [00:02, 192.41it/s]                                                                                              \n",
      "  0%|                                                                                          | 0/770 [00:00<?, ?it/s]"
     ]
    },
    {
     "name": "stdout",
     "output_type": "stream",
     "text": [
      "Saving results in E:\\Imaging2AFCPop\\eye tracking\\110516...\n",
      "Saving csv poses!\n",
      "Starting to analyze %  E:\\Imaging2AFCPop\\eye tracking\\110516\\MF209_110516_12a_FIXED_061.avi\n",
      "E:\\Imaging2AFCPop\\eye tracking\\110516  already exists!\n",
      "Loading  E:\\Imaging2AFCPop\\eye tracking\\110516\\MF209_110516_12a_FIXED_061.avi\n",
      "Duration of video [s]:  8.56 , recorded with  90.0 fps!\n",
      "Overall # of frames:  770  found with (before cropping) frame dimensions:  224 180\n",
      "Starting to extract posture\n"
     ]
    },
    {
     "name": "stderr",
     "output_type": "stream",
     "text": [
      "780it [00:03, 195.08it/s]                                                                                              \n"
     ]
    },
    {
     "name": "stdout",
     "output_type": "stream",
     "text": [
      "Saving results in E:\\Imaging2AFCPop\\eye tracking\\110516...\n",
      "Saving csv poses!\n",
      "Starting to analyze %  E:\\Imaging2AFCPop\\eye tracking\\110516\\MF209_110516_12a_FIXED_036.avi\n",
      "E:\\Imaging2AFCPop\\eye tracking\\110516  already exists!\n",
      "Loading  E:\\Imaging2AFCPop\\eye tracking\\110516\\MF209_110516_12a_FIXED_036.avi\n",
      "Duration of video [s]:  5.48 , recorded with  90.0 fps!\n",
      "Overall # of frames:  493  found with (before cropping) frame dimensions:  224 180\n",
      "Starting to extract posture\n"
     ]
    },
    {
     "name": "stderr",
     "output_type": "stream",
     "text": [
      "500it [00:02, 195.11it/s]                                                                                              \n",
      "  0%|                                                                                         | 0/1000 [00:00<?, ?it/s]"
     ]
    },
    {
     "name": "stdout",
     "output_type": "stream",
     "text": [
      "Saving results in E:\\Imaging2AFCPop\\eye tracking\\110516...\n",
      "Saving csv poses!\n",
      "Starting to analyze %  E:\\Imaging2AFCPop\\eye tracking\\110516\\MF209_110516_12a_FIXED_003.avi\n",
      "E:\\Imaging2AFCPop\\eye tracking\\110516  already exists!\n",
      "Loading  E:\\Imaging2AFCPop\\eye tracking\\110516\\MF209_110516_12a_FIXED_003.avi\n",
      "Duration of video [s]:  11.11 , recorded with  90.0 fps!\n",
      "Overall # of frames:  1000  found with (before cropping) frame dimensions:  224 180\n",
      "Starting to extract posture\n"
     ]
    },
    {
     "name": "stderr",
     "output_type": "stream",
     "text": [
      "1010it [00:05, 196.32it/s]                                                                                             \n"
     ]
    },
    {
     "name": "stdout",
     "output_type": "stream",
     "text": [
      "Saving results in E:\\Imaging2AFCPop\\eye tracking\\110516...\n",
      "Saving csv poses!\n",
      "Starting to analyze %  E:\\Imaging2AFCPop\\eye tracking\\110516\\MF209_110516_12a_FIXED_130.avi\n"
     ]
    },
    {
     "name": "stderr",
     "output_type": "stream",
     "text": [
      "\r",
      "  0%|                                                                                         | 0/1738 [00:00<?, ?it/s]"
     ]
    },
    {
     "name": "stdout",
     "output_type": "stream",
     "text": [
      "E:\\Imaging2AFCPop\\eye tracking\\110516  already exists!\n",
      "Loading  E:\\Imaging2AFCPop\\eye tracking\\110516\\MF209_110516_12a_FIXED_130.avi\n",
      "Duration of video [s]:  19.31 , recorded with  90.0 fps!\n",
      "Overall # of frames:  1738  found with (before cropping) frame dimensions:  224 180\n",
      "Starting to extract posture\n"
     ]
    },
    {
     "name": "stderr",
     "output_type": "stream",
     "text": [
      "1751it [00:08, 196.24it/s]                                                                                             \n"
     ]
    },
    {
     "name": "stdout",
     "output_type": "stream",
     "text": [
      "Saving results in E:\\Imaging2AFCPop\\eye tracking\\110516...\n",
      "Saving csv poses!\n"
     ]
    },
    {
     "name": "stderr",
     "output_type": "stream",
     "text": [
      "  8%|██████▋                                                                         | 40/478 [00:00<00:01, 321.81it/s]"
     ]
    },
    {
     "name": "stdout",
     "output_type": "stream",
     "text": [
      "Starting to analyze %  E:\\Imaging2AFCPop\\eye tracking\\110516\\MF209_110516_12a_FIXED_189.avi\n",
      "E:\\Imaging2AFCPop\\eye tracking\\110516  already exists!\n",
      "Loading  E:\\Imaging2AFCPop\\eye tracking\\110516\\MF209_110516_12a_FIXED_189.avi\n",
      "Duration of video [s]:  5.31 , recorded with  90.0 fps!\n",
      "Overall # of frames:  478  found with (before cropping) frame dimensions:  224 180\n",
      "Starting to extract posture\n"
     ]
    },
    {
     "name": "stderr",
     "output_type": "stream",
     "text": [
      "480it [00:02, 194.50it/s]                                                                                              \n",
      "  0%|                                                                                          | 0/446 [00:00<?, ?it/s]"
     ]
    },
    {
     "name": "stdout",
     "output_type": "stream",
     "text": [
      "Saving results in E:\\Imaging2AFCPop\\eye tracking\\110516...\n",
      "Saving csv poses!\n",
      "Starting to analyze %  E:\\Imaging2AFCPop\\eye tracking\\110516\\MF209_110516_12a_FIXED_231.avi\n",
      "E:\\Imaging2AFCPop\\eye tracking\\110516  already exists!\n",
      "Loading  E:\\Imaging2AFCPop\\eye tracking\\110516\\MF209_110516_12a_FIXED_231.avi\n",
      "Duration of video [s]:  4.96 , recorded with  90.0 fps!\n",
      "Overall # of frames:  446  found with (before cropping) frame dimensions:  224 180\n",
      "Starting to extract posture\n"
     ]
    },
    {
     "name": "stderr",
     "output_type": "stream",
     "text": [
      "450it [00:02, 194.48it/s]                                                                                              \n",
      "  0%|                                                                                          | 0/463 [00:00<?, ?it/s]"
     ]
    },
    {
     "name": "stdout",
     "output_type": "stream",
     "text": [
      "Saving results in E:\\Imaging2AFCPop\\eye tracking\\110516...\n",
      "Saving csv poses!\n",
      "Starting to analyze %  E:\\Imaging2AFCPop\\eye tracking\\110516\\MF209_110516_12a_FIXED_187.avi\n",
      "E:\\Imaging2AFCPop\\eye tracking\\110516  already exists!\n",
      "Loading  E:\\Imaging2AFCPop\\eye tracking\\110516\\MF209_110516_12a_FIXED_187.avi\n",
      "Duration of video [s]:  5.14 , recorded with  90.0 fps!\n",
      "Overall # of frames:  463  found with (before cropping) frame dimensions:  224 180\n",
      "Starting to extract posture\n"
     ]
    },
    {
     "name": "stderr",
     "output_type": "stream",
     "text": [
      "470it [00:02, 195.54it/s]                                                                                              \n",
      "  0%|                                                                                          | 0/447 [00:00<?, ?it/s]"
     ]
    },
    {
     "name": "stdout",
     "output_type": "stream",
     "text": [
      "Saving results in E:\\Imaging2AFCPop\\eye tracking\\110516...\n",
      "Saving csv poses!\n",
      "Starting to analyze %  E:\\Imaging2AFCPop\\eye tracking\\110516\\MF209_110516_12a_FIXED_016.avi\n",
      "E:\\Imaging2AFCPop\\eye tracking\\110516  already exists!\n",
      "Loading  E:\\Imaging2AFCPop\\eye tracking\\110516\\MF209_110516_12a_FIXED_016.avi\n",
      "Duration of video [s]:  4.97 , recorded with  90.0 fps!\n",
      "Overall # of frames:  447  found with (before cropping) frame dimensions:  224 180\n",
      "Starting to extract posture\n"
     ]
    },
    {
     "name": "stderr",
     "output_type": "stream",
     "text": [
      "450it [00:02, 194.17it/s]                                                                                              \n"
     ]
    },
    {
     "name": "stdout",
     "output_type": "stream",
     "text": [
      "Saving results in E:\\Imaging2AFCPop\\eye tracking\\110516...\n",
      "Saving csv poses!\n",
      "Starting to analyze %  E:\\Imaging2AFCPop\\eye tracking\\110516\\MF209_110516_12a_FIXED_240.avi\n",
      "E:\\Imaging2AFCPop\\eye tracking\\110516  already exists!\n",
      "Loading  E:\\Imaging2AFCPop\\eye tracking\\110516\\MF209_110516_12a_FIXED_240.avi\n",
      "Duration of video [s]:  63.22 , recorded with  90.0 fps!\n",
      "Overall # of frames:  5690  found with (before cropping) frame dimensions:  224 180\n",
      "Starting to extract posture\n"
     ]
    },
    {
     "name": "stderr",
     "output_type": "stream",
     "text": [
      "5712it [00:28, 197.63it/s]                                                                                             \n"
     ]
    },
    {
     "name": "stdout",
     "output_type": "stream",
     "text": [
      "Saving results in E:\\Imaging2AFCPop\\eye tracking\\110516...\n",
      "Saving csv poses!\n"
     ]
    },
    {
     "name": "stderr",
     "output_type": "stream",
     "text": [
      "  8%|██████▋                                                                         | 40/478 [00:00<00:01, 305.56it/s]"
     ]
    },
    {
     "name": "stdout",
     "output_type": "stream",
     "text": [
      "Starting to analyze %  E:\\Imaging2AFCPop\\eye tracking\\110516\\MF209_110516_12a_FIXED_083.avi\n",
      "E:\\Imaging2AFCPop\\eye tracking\\110516  already exists!\n",
      "Loading  E:\\Imaging2AFCPop\\eye tracking\\110516\\MF209_110516_12a_FIXED_083.avi\n",
      "Duration of video [s]:  5.31 , recorded with  90.0 fps!\n",
      "Overall # of frames:  478  found with (before cropping) frame dimensions:  224 180\n",
      "Starting to extract posture\n"
     ]
    },
    {
     "name": "stderr",
     "output_type": "stream",
     "text": [
      "480it [00:02, 193.23it/s]                                                                                              \n",
      "  0%|                                                                                          | 0/478 [00:00<?, ?it/s]"
     ]
    },
    {
     "name": "stdout",
     "output_type": "stream",
     "text": [
      "Saving results in E:\\Imaging2AFCPop\\eye tracking\\110516...\n",
      "Saving csv poses!\n",
      "Starting to analyze %  E:\\Imaging2AFCPop\\eye tracking\\110516\\MF209_110516_12a_FIXED_210.avi\n",
      "E:\\Imaging2AFCPop\\eye tracking\\110516  already exists!\n",
      "Loading  E:\\Imaging2AFCPop\\eye tracking\\110516\\MF209_110516_12a_FIXED_210.avi\n",
      "Duration of video [s]:  5.31 , recorded with  90.0 fps!\n",
      "Overall # of frames:  478  found with (before cropping) frame dimensions:  224 180\n",
      "Starting to extract posture\n"
     ]
    },
    {
     "name": "stderr",
     "output_type": "stream",
     "text": [
      "480it [00:02, 193.33it/s]                                                                                              \n",
      "  0%|                                                                                          | 0/878 [00:00<?, ?it/s]"
     ]
    },
    {
     "name": "stdout",
     "output_type": "stream",
     "text": [
      "Saving results in E:\\Imaging2AFCPop\\eye tracking\\110516...\n",
      "Saving csv poses!\n",
      "Starting to analyze %  E:\\Imaging2AFCPop\\eye tracking\\110516\\MF209_110516_12a_FIXED_096.avi\n",
      "E:\\Imaging2AFCPop\\eye tracking\\110516  already exists!\n",
      "Loading  E:\\Imaging2AFCPop\\eye tracking\\110516\\MF209_110516_12a_FIXED_096.avi\n",
      "Duration of video [s]:  9.76 , recorded with  90.0 fps!\n",
      "Overall # of frames:  878  found with (before cropping) frame dimensions:  224 180\n",
      "Starting to extract posture\n"
     ]
    },
    {
     "name": "stderr",
     "output_type": "stream",
     "text": [
      "880it [00:04, 194.63it/s]                                                                                              \n"
     ]
    },
    {
     "name": "stdout",
     "output_type": "stream",
     "text": [
      "Saving results in E:\\Imaging2AFCPop\\eye tracking\\110516...\n",
      "Saving csv poses!\n",
      "Starting to analyze %  E:\\Imaging2AFCPop\\eye tracking\\110516\\MF209_110516_12a_FIXED_014.avi\n",
      "E:\\Imaging2AFCPop\\eye tracking\\110516  already exists!\n",
      "Loading  E:\\Imaging2AFCPop\\eye tracking\\110516\\MF209_110516_12a_FIXED_014.avi\n"
     ]
    },
    {
     "name": "stderr",
     "output_type": "stream",
     "text": [
      "  7%|█████▉                                                                          | 40/539 [00:00<00:01, 303.22it/s]"
     ]
    },
    {
     "name": "stdout",
     "output_type": "stream",
     "text": [
      "Duration of video [s]:  5.99 , recorded with  90.0 fps!\n",
      "Overall # of frames:  539  found with (before cropping) frame dimensions:  224 180\n",
      "Starting to extract posture\n"
     ]
    },
    {
     "name": "stderr",
     "output_type": "stream",
     "text": [
      "540it [00:02, 191.45it/s]                                                                                              \n",
      "  0%|                                                                                          | 0/447 [00:00<?, ?it/s]"
     ]
    },
    {
     "name": "stdout",
     "output_type": "stream",
     "text": [
      "Saving results in E:\\Imaging2AFCPop\\eye tracking\\110516...\n",
      "Saving csv poses!\n",
      "Starting to analyze %  E:\\Imaging2AFCPop\\eye tracking\\110516\\MF209_110516_12a_FIXED_105.avi\n",
      "E:\\Imaging2AFCPop\\eye tracking\\110516  already exists!\n",
      "Loading  E:\\Imaging2AFCPop\\eye tracking\\110516\\MF209_110516_12a_FIXED_105.avi\n",
      "Duration of video [s]:  4.97 , recorded with  90.0 fps!\n",
      "Overall # of frames:  447  found with (before cropping) frame dimensions:  224 180\n",
      "Starting to extract posture\n"
     ]
    },
    {
     "name": "stderr",
     "output_type": "stream",
     "text": [
      "450it [00:02, 193.93it/s]                                                                                              \n",
      "  0%|                                                                                          | 0/462 [00:00<?, ?it/s]"
     ]
    },
    {
     "name": "stdout",
     "output_type": "stream",
     "text": [
      "Saving results in E:\\Imaging2AFCPop\\eye tracking\\110516...\n",
      "Saving csv poses!\n",
      "Starting to analyze %  E:\\Imaging2AFCPop\\eye tracking\\110516\\MF209_110516_12a_FIXED_047.avi\n",
      "E:\\Imaging2AFCPop\\eye tracking\\110516  already exists!\n",
      "Loading  E:\\Imaging2AFCPop\\eye tracking\\110516\\MF209_110516_12a_FIXED_047.avi\n",
      "Duration of video [s]:  5.13 , recorded with  90.0 fps!\n",
      "Overall # of frames:  462  found with (before cropping) frame dimensions:  224 180\n",
      "Starting to extract posture\n"
     ]
    },
    {
     "name": "stderr",
     "output_type": "stream",
     "text": [
      "470it [00:02, 194.36it/s]                                                                                              \n",
      "  0%|                                                                                          | 0/492 [00:00<?, ?it/s]"
     ]
    },
    {
     "name": "stdout",
     "output_type": "stream",
     "text": [
      "Saving results in E:\\Imaging2AFCPop\\eye tracking\\110516...\n",
      "Saving csv poses!\n",
      "Starting to analyze %  E:\\Imaging2AFCPop\\eye tracking\\110516\\MF209_110516_12a_FIXED_209.avi\n",
      "E:\\Imaging2AFCPop\\eye tracking\\110516  already exists!\n",
      "Loading  E:\\Imaging2AFCPop\\eye tracking\\110516\\MF209_110516_12a_FIXED_209.avi\n",
      "Duration of video [s]:  5.47 , recorded with  90.0 fps!\n",
      "Overall # of frames:  492  found with (before cropping) frame dimensions:  224 180\n",
      "Starting to extract posture\n"
     ]
    },
    {
     "name": "stderr",
     "output_type": "stream",
     "text": [
      "500it [00:02, 194.89it/s]                                                                                              \n",
      "  0%|                                                                                          | 0/476 [00:00<?, ?it/s]"
     ]
    },
    {
     "name": "stdout",
     "output_type": "stream",
     "text": [
      "Saving results in E:\\Imaging2AFCPop\\eye tracking\\110516...\n",
      "Saving csv poses!\n",
      "Starting to analyze %  E:\\Imaging2AFCPop\\eye tracking\\110516\\MF209_110516_12a_FIXED_213.avi\n",
      "E:\\Imaging2AFCPop\\eye tracking\\110516  already exists!\n",
      "Loading  E:\\Imaging2AFCPop\\eye tracking\\110516\\MF209_110516_12a_FIXED_213.avi\n",
      "Duration of video [s]:  5.29 , recorded with  90.0 fps!\n",
      "Overall # of frames:  476  found with (before cropping) frame dimensions:  224 180\n",
      "Starting to extract posture\n"
     ]
    },
    {
     "name": "stderr",
     "output_type": "stream",
     "text": [
      "480it [00:02, 193.91it/s]                                                                                              \n",
      "  0%|                                                                                         | 0/1692 [00:00<?, ?it/s]"
     ]
    },
    {
     "name": "stdout",
     "output_type": "stream",
     "text": [
      "Saving results in E:\\Imaging2AFCPop\\eye tracking\\110516...\n",
      "Saving csv poses!\n",
      "Starting to analyze %  E:\\Imaging2AFCPop\\eye tracking\\110516\\MF209_110516_12a_FIXED_116.avi\n",
      "E:\\Imaging2AFCPop\\eye tracking\\110516  already exists!\n",
      "Loading  E:\\Imaging2AFCPop\\eye tracking\\110516\\MF209_110516_12a_FIXED_116.avi\n",
      "Duration of video [s]:  18.8 , recorded with  90.0 fps!\n",
      "Overall # of frames:  1692  found with (before cropping) frame dimensions:  224 180\n",
      "Starting to extract posture\n"
     ]
    },
    {
     "name": "stderr",
     "output_type": "stream",
     "text": [
      "1696it [00:08, 194.81it/s]                                                                                             \n"
     ]
    },
    {
     "name": "stdout",
     "output_type": "stream",
     "text": [
      "Saving results in E:\\Imaging2AFCPop\\eye tracking\\110516...\n",
      "Saving csv poses!\n"
     ]
    },
    {
     "name": "stderr",
     "output_type": "stream",
     "text": [
      "  8%|██████▎                                                                         | 40/509 [00:00<00:01, 302.20it/s]"
     ]
    },
    {
     "name": "stdout",
     "output_type": "stream",
     "text": [
      "Starting to analyze %  E:\\Imaging2AFCPop\\eye tracking\\110516\\MF209_110516_12a_FIXED_220.avi\n",
      "E:\\Imaging2AFCPop\\eye tracking\\110516  already exists!\n",
      "Loading  E:\\Imaging2AFCPop\\eye tracking\\110516\\MF209_110516_12a_FIXED_220.avi\n",
      "Duration of video [s]:  5.66 , recorded with  90.0 fps!\n",
      "Overall # of frames:  509  found with (before cropping) frame dimensions:  224 180\n",
      "Starting to extract posture\n"
     ]
    },
    {
     "name": "stderr",
     "output_type": "stream",
     "text": [
      "510it [00:02, 193.13it/s]                                                                                              \n",
      "  0%|                                                                                          | 0/830 [00:00<?, ?it/s]"
     ]
    },
    {
     "name": "stdout",
     "output_type": "stream",
     "text": [
      "Saving results in E:\\Imaging2AFCPop\\eye tracking\\110516...\n",
      "Saving csv poses!\n",
      "Starting to analyze %  E:\\Imaging2AFCPop\\eye tracking\\110516\\MF209_110516_12a_FIXED_065.avi\n",
      "E:\\Imaging2AFCPop\\eye tracking\\110516  already exists!\n",
      "Loading  E:\\Imaging2AFCPop\\eye tracking\\110516\\MF209_110516_12a_FIXED_065.avi\n",
      "Duration of video [s]:  9.22 , recorded with  90.0 fps!\n",
      "Overall # of frames:  830  found with (before cropping) frame dimensions:  224 180\n",
      "Starting to extract posture\n"
     ]
    },
    {
     "name": "stderr",
     "output_type": "stream",
     "text": [
      "840it [00:04, 195.30it/s]                                                                                              \n"
     ]
    },
    {
     "name": "stdout",
     "output_type": "stream",
     "text": [
      "Saving results in E:\\Imaging2AFCPop\\eye tracking\\110516...\n",
      "Saving csv poses!\n",
      "Starting to analyze %  E:\\Imaging2AFCPop\\eye tracking\\110516\\MF209_110516_12a_FIXED_068.avi\n",
      "E:\\Imaging2AFCPop\\eye tracking\\110516  already exists!\n",
      "Loading  E:\\Imaging2AFCPop\\eye tracking\\110516\\MF209_110516_12a_FIXED_068.avi\n",
      "Duration of video [s]:  12.12 , recorded with  90.0 fps!\n",
      "Overall # of frames:  1091  found with (before cropping) frame dimensions:  224 180\n",
      "Starting to extract posture\n"
     ]
    },
    {
     "name": "stderr",
     "output_type": "stream",
     "text": [
      "1100it [00:05, 194.61it/s]                                                                                             \n"
     ]
    },
    {
     "name": "stdout",
     "output_type": "stream",
     "text": [
      "Saving results in E:\\Imaging2AFCPop\\eye tracking\\110516...\n",
      "Saving csv poses!\n",
      "Starting to analyze %  E:\\Imaging2AFCPop\\eye tracking\\110516\\MF209_110516_12a_FIXED_241.avi\n",
      "E:\\Imaging2AFCPop\\eye tracking\\110516  already exists!\n",
      "Loading  E:\\Imaging2AFCPop\\eye tracking\\110516\\MF209_110516_12a_FIXED_241.avi\n"
     ]
    },
    {
     "name": "stderr",
     "output_type": "stream",
     "text": [
      "  9%|███████▏                                                                        | 40/446 [00:00<00:01, 303.01it/s]"
     ]
    },
    {
     "name": "stdout",
     "output_type": "stream",
     "text": [
      "Duration of video [s]:  4.96 , recorded with  90.0 fps!\n",
      "Overall # of frames:  446  found with (before cropping) frame dimensions:  224 180\n",
      "Starting to extract posture\n"
     ]
    },
    {
     "name": "stderr",
     "output_type": "stream",
     "text": [
      "450it [00:02, 193.40it/s]                                                                                              \n",
      "  0%|                                                                                          | 0/969 [00:00<?, ?it/s]"
     ]
    },
    {
     "name": "stdout",
     "output_type": "stream",
     "text": [
      "Saving results in E:\\Imaging2AFCPop\\eye tracking\\110516...\n",
      "Saving csv poses!\n",
      "Starting to analyze %  E:\\Imaging2AFCPop\\eye tracking\\110516\\MF209_110516_12a_FIXED_158.avi\n",
      "E:\\Imaging2AFCPop\\eye tracking\\110516  already exists!\n",
      "Loading  E:\\Imaging2AFCPop\\eye tracking\\110516\\MF209_110516_12a_FIXED_158.avi\n",
      "Duration of video [s]:  10.77 , recorded with  90.0 fps!\n",
      "Overall # of frames:  969  found with (before cropping) frame dimensions:  224 180\n",
      "Starting to extract posture\n"
     ]
    },
    {
     "name": "stderr",
     "output_type": "stream",
     "text": [
      "970it [00:05, 192.39it/s]                                                                                              \n"
     ]
    },
    {
     "name": "stdout",
     "output_type": "stream",
     "text": [
      "Saving results in E:\\Imaging2AFCPop\\eye tracking\\110516...\n",
      "Saving csv poses!\n",
      "Starting to analyze %  E:\\Imaging2AFCPop\\eye tracking\\110516\\MF209_110516_12a_FIXED_018.avi\n",
      "E:\\Imaging2AFCPop\\eye tracking\\110516  already exists!\n",
      "Loading  E:\\Imaging2AFCPop\\eye tracking\\110516\\MF209_110516_12a_FIXED_018.avi\n"
     ]
    },
    {
     "name": "stderr",
     "output_type": "stream",
     "text": [
      "  9%|███████▏                                                                        | 40/447 [00:00<00:01, 310.24it/s]"
     ]
    },
    {
     "name": "stdout",
     "output_type": "stream",
     "text": [
      "Duration of video [s]:  4.97 , recorded with  90.0 fps!\n",
      "Overall # of frames:  447  found with (before cropping) frame dimensions:  224 180\n",
      "Starting to extract posture\n"
     ]
    },
    {
     "name": "stderr",
     "output_type": "stream",
     "text": [
      "450it [00:02, 193.76it/s]                                                                                              \n",
      "  0%|                                                                                         | 0/1661 [00:00<?, ?it/s]"
     ]
    },
    {
     "name": "stdout",
     "output_type": "stream",
     "text": [
      "Saving results in E:\\Imaging2AFCPop\\eye tracking\\110516...\n",
      "Saving csv poses!\n",
      "Starting to analyze %  E:\\Imaging2AFCPop\\eye tracking\\110516\\MF209_110516_12a_FIXED_204.avi\n",
      "E:\\Imaging2AFCPop\\eye tracking\\110516  already exists!\n",
      "Loading  E:\\Imaging2AFCPop\\eye tracking\\110516\\MF209_110516_12a_FIXED_204.avi\n",
      "Duration of video [s]:  18.46 , recorded with  90.0 fps!\n",
      "Overall # of frames:  1661  found with (before cropping) frame dimensions:  224 180\n",
      "Starting to extract posture\n"
     ]
    },
    {
     "name": "stderr",
     "output_type": "stream",
     "text": [
      "1664it [00:08, 194.60it/s]                                                                                             \n"
     ]
    },
    {
     "name": "stdout",
     "output_type": "stream",
     "text": [
      "Saving results in E:\\Imaging2AFCPop\\eye tracking\\110516...\n",
      "Saving csv poses!\n"
     ]
    },
    {
     "name": "stderr",
     "output_type": "stream",
     "text": [
      "  5%|███▋                                                                            | 40/877 [00:00<00:02, 305.92it/s]"
     ]
    },
    {
     "name": "stdout",
     "output_type": "stream",
     "text": [
      "Starting to analyze %  E:\\Imaging2AFCPop\\eye tracking\\110516\\MF209_110516_12a_FIXED_109.avi\n",
      "E:\\Imaging2AFCPop\\eye tracking\\110516  already exists!\n",
      "Loading  E:\\Imaging2AFCPop\\eye tracking\\110516\\MF209_110516_12a_FIXED_109.avi\n",
      "Duration of video [s]:  9.74 , recorded with  90.0 fps!\n",
      "Overall # of frames:  877  found with (before cropping) frame dimensions:  224 180\n",
      "Starting to extract posture\n"
     ]
    },
    {
     "name": "stderr",
     "output_type": "stream",
     "text": [
      "880it [00:04, 194.60it/s]                                                                                              \n"
     ]
    },
    {
     "name": "stdout",
     "output_type": "stream",
     "text": [
      "Saving results in E:\\Imaging2AFCPop\\eye tracking\\110516...\n",
      "Saving csv poses!\n",
      "Starting to analyze %  E:\\Imaging2AFCPop\\eye tracking\\110516\\MF209_110516_12a_FIXED_118.avi\n",
      "E:\\Imaging2AFCPop\\eye tracking\\110516  already exists!\n",
      "Loading  E:\\Imaging2AFCPop\\eye tracking\\110516\\MF209_110516_12a_FIXED_118.avi\n"
     ]
    },
    {
     "name": "stderr",
     "output_type": "stream",
     "text": [
      "  4%|███▌                                                                            | 40/908 [00:00<00:02, 310.01it/s]"
     ]
    },
    {
     "name": "stdout",
     "output_type": "stream",
     "text": [
      "Duration of video [s]:  10.09 , recorded with  90.0 fps!\n",
      "Overall # of frames:  908  found with (before cropping) frame dimensions:  224 180\n",
      "Starting to extract posture\n"
     ]
    },
    {
     "name": "stderr",
     "output_type": "stream",
     "text": [
      "910it [00:04, 193.06it/s]                                                                                              \n"
     ]
    },
    {
     "name": "stdout",
     "output_type": "stream",
     "text": [
      "Saving results in E:\\Imaging2AFCPop\\eye tracking\\110516...\n",
      "Saving csv poses!\n",
      "Starting to analyze %  E:\\Imaging2AFCPop\\eye tracking\\110516\\MF209_110516_12a_FIXED_200.avi\n",
      "E:\\Imaging2AFCPop\\eye tracking\\110516  already exists!\n",
      "Loading  E:\\Imaging2AFCPop\\eye tracking\\110516\\MF209_110516_12a_FIXED_200.avi\n",
      "Duration of video [s]:  5.13 , recorded with  "
     ]
    },
    {
     "name": "stderr",
     "output_type": "stream",
     "text": [
      "  9%|██████▉                                                                         | 40/462 [00:00<00:01, 304.62it/s]"
     ]
    },
    {
     "name": "stdout",
     "output_type": "stream",
     "text": [
      "90.0 fps!\n",
      "Overall # of frames:  462  found with (before cropping) frame dimensions:  224 180\n",
      "Starting to extract posture\n"
     ]
    },
    {
     "name": "stderr",
     "output_type": "stream",
     "text": [
      "470it [00:02, 195.02it/s]                                                                                              \n",
      "  0%|                                                                                          | 0/923 [00:00<?, ?it/s]"
     ]
    },
    {
     "name": "stdout",
     "output_type": "stream",
     "text": [
      "Saving results in E:\\Imaging2AFCPop\\eye tracking\\110516...\n",
      "Saving csv poses!\n",
      "Starting to analyze %  E:\\Imaging2AFCPop\\eye tracking\\110516\\MF209_110516_12a_FIXED_254.avi\n",
      "E:\\Imaging2AFCPop\\eye tracking\\110516  already exists!\n",
      "Loading  E:\\Imaging2AFCPop\\eye tracking\\110516\\MF209_110516_12a_FIXED_254.avi\n",
      "Duration of video [s]:  10.26 , recorded with  90.0 fps!\n",
      "Overall # of frames:  923  found with (before cropping) frame dimensions:  224 180\n",
      "Starting to extract posture\n"
     ]
    },
    {
     "name": "stderr",
     "output_type": "stream",
     "text": [
      "930it [00:04, 194.75it/s]                                                                                              \n"
     ]
    },
    {
     "name": "stdout",
     "output_type": "stream",
     "text": [
      "Saving results in E:\\Imaging2AFCPop\\eye tracking\\110516...\n",
      "Saving csv poses!\n",
      "Starting to analyze %  E:\\Imaging2AFCPop\\eye tracking\\110516\\MF209_110516_12a_FIXED_203.avi\n",
      "E:\\Imaging2AFCPop\\eye tracking\\110516  already exists!\n",
      "Loading  E:\\Imaging2AFCPop\\eye tracking\\110516\\MF209_110516_12a_FIXED_203.avi\n"
     ]
    },
    {
     "name": "stderr",
     "output_type": "stream",
     "text": [
      "  9%|███████▏                                                                        | 40/446 [00:00<00:01, 302.42it/s]"
     ]
    },
    {
     "name": "stdout",
     "output_type": "stream",
     "text": [
      "Duration of video [s]:  4.96 , recorded with  90.0 fps!\n",
      "Overall # of frames:  446  found with (before cropping) frame dimensions:  224 180\n",
      "Starting to extract posture\n"
     ]
    },
    {
     "name": "stderr",
     "output_type": "stream",
     "text": [
      "450it [00:02, 194.27it/s]                                                                                              \n",
      "  0%|                                                                                          | 0/477 [00:00<?, ?it/s]"
     ]
    },
    {
     "name": "stdout",
     "output_type": "stream",
     "text": [
      "Saving results in E:\\Imaging2AFCPop\\eye tracking\\110516...\n",
      "Saving csv poses!\n",
      "Starting to analyze %  E:\\Imaging2AFCPop\\eye tracking\\110516\\MF209_110516_12a_FIXED_193.avi\n",
      "E:\\Imaging2AFCPop\\eye tracking\\110516  already exists!\n",
      "Loading  E:\\Imaging2AFCPop\\eye tracking\\110516\\MF209_110516_12a_FIXED_193.avi\n",
      "Duration of video [s]:  5.3 , recorded with  90.0 fps!\n",
      "Overall # of frames:  477  found with (before cropping) frame dimensions:  224 180\n",
      "Starting to extract posture\n"
     ]
    },
    {
     "name": "stderr",
     "output_type": "stream",
     "text": [
      "480it [00:02, 193.88it/s]                                                                                              \n",
      "  0%|                                                                                          | 0/462 [00:00<?, ?it/s]"
     ]
    },
    {
     "name": "stdout",
     "output_type": "stream",
     "text": [
      "Saving results in E:\\Imaging2AFCPop\\eye tracking\\110516...\n",
      "Saving csv poses!\n",
      "Starting to analyze %  E:\\Imaging2AFCPop\\eye tracking\\110516\\MF209_110516_12a_FIXED_202.avi\n",
      "E:\\Imaging2AFCPop\\eye tracking\\110516  already exists!\n",
      "Loading  E:\\Imaging2AFCPop\\eye tracking\\110516\\MF209_110516_12a_FIXED_202.avi\n",
      "Duration of video [s]:  5.13 , recorded with  90.0 fps!\n",
      "Overall # of frames:  462  found with (before cropping) frame dimensions:  224 180\n",
      "Starting to extract posture\n"
     ]
    },
    {
     "name": "stderr",
     "output_type": "stream",
     "text": [
      "470it [00:02, 196.16it/s]                                                                                              \n",
      "  0%|                                                                                          | 0/461 [00:00<?, ?it/s]"
     ]
    },
    {
     "name": "stdout",
     "output_type": "stream",
     "text": [
      "Saving results in E:\\Imaging2AFCPop\\eye tracking\\110516...\n",
      "Saving csv poses!\n",
      "Starting to analyze %  E:\\Imaging2AFCPop\\eye tracking\\110516\\MF209_110516_12a_FIXED_124.avi\n",
      "E:\\Imaging2AFCPop\\eye tracking\\110516  already exists!\n",
      "Loading  E:\\Imaging2AFCPop\\eye tracking\\110516\\MF209_110516_12a_FIXED_124.avi\n",
      "Duration of video [s]:  5.12 , recorded with  90.0 fps!\n",
      "Overall # of frames:  461  found with (before cropping) frame dimensions:  224 180\n",
      "Starting to extract posture\n"
     ]
    },
    {
     "name": "stderr",
     "output_type": "stream",
     "text": [
      "470it [00:02, 195.99it/s]                                                                                              \n",
      "  0%|                                                                                          | 0/446 [00:00<?, ?it/s]"
     ]
    },
    {
     "name": "stdout",
     "output_type": "stream",
     "text": [
      "Saving results in E:\\Imaging2AFCPop\\eye tracking\\110516...\n",
      "Saving csv poses!\n",
      "Starting to analyze %  E:\\Imaging2AFCPop\\eye tracking\\110516\\MF209_110516_12a_FIXED_106.avi\n",
      "E:\\Imaging2AFCPop\\eye tracking\\110516  already exists!\n",
      "Loading  E:\\Imaging2AFCPop\\eye tracking\\110516\\MF209_110516_12a_FIXED_106.avi\n",
      "Duration of video [s]:  4.96 , recorded with  90.0 fps!\n",
      "Overall # of frames:  446  found with (before cropping) frame dimensions:  224 180\n",
      "Starting to extract posture\n"
     ]
    },
    {
     "name": "stderr",
     "output_type": "stream",
     "text": [
      "450it [00:02, 192.98it/s]                                                                                              \n",
      "  0%|                                                                                         | 0/2984 [00:00<?, ?it/s]"
     ]
    },
    {
     "name": "stdout",
     "output_type": "stream",
     "text": [
      "Saving results in E:\\Imaging2AFCPop\\eye tracking\\110516...\n",
      "Saving csv poses!\n",
      "Starting to analyze %  E:\\Imaging2AFCPop\\eye tracking\\110516\\MF209_110516_12a_FIXED_120.avi\n",
      "E:\\Imaging2AFCPop\\eye tracking\\110516  already exists!\n",
      "Loading  E:\\Imaging2AFCPop\\eye tracking\\110516\\MF209_110516_12a_FIXED_120.avi\n",
      "Duration of video [s]:  33.16 , recorded with  90.0 fps!\n",
      "Overall # of frames:  2984  found with (before cropping) frame dimensions:  224 180\n",
      "Starting to extract posture\n"
     ]
    },
    {
     "name": "stderr",
     "output_type": "stream",
     "text": [
      "2987it [00:15, 195.02it/s]                                                                                             \n"
     ]
    },
    {
     "name": "stdout",
     "output_type": "stream",
     "text": [
      "Saving results in E:\\Imaging2AFCPop\\eye tracking\\110516...\n",
      "Saving csv poses!\n"
     ]
    },
    {
     "name": "stderr",
     "output_type": "stream",
     "text": [
      "\r",
      "  0%|                                                                                         | 0/1907 [00:00<?, ?it/s]"
     ]
    },
    {
     "name": "stdout",
     "output_type": "stream",
     "text": [
      "Starting to analyze %  E:\\Imaging2AFCPop\\eye tracking\\110516\\MF209_110516_12a_FIXED_078.avi\n",
      "E:\\Imaging2AFCPop\\eye tracking\\110516  already exists!\n",
      "Loading  E:\\Imaging2AFCPop\\eye tracking\\110516\\MF209_110516_12a_FIXED_078.avi\n",
      "Duration of video [s]:  21.19 , recorded with  90.0 fps!\n",
      "Overall # of frames:  1907  found with (before cropping) frame dimensions:  224 180\n",
      "Starting to extract posture\n"
     ]
    },
    {
     "name": "stderr",
     "output_type": "stream",
     "text": [
      "1919it [00:09, 195.21it/s]                                                                                             \n"
     ]
    },
    {
     "name": "stdout",
     "output_type": "stream",
     "text": [
      "Saving results in E:\\Imaging2AFCPop\\eye tracking\\110516...\n",
      "Saving csv poses!\n"
     ]
    },
    {
     "name": "stderr",
     "output_type": "stream",
     "text": [
      "\r",
      "  0%|                                                                                         | 0/1616 [00:00<?, ?it/s]"
     ]
    },
    {
     "name": "stdout",
     "output_type": "stream",
     "text": [
      "Starting to analyze %  E:\\Imaging2AFCPop\\eye tracking\\110516\\MF209_110516_12a_FIXED_064.avi\n",
      "E:\\Imaging2AFCPop\\eye tracking\\110516  already exists!\n",
      "Loading  E:\\Imaging2AFCPop\\eye tracking\\110516\\MF209_110516_12a_FIXED_064.avi\n",
      "Duration of video [s]:  17.96 , recorded with  90.0 fps!\n",
      "Overall # of frames:  1616  found with (before cropping) frame dimensions:  224 180\n",
      "Starting to extract posture\n"
     ]
    },
    {
     "name": "stderr",
     "output_type": "stream",
     "text": [
      "1632it [00:08, 194.73it/s]                                                                                             \n"
     ]
    },
    {
     "name": "stdout",
     "output_type": "stream",
     "text": [
      "Saving results in E:\\Imaging2AFCPop\\eye tracking\\110516...\n",
      "Saving csv poses!\n"
     ]
    },
    {
     "name": "stderr",
     "output_type": "stream",
     "text": [
      "\r",
      "  0%|                                                                                          | 0/985 [00:00<?, ?it/s]"
     ]
    },
    {
     "name": "stdout",
     "output_type": "stream",
     "text": [
      "Starting to analyze %  E:\\Imaging2AFCPop\\eye tracking\\110516\\MF209_110516_12a_FIXED_081.avi\n",
      "E:\\Imaging2AFCPop\\eye tracking\\110516  already exists!\n",
      "Loading  E:\\Imaging2AFCPop\\eye tracking\\110516\\MF209_110516_12a_FIXED_081.avi\n",
      "Duration of video [s]:  10.94 , recorded with  90.0 fps!\n",
      "Overall # of frames:  985  found with (before cropping) frame dimensions:  224 180\n",
      "Starting to extract posture\n"
     ]
    },
    {
     "name": "stderr",
     "output_type": "stream",
     "text": [
      "990it [00:05, 184.55it/s]                                                                                              \n"
     ]
    },
    {
     "name": "stdout",
     "output_type": "stream",
     "text": [
      "Saving results in E:\\Imaging2AFCPop\\eye tracking\\110516...\n",
      "Saving csv poses!\n",
      "Starting to analyze %  E:\\Imaging2AFCPop\\eye tracking\\110516\\MF209_110516_12a_FIXED_143.avi\n",
      "E:\\Imaging2AFCPop\\eye tracking\\110516  already exists!\n",
      "Loading  E:\\Imaging2AFCPop\\eye tracking\\110516\\MF209_110516_12a_FIXED_143.avi\n"
     ]
    },
    {
     "name": "stderr",
     "output_type": "stream",
     "text": [
      "  7%|█████▉                                                                          | 40/538 [00:00<00:01, 319.94it/s]"
     ]
    },
    {
     "name": "stdout",
     "output_type": "stream",
     "text": [
      "Duration of video [s]:  5.98 , recorded with  90.0 fps!\n",
      "Overall # of frames:  538  found with (before cropping) frame dimensions:  224 180\n",
      "Starting to extract posture\n"
     ]
    },
    {
     "name": "stderr",
     "output_type": "stream",
     "text": [
      "540it [00:02, 195.59it/s]                                                                                              \n",
      "  0%|                                                                                          | 0/908 [00:00<?, ?it/s]"
     ]
    },
    {
     "name": "stdout",
     "output_type": "stream",
     "text": [
      "Saving results in E:\\Imaging2AFCPop\\eye tracking\\110516...\n",
      "Saving csv poses!\n",
      "Starting to analyze %  E:\\Imaging2AFCPop\\eye tracking\\110516\\MF209_110516_12a_FIXED_236.avi\n",
      "E:\\Imaging2AFCPop\\eye tracking\\110516  already exists!\n",
      "Loading  E:\\Imaging2AFCPop\\eye tracking\\110516\\MF209_110516_12a_FIXED_236.avi\n",
      "Duration of video [s]:  10.09 , recorded with  90.0 fps!\n",
      "Overall # of frames:  908  found with (before cropping) frame dimensions:  224 180\n",
      "Starting to extract posture\n"
     ]
    },
    {
     "name": "stderr",
     "output_type": "stream",
     "text": [
      "910it [00:04, 195.33it/s]                                                                                              \n"
     ]
    },
    {
     "name": "stdout",
     "output_type": "stream",
     "text": [
      "Saving results in E:\\Imaging2AFCPop\\eye tracking\\110516...\n",
      "Saving csv poses!\n",
      "Starting to analyze %  E:\\Imaging2AFCPop\\eye tracking\\110516\\MF209_110516_12a_FIXED_133.avi\n",
      "E:\\Imaging2AFCPop\\eye tracking\\110516  already exists!\n",
      "Loading  E:\\Imaging2AFCPop\\eye tracking\\110516\\MF209_110516_12a_FIXED_133.avi\n"
     ]
    },
    {
     "name": "stderr",
     "output_type": "stream",
     "text": [
      "  8%|██████                                                                          | 40/524 [00:00<00:01, 317.48it/s]"
     ]
    },
    {
     "name": "stdout",
     "output_type": "stream",
     "text": [
      "Duration of video [s]:  5.82 , recorded with  90.0 fps!\n",
      "Overall # of frames:  524  found with (before cropping) frame dimensions:  224 180\n",
      "Starting to extract posture\n"
     ]
    },
    {
     "name": "stderr",
     "output_type": "stream",
     "text": [
      "530it [00:02, 196.24it/s]                                                                                              \n",
      "  0%|                                                                                          | 0/722 [00:00<?, ?it/s]"
     ]
    },
    {
     "name": "stdout",
     "output_type": "stream",
     "text": [
      "Saving results in E:\\Imaging2AFCPop\\eye tracking\\110516...\n",
      "Saving csv poses!\n",
      "Starting to analyze %  E:\\Imaging2AFCPop\\eye tracking\\110516\\MF209_110516_12a_FIXED_027.avi\n",
      "E:\\Imaging2AFCPop\\eye tracking\\110516  already exists!\n",
      "Loading  E:\\Imaging2AFCPop\\eye tracking\\110516\\MF209_110516_12a_FIXED_027.avi\n",
      "Duration of video [s]:  8.02 , recorded with  90.0 fps!\n",
      "Overall # of frames:  722  found with (before cropping) frame dimensions:  224 180\n",
      "Starting to extract posture\n"
     ]
    },
    {
     "name": "stderr",
     "output_type": "stream",
     "text": [
      "730it [00:03, 193.49it/s]                                                                                              \n",
      "  0%|                                                                                          | 0/862 [00:00<?, ?it/s]"
     ]
    },
    {
     "name": "stdout",
     "output_type": "stream",
     "text": [
      "Saving results in E:\\Imaging2AFCPop\\eye tracking\\110516...\n",
      "Saving csv poses!\n",
      "Starting to analyze %  E:\\Imaging2AFCPop\\eye tracking\\110516\\MF209_110516_12a_FIXED_259.avi\n",
      "E:\\Imaging2AFCPop\\eye tracking\\110516  already exists!\n",
      "Loading  E:\\Imaging2AFCPop\\eye tracking\\110516\\MF209_110516_12a_FIXED_259.avi\n",
      "Duration of video [s]:  9.58 , recorded with  90.0 fps!\n",
      "Overall # of frames:  862  found with (before cropping) frame dimensions:  224 180\n",
      "Starting to extract posture\n"
     ]
    },
    {
     "name": "stderr",
     "output_type": "stream",
     "text": [
      "870it [00:04, 197.29it/s]                                                                                              \n"
     ]
    },
    {
     "name": "stdout",
     "output_type": "stream",
     "text": [
      "Saving results in E:\\Imaging2AFCPop\\eye tracking\\110516...\n",
      "Saving csv poses!\n",
      "Starting to analyze %  E:\\Imaging2AFCPop\\eye tracking\\110516\\MF209_110516_12a_FIXED_110.avi\n",
      "E:\\Imaging2AFCPop\\eye tracking\\110516  already exists!\n",
      "Loading  E:\\Imaging2AFCPop\\eye tracking\\110516\\MF209_110516_12a_FIXED_110.avi\n",
      "Duration of video [s]:  5.3 , recorded with  90.0 fps!\n",
      "Overall # of frames:  477  found with (before cropping) frame dimensions:  224 "
     ]
    },
    {
     "name": "stderr",
     "output_type": "stream",
     "text": [
      "  8%|██████▋                                                                         | 40/477 [00:00<00:01, 322.60it/s]"
     ]
    },
    {
     "name": "stdout",
     "output_type": "stream",
     "text": [
      "180\n",
      "Starting to extract posture\n"
     ]
    },
    {
     "name": "stderr",
     "output_type": "stream",
     "text": [
      "480it [00:02, 196.17it/s]                                                                                              \n",
      "  0%|                                                                                          | 0/478 [00:00<?, ?it/s]"
     ]
    },
    {
     "name": "stdout",
     "output_type": "stream",
     "text": [
      "Saving results in E:\\Imaging2AFCPop\\eye tracking\\110516...\n",
      "Saving csv poses!\n",
      "Starting to analyze %  E:\\Imaging2AFCPop\\eye tracking\\110516\\MF209_110516_12a_FIXED_054.avi\n",
      "E:\\Imaging2AFCPop\\eye tracking\\110516  already exists!\n",
      "Loading  E:\\Imaging2AFCPop\\eye tracking\\110516\\MF209_110516_12a_FIXED_054.avi\n",
      "Duration of video [s]:  5.31 , recorded with  90.0 fps!\n",
      "Overall # of frames:  478  found with (before cropping) frame dimensions:  224 180\n",
      "Starting to extract posture\n"
     ]
    },
    {
     "name": "stderr",
     "output_type": "stream",
     "text": [
      "480it [00:02, 196.01it/s]                                                                                              \n",
      "  0%|                                                                                         | 0/3968 [00:00<?, ?it/s]"
     ]
    },
    {
     "name": "stdout",
     "output_type": "stream",
     "text": [
      "Saving results in E:\\Imaging2AFCPop\\eye tracking\\110516...\n",
      "Saving csv poses!\n",
      "Starting to analyze %  E:\\Imaging2AFCPop\\eye tracking\\110516\\MF209_110516_12a_FIXED_170.avi\n",
      "E:\\Imaging2AFCPop\\eye tracking\\110516  already exists!\n",
      "Loading  E:\\Imaging2AFCPop\\eye tracking\\110516\\MF209_110516_12a_FIXED_170.avi\n",
      "Duration of video [s]:  44.09 , recorded with  90.0 fps!\n",
      "Overall # of frames:  3968  found with (before cropping) frame dimensions:  224 180\n",
      "Starting to extract posture\n"
     ]
    },
    {
     "name": "stderr",
     "output_type": "stream",
     "text": [
      "3978it [00:20, 197.32it/s]                                                                                             \n"
     ]
    },
    {
     "name": "stdout",
     "output_type": "stream",
     "text": [
      "Saving results in E:\\Imaging2AFCPop\\eye tracking\\110516...\n",
      "Saving csv poses!\n"
     ]
    },
    {
     "name": "stderr",
     "output_type": "stream",
     "text": [
      "  7%|█████▌                                                                          | 40/569 [00:00<00:01, 307.80it/s]"
     ]
    },
    {
     "name": "stdout",
     "output_type": "stream",
     "text": [
      "Starting to analyze %  E:\\Imaging2AFCPop\\eye tracking\\110516\\MF209_110516_12a_FIXED_134.avi\n",
      "E:\\Imaging2AFCPop\\eye tracking\\110516  already exists!\n",
      "Loading  E:\\Imaging2AFCPop\\eye tracking\\110516\\MF209_110516_12a_FIXED_134.avi\n",
      "Duration of video [s]:  6.32 , recorded with  90.0 fps!\n",
      "Overall # of frames:  569  found with (before cropping) frame dimensions:  224 180\n",
      "Starting to extract posture\n"
     ]
    },
    {
     "name": "stderr",
     "output_type": "stream",
     "text": [
      "570it [00:02, 193.56it/s]                                                                                              \n",
      "  0%|                                                                                         | 0/1385 [00:00<?, ?it/s]"
     ]
    },
    {
     "name": "stdout",
     "output_type": "stream",
     "text": [
      "Saving results in E:\\Imaging2AFCPop\\eye tracking\\110516...\n",
      "Saving csv poses!\n",
      "Starting to analyze %  E:\\Imaging2AFCPop\\eye tracking\\110516\\MF209_110516_12a_FIXED_091.avi\n",
      "E:\\Imaging2AFCPop\\eye tracking\\110516  already exists!\n",
      "Loading  E:\\Imaging2AFCPop\\eye tracking\\110516\\MF209_110516_12a_FIXED_091.avi\n",
      "Duration of video [s]:  15.39 , recorded with  90.0 fps!\n",
      "Overall # of frames:  1385  found with (before cropping) frame dimensions:  224 180\n",
      "Starting to extract posture\n"
     ]
    },
    {
     "name": "stderr",
     "output_type": "stream",
     "text": [
      "1391it [00:07, 195.35it/s]                                                                                             \n"
     ]
    },
    {
     "name": "stdout",
     "output_type": "stream",
     "text": [
      "Saving results in E:\\Imaging2AFCPop\\eye tracking\\110516...\n",
      "Saving csv poses!\n"
     ]
    },
    {
     "name": "stderr",
     "output_type": "stream",
     "text": [
      "  9%|██████▉                                                                         | 40/463 [00:00<00:01, 310.18it/s]"
     ]
    },
    {
     "name": "stdout",
     "output_type": "stream",
     "text": [
      "Starting to analyze %  E:\\Imaging2AFCPop\\eye tracking\\110516\\MF209_110516_12a_FIXED_228.avi\n",
      "E:\\Imaging2AFCPop\\eye tracking\\110516  already exists!\n",
      "Loading  E:\\Imaging2AFCPop\\eye tracking\\110516\\MF209_110516_12a_FIXED_228.avi\n",
      "Duration of video [s]:  5.14 , recorded with  90.0 fps!\n",
      "Overall # of frames:  463  found with (before cropping) frame dimensions:  224 180\n",
      "Starting to extract posture\n"
     ]
    },
    {
     "name": "stderr",
     "output_type": "stream",
     "text": [
      "470it [00:02, 197.99it/s]                                                                                              \n",
      "  0%|                                                                                         | 0/1400 [00:00<?, ?it/s]"
     ]
    },
    {
     "name": "stdout",
     "output_type": "stream",
     "text": [
      "Saving results in E:\\Imaging2AFCPop\\eye tracking\\110516...\n",
      "Saving csv poses!\n",
      "Starting to analyze %  E:\\Imaging2AFCPop\\eye tracking\\110516\\MF209_110516_12a_FIXED_074.avi\n",
      "E:\\Imaging2AFCPop\\eye tracking\\110516  already exists!\n",
      "Loading  E:\\Imaging2AFCPop\\eye tracking\\110516\\MF209_110516_12a_FIXED_074.avi\n",
      "Duration of video [s]:  15.56 , recorded with  90.0 fps!\n",
      "Overall # of frames:  1400  found with (before cropping) frame dimensions:  224 180\n",
      "Starting to extract posture\n"
     ]
    },
    {
     "name": "stderr",
     "output_type": "stream",
     "text": [
      "1414it [00:07, 197.53it/s]                                                                                             \n"
     ]
    },
    {
     "name": "stdout",
     "output_type": "stream",
     "text": [
      "Saving results in E:\\Imaging2AFCPop\\eye tracking\\110516...\n",
      "Saving csv poses!\n",
      "Starting to analyze %  E:\\Imaging2AFCPop\\eye tracking\\110516\\MF209_110516_12a_FIXED_245.avi\n",
      "E:\\Imaging2AFCPop\\eye tracking\\110516  already exists!\n"
     ]
    },
    {
     "name": "stderr",
     "output_type": "stream",
     "text": [
      "  4%|███▍                                                                            | 40/939 [00:00<00:02, 315.05it/s]"
     ]
    },
    {
     "name": "stdout",
     "output_type": "stream",
     "text": [
      "Loading  E:\\Imaging2AFCPop\\eye tracking\\110516\\MF209_110516_12a_FIXED_245.avi\n",
      "Duration of video [s]:  10.43 , recorded with  90.0 fps!\n",
      "Overall # of frames:  939  found with (before cropping) frame dimensions:  224 180\n",
      "Starting to extract posture\n"
     ]
    },
    {
     "name": "stderr",
     "output_type": "stream",
     "text": [
      "940it [00:04, 195.07it/s]                                                                                              \n"
     ]
    },
    {
     "name": "stdout",
     "output_type": "stream",
     "text": [
      "Saving results in E:\\Imaging2AFCPop\\eye tracking\\110516...\n",
      "Saving csv poses!\n",
      "Starting to analyze %  E:\\Imaging2AFCPop\\eye tracking\\110516\\MF209_110516_12a_FIXED_152.avi\n",
      "E:\\Imaging2AFCPop\\eye tracking\\110516  already exists!\n",
      "Loading  E:\\Imaging2AFCPop\\eye tracking\\110516\\MF209_110516_12a_FIXED_152.avi\n"
     ]
    },
    {
     "name": "stderr",
     "output_type": "stream",
     "text": [
      "  4%|██▉                                                                            | 40/1062 [00:00<00:03, 315.00it/s]"
     ]
    },
    {
     "name": "stdout",
     "output_type": "stream",
     "text": [
      "Duration of video [s]:  11.8 , recorded with  90.0 fps!\n",
      "Overall # of frames:  1062  found with (before cropping) frame dimensions:  224 180\n",
      "Starting to extract posture\n"
     ]
    },
    {
     "name": "stderr",
     "output_type": "stream",
     "text": [
      "1070it [00:05, 197.10it/s]                                                                                             \n"
     ]
    },
    {
     "name": "stdout",
     "output_type": "stream",
     "text": [
      "Saving results in E:\\Imaging2AFCPop\\eye tracking\\110516...\n",
      "Saving csv poses!\n",
      "Starting to analyze %  E:\\Imaging2AFCPop\\eye tracking\\110516\\MF209_110516_12a_FIXED_227.avi\n",
      "E:\\Imaging2AFCPop\\eye tracking\\110516  already exists!\n",
      "Loading  E:\\Imaging2AFCPop\\eye tracking\\110516\\MF209_110516_12a_FIXED_227.avi\n"
     ]
    },
    {
     "name": "stderr",
     "output_type": "stream",
     "text": [
      "  9%|███████▏                                                                        | 40/445 [00:00<00:01, 320.12it/s]"
     ]
    },
    {
     "name": "stdout",
     "output_type": "stream",
     "text": [
      "Duration of video [s]:  4.94 , recorded with  90.0 fps!\n",
      "Overall # of frames:  445  found with (before cropping) frame dimensions:  224 180\n",
      "Starting to extract posture\n"
     ]
    },
    {
     "name": "stderr",
     "output_type": "stream",
     "text": [
      "450it [00:02, 196.61it/s]                                                                                              \n",
      "  0%|                                                                                          | 0/446 [00:00<?, ?it/s]"
     ]
    },
    {
     "name": "stdout",
     "output_type": "stream",
     "text": [
      "Saving results in E:\\Imaging2AFCPop\\eye tracking\\110516...\n",
      "Saving csv poses!\n",
      "Starting to analyze %  E:\\Imaging2AFCPop\\eye tracking\\110516\\MF209_110516_12a_FIXED_246.avi\n",
      "E:\\Imaging2AFCPop\\eye tracking\\110516  already exists!\n",
      "Loading  E:\\Imaging2AFCPop\\eye tracking\\110516\\MF209_110516_12a_FIXED_246.avi\n",
      "Duration of video [s]:  4.96 , recorded with  90.0 fps!\n",
      "Overall # of frames:  446  found with (before cropping) frame dimensions:  224 180\n",
      "Starting to extract posture\n"
     ]
    },
    {
     "name": "stderr",
     "output_type": "stream",
     "text": [
      "450it [00:02, 195.75it/s]                                                                                              \n",
      "  0%|                                                                                          | 0/908 [00:00<?, ?it/s]"
     ]
    },
    {
     "name": "stdout",
     "output_type": "stream",
     "text": [
      "Saving results in E:\\Imaging2AFCPop\\eye tracking\\110516...\n",
      "Saving csv poses!\n",
      "Starting to analyze %  E:\\Imaging2AFCPop\\eye tracking\\110516\\MF209_110516_12a_FIXED_177.avi\n",
      "E:\\Imaging2AFCPop\\eye tracking\\110516  already exists!\n",
      "Loading  E:\\Imaging2AFCPop\\eye tracking\\110516\\MF209_110516_12a_FIXED_177.avi\n",
      "Duration of video [s]:  10.09 , recorded with  90.0 fps!\n",
      "Overall # of frames:  908  found with (before cropping) frame dimensions:  224 180\n",
      "Starting to extract posture\n"
     ]
    },
    {
     "name": "stderr",
     "output_type": "stream",
     "text": [
      "910it [00:04, 194.38it/s]                                                                                              \n"
     ]
    },
    {
     "name": "stdout",
     "output_type": "stream",
     "text": [
      "Saving results in E:\\Imaging2AFCPop\\eye tracking\\110516...\n",
      "Saving csv poses!\n",
      "Starting to analyze %  E:\\Imaging2AFCPop\\eye tracking\\110516\\MF209_110516_12a_FIXED_113.avi\n",
      "E:\\Imaging2AFCPop\\eye tracking\\110516  already exists!\n",
      "Loading  E:\\Imaging2AFCPop\\eye tracking\\110516\\MF209_110516_12a_FIXED_113.avi\n",
      "Duration of video [s]:  23.08 , recorded with  90.0 fps!\n",
      "Overall # of frames:  2077  found with (before cropping) frame dimensions:  224 180\n",
      "Starting to extract posture\n"
     ]
    },
    {
     "name": "stderr",
     "output_type": "stream",
     "text": [
      "2080it [00:10, 197.15it/s]                                                                                             \n"
     ]
    },
    {
     "name": "stdout",
     "output_type": "stream",
     "text": [
      "Saving results in E:\\Imaging2AFCPop\\eye tracking\\110516...\n",
      "Saving csv poses!\n"
     ]
    },
    {
     "name": "stderr",
     "output_type": "stream",
     "text": [
      "  7%|█████▍                                                                          | 40/585 [00:00<00:01, 317.49it/s]"
     ]
    },
    {
     "name": "stdout",
     "output_type": "stream",
     "text": [
      "Starting to analyze %  E:\\Imaging2AFCPop\\eye tracking\\110516\\MF209_110516_12a_FIXED_206.avi\n",
      "E:\\Imaging2AFCPop\\eye tracking\\110516  already exists!\n",
      "Loading  E:\\Imaging2AFCPop\\eye tracking\\110516\\MF209_110516_12a_FIXED_206.avi\n",
      "Duration of video [s]:  6.5 , recorded with  90.0 fps!\n",
      "Overall # of frames:  585  found with (before cropping) frame dimensions:  224 180\n",
      "Starting to extract posture\n"
     ]
    },
    {
     "name": "stderr",
     "output_type": "stream",
     "text": [
      "590it [00:03, 195.83it/s]                                                                                              \n",
      "  0%|                                                                                          | 0/723 [00:00<?, ?it/s]"
     ]
    },
    {
     "name": "stdout",
     "output_type": "stream",
     "text": [
      "Saving results in E:\\Imaging2AFCPop\\eye tracking\\110516...\n",
      "Saving csv poses!\n",
      "Starting to analyze %  E:\\Imaging2AFCPop\\eye tracking\\110516\\MF209_110516_12a_FIXED_039.avi\n",
      "E:\\Imaging2AFCPop\\eye tracking\\110516  already exists!\n",
      "Loading  E:\\Imaging2AFCPop\\eye tracking\\110516\\MF209_110516_12a_FIXED_039.avi\n",
      "Duration of video [s]:  8.03 , recorded with  90.0 fps!\n",
      "Overall # of frames:  723  found with (before cropping) frame dimensions:  224 180\n",
      "Starting to extract posture\n"
     ]
    },
    {
     "name": "stderr",
     "output_type": "stream",
     "text": [
      "730it [00:03, 196.25it/s]                                                                                              \n",
      "  0%|                                                                                          | 0/570 [00:00<?, ?it/s]"
     ]
    },
    {
     "name": "stdout",
     "output_type": "stream",
     "text": [
      "Saving results in E:\\Imaging2AFCPop\\eye tracking\\110516...\n",
      "Saving csv poses!\n",
      "Starting to analyze %  E:\\Imaging2AFCPop\\eye tracking\\110516\\MF209_110516_12a_FIXED_179.avi\n",
      "E:\\Imaging2AFCPop\\eye tracking\\110516  already exists!\n",
      "Loading  E:\\Imaging2AFCPop\\eye tracking\\110516\\MF209_110516_12a_FIXED_179.avi\n",
      "Duration of video [s]:  6.33 , recorded with  90.0 fps!\n",
      "Overall # of frames:  570  found with (before cropping) frame dimensions:  224 180\n",
      "Starting to extract posture\n"
     ]
    },
    {
     "name": "stderr",
     "output_type": "stream",
     "text": [
      "580it [00:02, 196.89it/s]                                                                                              \n",
      "  0%|                                                                                          | 0/478 [00:00<?, ?it/s]"
     ]
    },
    {
     "name": "stdout",
     "output_type": "stream",
     "text": [
      "Saving results in E:\\Imaging2AFCPop\\eye tracking\\110516...\n",
      "Saving csv poses!\n",
      "Starting to analyze %  E:\\Imaging2AFCPop\\eye tracking\\110516\\MF209_110516_12a_FIXED_069.avi\n",
      "E:\\Imaging2AFCPop\\eye tracking\\110516  already exists!\n",
      "Loading  E:\\Imaging2AFCPop\\eye tracking\\110516\\MF209_110516_12a_FIXED_069.avi\n",
      "Duration of video [s]:  5.31 , recorded with  90.0 fps!\n",
      "Overall # of frames:  478  found with (before cropping) frame dimensions:  224 180\n",
      "Starting to extract posture\n"
     ]
    },
    {
     "name": "stderr",
     "output_type": "stream",
     "text": [
      "480it [00:02, 195.60it/s]                                                                                              \n",
      "  0%|                                                                                          | 0/600 [00:00<?, ?it/s]"
     ]
    },
    {
     "name": "stdout",
     "output_type": "stream",
     "text": [
      "Saving results in E:\\Imaging2AFCPop\\eye tracking\\110516...\n",
      "Saving csv poses!\n",
      "Starting to analyze %  E:\\Imaging2AFCPop\\eye tracking\\110516\\MF209_110516_12a_FIXED_265.avi\n",
      "E:\\Imaging2AFCPop\\eye tracking\\110516  already exists!\n",
      "Loading  E:\\Imaging2AFCPop\\eye tracking\\110516\\MF209_110516_12a_FIXED_265.avi\n",
      "Duration of video [s]:  6.67 , recorded with  90.0 fps!\n",
      "Overall # of frames:  600  found with (before cropping) frame dimensions:  224 180\n",
      "Starting to extract posture\n"
     ]
    },
    {
     "name": "stderr",
     "output_type": "stream",
     "text": [
      "610it [00:03, 198.19it/s]                                                                                              \n",
      "  0%|                                                                                          | 0/447 [00:00<?, ?it/s]"
     ]
    },
    {
     "name": "stdout",
     "output_type": "stream",
     "text": [
      "Saving results in E:\\Imaging2AFCPop\\eye tracking\\110516...\n",
      "Saving csv poses!\n",
      "Starting to analyze %  E:\\Imaging2AFCPop\\eye tracking\\110516\\MF209_110516_12a_FIXED_232.avi\n",
      "E:\\Imaging2AFCPop\\eye tracking\\110516  already exists!\n",
      "Loading  E:\\Imaging2AFCPop\\eye tracking\\110516\\MF209_110516_12a_FIXED_232.avi\n",
      "Duration of video [s]:  4.97 , recorded with  90.0 fps!\n",
      "Overall # of frames:  447  found with (before cropping) frame dimensions:  224 180\n",
      "Starting to extract posture\n"
     ]
    },
    {
     "name": "stderr",
     "output_type": "stream",
     "text": [
      "450it [00:02, 196.52it/s]                                                                                              \n",
      "  0%|                                                                                         | 0/3107 [00:00<?, ?it/s]"
     ]
    },
    {
     "name": "stdout",
     "output_type": "stream",
     "text": [
      "Saving results in E:\\Imaging2AFCPop\\eye tracking\\110516...\n",
      "Saving csv poses!\n",
      "Starting to analyze %  E:\\Imaging2AFCPop\\eye tracking\\110516\\MF209_110516_12a_FIXED_100.avi\n",
      "E:\\Imaging2AFCPop\\eye tracking\\110516  already exists!\n",
      "Loading  E:\\Imaging2AFCPop\\eye tracking\\110516\\MF209_110516_12a_FIXED_100.avi\n",
      "Duration of video [s]:  34.52 , recorded with  90.0 fps!\n",
      "Overall # of frames:  3107  found with (before cropping) frame dimensions:  224 180\n",
      "Starting to extract posture\n"
     ]
    },
    {
     "name": "stderr",
     "output_type": "stream",
     "text": [
      "3131it [00:15, 197.27it/s]                                                                                             \n"
     ]
    },
    {
     "name": "stdout",
     "output_type": "stream",
     "text": [
      "Saving results in E:\\Imaging2AFCPop\\eye tracking\\110516...\n",
      "Saving csv poses!\n"
     ]
    },
    {
     "name": "stderr",
     "output_type": "stream",
     "text": [
      "  9%|███████▏                                                                        | 40/447 [00:00<00:01, 314.95it/s]"
     ]
    },
    {
     "name": "stdout",
     "output_type": "stream",
     "text": [
      "Starting to analyze %  E:\\Imaging2AFCPop\\eye tracking\\110516\\MF209_110516_12a_FIXED_261.avi\n",
      "E:\\Imaging2AFCPop\\eye tracking\\110516  already exists!\n",
      "Loading  E:\\Imaging2AFCPop\\eye tracking\\110516\\MF209_110516_12a_FIXED_261.avi\n",
      "Duration of video [s]:  4.97 , recorded with  90.0 fps!\n",
      "Overall # of frames:  447  found with (before cropping) frame dimensions:  224 180\n",
      "Starting to extract posture\n"
     ]
    },
    {
     "name": "stderr",
     "output_type": "stream",
     "text": [
      "450it [00:02, 195.92it/s]                                                                                              \n",
      "  0%|                                                                                          | 0/462 [00:00<?, ?it/s]"
     ]
    },
    {
     "name": "stdout",
     "output_type": "stream",
     "text": [
      "Saving results in E:\\Imaging2AFCPop\\eye tracking\\110516...\n",
      "Saving csv poses!\n",
      "Starting to analyze %  E:\\Imaging2AFCPop\\eye tracking\\110516\\MF209_110516_12a_FIXED_042.avi\n",
      "E:\\Imaging2AFCPop\\eye tracking\\110516  already exists!\n",
      "Loading  E:\\Imaging2AFCPop\\eye tracking\\110516\\MF209_110516_12a_FIXED_042.avi\n",
      "Duration of video [s]:  5.13 , recorded with  90.0 fps!\n",
      "Overall # of frames:  462  found with (before cropping) frame dimensions:  224 180\n",
      "Starting to extract posture\n"
     ]
    },
    {
     "name": "stderr",
     "output_type": "stream",
     "text": [
      "470it [00:02, 198.07it/s]                                                                                              \n",
      "  0%|                                                                                          | 0/923 [00:00<?, ?it/s]"
     ]
    },
    {
     "name": "stdout",
     "output_type": "stream",
     "text": [
      "Saving results in E:\\Imaging2AFCPop\\eye tracking\\110516...\n",
      "Saving csv poses!\n",
      "Starting to analyze %  E:\\Imaging2AFCPop\\eye tracking\\110516\\MF209_110516_12a_FIXED_249.avi\n",
      "E:\\Imaging2AFCPop\\eye tracking\\110516  already exists!\n",
      "Loading  E:\\Imaging2AFCPop\\eye tracking\\110516\\MF209_110516_12a_FIXED_249.avi\n",
      "Duration of video [s]:  10.26 , recorded with  90.0 fps!\n",
      "Overall # of frames:  923  found with (before cropping) frame dimensions:  224 180\n",
      "Starting to extract posture\n"
     ]
    },
    {
     "name": "stderr",
     "output_type": "stream",
     "text": [
      "930it [00:04, 191.33it/s]                                                                                              \n"
     ]
    },
    {
     "name": "stdout",
     "output_type": "stream",
     "text": [
      "Saving results in E:\\Imaging2AFCPop\\eye tracking\\110516...\n",
      "Saving csv poses!\n",
      "Starting to analyze %  E:\\Imaging2AFCPop\\eye tracking\\110516\\MF209_110516_12a_FIXED_205.avi\n",
      "E:\\Imaging2AFCPop\\eye tracking\\110516  already exists!\n",
      "Loading  E:\\Imaging2AFCPop\\eye tracking\\110516\\MF209_110516_12a_FIXED_205.avi\n"
     ]
    },
    {
     "name": "stderr",
     "output_type": "stream",
     "text": [
      "  5%|████▎                                                                           | 40/739 [00:00<00:02, 312.52it/s]"
     ]
    },
    {
     "name": "stdout",
     "output_type": "stream",
     "text": [
      "Duration of video [s]:  8.21 , recorded with  90.0 fps!\n",
      "Overall # of frames:  739  found with (before cropping) frame dimensions:  224 180\n",
      "Starting to extract posture\n"
     ]
    },
    {
     "name": "stderr",
     "output_type": "stream",
     "text": [
      "740it [00:03, 190.73it/s]                                                                                              \n",
      "  0%|                                                                                          | 0/508 [00:00<?, ?it/s]"
     ]
    },
    {
     "name": "stdout",
     "output_type": "stream",
     "text": [
      "Saving results in E:\\Imaging2AFCPop\\eye tracking\\110516...\n",
      "Saving csv poses!\n",
      "Starting to analyze %  E:\\Imaging2AFCPop\\eye tracking\\110516\\MF209_110516_12a_FIXED_148.avi\n",
      "E:\\Imaging2AFCPop\\eye tracking\\110516  already exists!\n",
      "Loading  E:\\Imaging2AFCPop\\eye tracking\\110516\\MF209_110516_12a_FIXED_148.avi\n",
      "Duration of video [s]:  5.64 , recorded with  90.0 fps!\n",
      "Overall # of frames:  508  found with (before cropping) frame dimensions:  224 180\n",
      "Starting to extract posture\n"
     ]
    },
    {
     "name": "stderr",
     "output_type": "stream",
     "text": [
      "510it [00:02, 190.31it/s]                                                                                              \n",
      "  0%|                                                                                          | 0/477 [00:00<?, ?it/s]"
     ]
    },
    {
     "name": "stdout",
     "output_type": "stream",
     "text": [
      "Saving results in E:\\Imaging2AFCPop\\eye tracking\\110516...\n",
      "Saving csv poses!\n",
      "Starting to analyze %  E:\\Imaging2AFCPop\\eye tracking\\110516\\MF209_110516_12a_FIXED_088.avi\n",
      "E:\\Imaging2AFCPop\\eye tracking\\110516  already exists!\n",
      "Loading  E:\\Imaging2AFCPop\\eye tracking\\110516\\MF209_110516_12a_FIXED_088.avi\n",
      "Duration of video [s]:  5.3 , recorded with  90.0 fps!\n",
      "Overall # of frames:  477  found with (before cropping) frame dimensions:  224 180\n",
      "Starting to extract posture\n"
     ]
    },
    {
     "name": "stderr",
     "output_type": "stream",
     "text": [
      "480it [00:02, 191.93it/s]                                                                                              \n",
      "  0%|                                                                                          | 0/892 [00:00<?, ?it/s]"
     ]
    },
    {
     "name": "stdout",
     "output_type": "stream",
     "text": [
      "Saving results in E:\\Imaging2AFCPop\\eye tracking\\110516...\n",
      "Saving csv poses!\n",
      "Starting to analyze %  E:\\Imaging2AFCPop\\eye tracking\\110516\\MF209_110516_12a_FIXED_093.avi\n",
      "E:\\Imaging2AFCPop\\eye tracking\\110516  already exists!\n",
      "Loading  E:\\Imaging2AFCPop\\eye tracking\\110516\\MF209_110516_12a_FIXED_093.avi\n",
      "Duration of video [s]:  9.91 , recorded with  90.0 fps!\n",
      "Overall # of frames:  892  found with (before cropping) frame dimensions:  224 180\n",
      "Starting to extract posture\n"
     ]
    },
    {
     "name": "stderr",
     "output_type": "stream",
     "text": [
      "900it [00:04, 192.24it/s]                                                                                              \n"
     ]
    },
    {
     "name": "stdout",
     "output_type": "stream",
     "text": [
      "Saving results in E:\\Imaging2AFCPop\\eye tracking\\110516...\n",
      "Saving csv poses!\n",
      "Starting to analyze %  E:\\Imaging2AFCPop\\eye tracking\\110516\\MF209_110516_12a_FIXED_019.avi\n",
      "E:\\Imaging2AFCPop\\eye tracking\\110516  already exists!\n",
      "Loading  E:\\Imaging2AFCPop\\eye tracking\\110516\\MF209_110516_12a_FIXED_019.avi\n",
      "Duration of video [s]:  5.63 , recorded with  90.0 fps!\n",
      "Overall # of frames:  507  found with (before cropping) frame dimensions:  224 180\n",
      "Starting to extract posture\n"
     ]
    },
    {
     "name": "stderr",
     "output_type": "stream",
     "text": [
      "510it [00:02, 190.95it/s]                                                                                              \n",
      "  0%|                                                                                          | 0/477 [00:00<?, ?it/s]"
     ]
    },
    {
     "name": "stdout",
     "output_type": "stream",
     "text": [
      "Saving results in E:\\Imaging2AFCPop\\eye tracking\\110516...\n",
      "Saving csv poses!\n",
      "Starting to analyze %  E:\\Imaging2AFCPop\\eye tracking\\110516\\MF209_110516_12a_FIXED_239.avi\n",
      "E:\\Imaging2AFCPop\\eye tracking\\110516  already exists!\n",
      "Loading  E:\\Imaging2AFCPop\\eye tracking\\110516\\MF209_110516_12a_FIXED_239.avi\n",
      "Duration of video [s]:  5.3 , recorded with  90.0 fps!\n",
      "Overall # of frames:  477  found with (before cropping) frame dimensions:  224 180\n",
      "Starting to extract posture\n"
     ]
    },
    {
     "name": "stderr",
     "output_type": "stream",
     "text": [
      "480it [00:02, 191.47it/s]                                                                                              \n",
      "  0%|                                                                                          | 0/447 [00:00<?, ?it/s]"
     ]
    },
    {
     "name": "stdout",
     "output_type": "stream",
     "text": [
      "Saving results in E:\\Imaging2AFCPop\\eye tracking\\110516...\n",
      "Saving csv poses!\n",
      "Starting to analyze %  E:\\Imaging2AFCPop\\eye tracking\\110516\\MF209_110516_12a_FIXED_067.avi\n",
      "E:\\Imaging2AFCPop\\eye tracking\\110516  already exists!\n",
      "Loading  E:\\Imaging2AFCPop\\eye tracking\\110516\\MF209_110516_12a_FIXED_067.avi\n",
      "Duration of video [s]:  4.97 , recorded with  90.0 fps!\n",
      "Overall # of frames:  447  found with (before cropping) frame dimensions:  224 180\n",
      "Starting to extract posture\n"
     ]
    },
    {
     "name": "stderr",
     "output_type": "stream",
     "text": [
      "450it [00:02, 192.24it/s]                                                                                              \n",
      "  0%|                                                                                         | 0/1999 [00:00<?, ?it/s]"
     ]
    },
    {
     "name": "stdout",
     "output_type": "stream",
     "text": [
      "Saving results in E:\\Imaging2AFCPop\\eye tracking\\110516...\n",
      "Saving csv poses!\n",
      "Starting to analyze %  E:\\Imaging2AFCPop\\eye tracking\\110516\\MF209_110516_12a_FIXED_256.avi\n",
      "E:\\Imaging2AFCPop\\eye tracking\\110516  already exists!\n",
      "Loading  E:\\Imaging2AFCPop\\eye tracking\\110516\\MF209_110516_12a_FIXED_256.avi\n",
      "Duration of video [s]:  22.21 , recorded with  90.0 fps!\n",
      "Overall # of frames:  1999  found with (before cropping) frame dimensions:  224 180\n",
      "Starting to extract posture\n"
     ]
    },
    {
     "name": "stderr",
     "output_type": "stream",
     "text": [
      "2014it [00:10, 194.79it/s]                                                                                             \n"
     ]
    },
    {
     "name": "stdout",
     "output_type": "stream",
     "text": [
      "Saving results in E:\\Imaging2AFCPop\\eye tracking\\110516...\n",
      "Saving csv poses!\n"
     ]
    },
    {
     "name": "stderr",
     "output_type": "stream",
     "text": [
      "  3%|██▎                                                                            | 42/1430 [00:00<00:04, 328.19it/s]"
     ]
    },
    {
     "name": "stdout",
     "output_type": "stream",
     "text": [
      "Starting to analyze %  E:\\Imaging2AFCPop\\eye tracking\\110516\\MF209_110516_12a_FIXED_151.avi\n",
      "E:\\Imaging2AFCPop\\eye tracking\\110516  already exists!\n",
      "Loading  E:\\Imaging2AFCPop\\eye tracking\\110516\\MF209_110516_12a_FIXED_151.avi\n",
      "Duration of video [s]:  15.89 , recorded with  90.0 fps!\n",
      "Overall # of frames:  1430  found with (before cropping) frame dimensions:  224 180\n",
      "Starting to extract posture\n"
     ]
    },
    {
     "name": "stderr",
     "output_type": "stream",
     "text": [
      "1442it [00:07, 192.41it/s]                                                                                             \n"
     ]
    },
    {
     "name": "stdout",
     "output_type": "stream",
     "text": [
      "Saving results in E:\\Imaging2AFCPop\\eye tracking\\110516...\n",
      "Saving csv poses!\n"
     ]
    },
    {
     "name": "stderr",
     "output_type": "stream",
     "text": [
      "  9%|██████▉                                                                         | 40/461 [00:00<00:01, 298.50it/s]"
     ]
    },
    {
     "name": "stdout",
     "output_type": "stream",
     "text": [
      "Starting to analyze %  E:\\Imaging2AFCPop\\eye tracking\\110516\\MF209_110516_12a_FIXED_238.avi\n",
      "E:\\Imaging2AFCPop\\eye tracking\\110516  already exists!\n",
      "Loading  E:\\Imaging2AFCPop\\eye tracking\\110516\\MF209_110516_12a_FIXED_238.avi\n",
      "Duration of video [s]:  5.12 , recorded with  90.0 fps!\n",
      "Overall # of frames:  461  found with (before cropping) frame dimensions:  224 180\n",
      "Starting to extract posture\n"
     ]
    },
    {
     "name": "stderr",
     "output_type": "stream",
     "text": [
      "470it [00:02, 192.87it/s]                                                                                              \n",
      "  0%|                                                                                         | 0/1877 [00:00<?, ?it/s]"
     ]
    },
    {
     "name": "stdout",
     "output_type": "stream",
     "text": [
      "Saving results in E:\\Imaging2AFCPop\\eye tracking\\110516...\n",
      "Saving csv poses!\n",
      "Starting to analyze %  E:\\Imaging2AFCPop\\eye tracking\\110516\\MF209_110516_12a_FIXED_149.avi\n",
      "E:\\Imaging2AFCPop\\eye tracking\\110516  already exists!\n",
      "Loading  E:\\Imaging2AFCPop\\eye tracking\\110516\\MF209_110516_12a_FIXED_149.avi\n",
      "Duration of video [s]:  20.86 , recorded with  90.0 fps!\n",
      "Overall # of frames:  1877  found with (before cropping) frame dimensions:  224 180\n",
      "Starting to extract posture\n"
     ]
    },
    {
     "name": "stderr",
     "output_type": "stream",
     "text": [
      "1890it [00:09, 193.92it/s]                                                                                             \n"
     ]
    },
    {
     "name": "stdout",
     "output_type": "stream",
     "text": [
      "Saving results in E:\\Imaging2AFCPop\\eye tracking\\110516...\n",
      "Saving csv poses!\n"
     ]
    },
    {
     "name": "stderr",
     "output_type": "stream",
     "text": [
      "  9%|██████▉                                                                         | 40/462 [00:00<00:01, 312.42it/s]"
     ]
    },
    {
     "name": "stdout",
     "output_type": "stream",
     "text": [
      "Starting to analyze %  E:\\Imaging2AFCPop\\eye tracking\\110516\\MF209_110516_12a_FIXED_250.avi\n",
      "E:\\Imaging2AFCPop\\eye tracking\\110516  already exists!\n",
      "Loading  E:\\Imaging2AFCPop\\eye tracking\\110516\\MF209_110516_12a_FIXED_250.avi\n",
      "Duration of video [s]:  5.13 , recorded with  90.0 fps!\n",
      "Overall # of frames:  462  found with (before cropping) frame dimensions:  224 180\n",
      "Starting to extract posture\n"
     ]
    },
    {
     "name": "stderr",
     "output_type": "stream",
     "text": [
      "470it [00:02, 194.55it/s]                                                                                              \n",
      "  0%|                                                                                          | 0/554 [00:00<?, ?it/s]"
     ]
    },
    {
     "name": "stdout",
     "output_type": "stream",
     "text": [
      "Saving results in E:\\Imaging2AFCPop\\eye tracking\\110516...\n",
      "Saving csv poses!\n",
      "Starting to analyze %  E:\\Imaging2AFCPop\\eye tracking\\110516\\MF209_110516_12a_FIXED_045.avi\n",
      "E:\\Imaging2AFCPop\\eye tracking\\110516  already exists!\n",
      "Loading  E:\\Imaging2AFCPop\\eye tracking\\110516\\MF209_110516_12a_FIXED_045.avi\n",
      "Duration of video [s]:  6.16 , recorded with  90.0 fps!\n",
      "Overall # of frames:  554  found with (before cropping) frame dimensions:  224 180\n",
      "Starting to extract posture\n"
     ]
    },
    {
     "name": "stderr",
     "output_type": "stream",
     "text": [
      "560it [00:02, 191.20it/s]                                                                                              \n",
      "  0%|                                                                                         | 0/2353 [00:00<?, ?it/s]"
     ]
    },
    {
     "name": "stdout",
     "output_type": "stream",
     "text": [
      "Saving results in E:\\Imaging2AFCPop\\eye tracking\\110516...\n",
      "Saving csv poses!\n",
      "Starting to analyze %  E:\\Imaging2AFCPop\\eye tracking\\110516\\MF209_110516_12a_FIXED_252.avi\n",
      "E:\\Imaging2AFCPop\\eye tracking\\110516  already exists!\n",
      "Loading  E:\\Imaging2AFCPop\\eye tracking\\110516\\MF209_110516_12a_FIXED_252.avi\n",
      "Duration of video [s]:  26.14 , recorded with  90.0 fps!\n",
      "Overall # of frames:  2353  found with (before cropping) frame dimensions:  224 180\n",
      "Starting to extract posture\n"
     ]
    },
    {
     "name": "stderr",
     "output_type": "stream",
     "text": [
      "2369it [00:12, 192.77it/s]                                                                                             \n"
     ]
    },
    {
     "name": "stdout",
     "output_type": "stream",
     "text": [
      "Saving results in E:\\Imaging2AFCPop\\eye tracking\\110516...\n",
      "Saving csv poses!\n"
     ]
    },
    {
     "name": "stderr",
     "output_type": "stream",
     "text": [
      "  9%|███████▏                                                                        | 40/447 [00:00<00:01, 291.99it/s]"
     ]
    },
    {
     "name": "stdout",
     "output_type": "stream",
     "text": [
      "Starting to analyze %  E:\\Imaging2AFCPop\\eye tracking\\110516\\MF209_110516_12a_FIXED_258.avi\n",
      "E:\\Imaging2AFCPop\\eye tracking\\110516  already exists!\n",
      "Loading  E:\\Imaging2AFCPop\\eye tracking\\110516\\MF209_110516_12a_FIXED_258.avi\n",
      "Duration of video [s]:  4.97 , recorded with  90.0 fps!\n",
      "Overall # of frames:  447  found with (before cropping) frame dimensions:  224 180\n",
      "Starting to extract posture\n"
     ]
    },
    {
     "name": "stderr",
     "output_type": "stream",
     "text": [
      "450it [00:02, 190.93it/s]                                                                                              \n",
      "  0%|                                                                                          | 0/724 [00:00<?, ?it/s]"
     ]
    },
    {
     "name": "stdout",
     "output_type": "stream",
     "text": [
      "Saving results in E:\\Imaging2AFCPop\\eye tracking\\110516...\n",
      "Saving csv poses!\n",
      "Starting to analyze %  E:\\Imaging2AFCPop\\eye tracking\\110516\\MF209_110516_12a_FIXED_052.avi\n",
      "E:\\Imaging2AFCPop\\eye tracking\\110516  already exists!\n",
      "Loading  E:\\Imaging2AFCPop\\eye tracking\\110516\\MF209_110516_12a_FIXED_052.avi\n",
      "Duration of video [s]:  8.04 , recorded with  90.0 fps!\n",
      "Overall # of frames:  724  found with (before cropping) frame dimensions:  224 180\n",
      "Starting to extract posture\n"
     ]
    },
    {
     "name": "stderr",
     "output_type": "stream",
     "text": [
      "730it [00:03, 186.38it/s]                                                                                              \n"
     ]
    },
    {
     "name": "stdout",
     "output_type": "stream",
     "text": [
      "Saving results in E:\\Imaging2AFCPop\\eye tracking\\110516...\n",
      "Saving csv poses!\n",
      "Starting to analyze %  E:\\Imaging2AFCPop\\eye tracking\\110516\\MF209_110516_12a_FIXED_257.avi\n",
      "E:\\Imaging2AFCPop\\eye tracking\\110516  already exists!\n",
      "Loading  E:\\Imaging2AFCPop\\eye tracking\\110516\\MF209_110516_12a_FIXED_257.avi\n",
      "Duration of video [s]:  4.96 , recorded with  90.0 fps!\n",
      "Overall # of frames:  446  found with (before cropping) frame dimensions:  224 180\n",
      "Starting to extract posture\n"
     ]
    },
    {
     "name": "stderr",
     "output_type": "stream",
     "text": [
      "450it [00:02, 193.40it/s]                                                                                              \n",
      "  0%|                                                                                          | 0/477 [00:00<?, ?it/s]"
     ]
    },
    {
     "name": "stdout",
     "output_type": "stream",
     "text": [
      "Saving results in E:\\Imaging2AFCPop\\eye tracking\\110516...\n",
      "Saving csv poses!\n",
      "Starting to analyze %  E:\\Imaging2AFCPop\\eye tracking\\110516\\MF209_110516_12a_FIXED_235.avi\n",
      "E:\\Imaging2AFCPop\\eye tracking\\110516  already exists!\n",
      "Loading  E:\\Imaging2AFCPop\\eye tracking\\110516\\MF209_110516_12a_FIXED_235.avi\n",
      "Duration of video [s]:  5.3 , recorded with  90.0 fps!\n",
      "Overall # of frames:  477  found with (before cropping) frame dimensions:  224 180\n",
      "Starting to extract posture\n"
     ]
    },
    {
     "name": "stderr",
     "output_type": "stream",
     "text": [
      "480it [00:02, 191.48it/s]                                                                                              \n",
      "  0%|                                                                                          | 0/862 [00:00<?, ?it/s]"
     ]
    },
    {
     "name": "stdout",
     "output_type": "stream",
     "text": [
      "Saving results in E:\\Imaging2AFCPop\\eye tracking\\110516...\n",
      "Saving csv poses!\n",
      "Starting to analyze %  E:\\Imaging2AFCPop\\eye tracking\\110516\\MF209_110516_12a_FIXED_183.avi\n",
      "E:\\Imaging2AFCPop\\eye tracking\\110516  already exists!\n",
      "Loading  E:\\Imaging2AFCPop\\eye tracking\\110516\\MF209_110516_12a_FIXED_183.avi\n",
      "Duration of video [s]:  9.58 , recorded with  90.0 fps!\n",
      "Overall # of frames:  862  found with (before cropping) frame dimensions:  224 180\n",
      "Starting to extract posture\n"
     ]
    },
    {
     "name": "stderr",
     "output_type": "stream",
     "text": [
      "870it [00:04, 192.57it/s]                                                                                              \n"
     ]
    },
    {
     "name": "stdout",
     "output_type": "stream",
     "text": [
      "Saving results in E:\\Imaging2AFCPop\\eye tracking\\110516...\n",
      "Saving csv poses!\n",
      "Starting to analyze %  E:\\Imaging2AFCPop\\eye tracking\\110516\\MF209_110516_12a_FIXED_161.avi\n",
      "E:\\Imaging2AFCPop\\eye tracking\\110516  already exists!\n",
      "Loading  E:\\Imaging2AFCPop\\eye tracking\\110516\\MF209_110516_12a_FIXED_161.avi\n",
      "Duration of video [s]:  19.66 , recorded with  90.0 fps!\n",
      "Overall # of frames:  1769  found with (before cropping) frame dimensions:  224 180\n",
      "Starting to extract posture\n"
     ]
    },
    {
     "name": "stderr",
     "output_type": "stream",
     "text": [
      "1785it [00:09, 191.47it/s]                                                                                             \n"
     ]
    },
    {
     "name": "stdout",
     "output_type": "stream",
     "text": [
      "Saving results in E:\\Imaging2AFCPop\\eye tracking\\110516...\n",
      "Saving csv poses!\n"
     ]
    },
    {
     "name": "stderr",
     "output_type": "stream",
     "text": [
      "  3%|██▏                                                                            | 36/1293 [00:00<00:04, 279.11it/s]"
     ]
    },
    {
     "name": "stdout",
     "output_type": "stream",
     "text": [
      "Starting to analyze %  E:\\Imaging2AFCPop\\eye tracking\\110516\\MF209_110516_12a_FIXED_076.avi\n",
      "E:\\Imaging2AFCPop\\eye tracking\\110516  already exists!\n",
      "Loading  E:\\Imaging2AFCPop\\eye tracking\\110516\\MF209_110516_12a_FIXED_076.avi\n",
      "Duration of video [s]:  14.37 , recorded with  90.0 fps!\n",
      "Overall # of frames:  1293  found with (before cropping) frame dimensions:  224 180\n",
      "Starting to extract posture\n"
     ]
    },
    {
     "name": "stderr",
     "output_type": "stream",
     "text": [
      "1296it [00:06, 189.57it/s]                                                                                             \n"
     ]
    },
    {
     "name": "stdout",
     "output_type": "stream",
     "text": [
      "Saving results in E:\\Imaging2AFCPop\\eye tracking\\110516...\n",
      "Saving csv poses!\n"
     ]
    },
    {
     "name": "stderr",
     "output_type": "stream",
     "text": [
      "  8%|██████▋                                                                         | 40/477 [00:00<00:01, 312.64it/s]"
     ]
    },
    {
     "name": "stdout",
     "output_type": "stream",
     "text": [
      "Starting to analyze %  E:\\Imaging2AFCPop\\eye tracking\\110516\\MF209_110516_12a_FIXED_092.avi\n",
      "E:\\Imaging2AFCPop\\eye tracking\\110516  already exists!\n",
      "Loading  E:\\Imaging2AFCPop\\eye tracking\\110516\\MF209_110516_12a_FIXED_092.avi\n",
      "Duration of video [s]:  5.3 , recorded with  90.0 fps!\n",
      "Overall # of frames:  477  found with (before cropping) frame dimensions:  224 180\n",
      "Starting to extract posture\n"
     ]
    },
    {
     "name": "stderr",
     "output_type": "stream",
     "text": [
      "480it [00:02, 191.17it/s]                                                                                              \n",
      "  0%|                                                                                         | 0/3323 [00:00<?, ?it/s]"
     ]
    },
    {
     "name": "stdout",
     "output_type": "stream",
     "text": [
      "Saving results in E:\\Imaging2AFCPop\\eye tracking\\110516...\n",
      "Saving csv poses!\n",
      "Starting to analyze %  E:\\Imaging2AFCPop\\eye tracking\\110516\\MF209_110516_12a_FIXED_125.avi\n",
      "E:\\Imaging2AFCPop\\eye tracking\\110516  already exists!\n",
      "Loading  E:\\Imaging2AFCPop\\eye tracking\\110516\\MF209_110516_12a_FIXED_125.avi\n",
      "Duration of video [s]:  36.92 , recorded with  90.0 fps!\n",
      "Overall # of frames:  3323  found with (before cropping) frame dimensions:  224 180\n",
      "Starting to extract posture\n"
     ]
    },
    {
     "name": "stderr",
     "output_type": "stream",
     "text": [
      "3333it [00:16, 196.92it/s]                                                                                             \n"
     ]
    },
    {
     "name": "stdout",
     "output_type": "stream",
     "text": [
      "Saving results in E:\\Imaging2AFCPop\\eye tracking\\110516...\n",
      "Saving csv poses!\n"
     ]
    },
    {
     "name": "stderr",
     "output_type": "stream",
     "text": [
      "  4%|███▍                                                                            | 40/923 [00:00<00:02, 312.43it/s]"
     ]
    },
    {
     "name": "stdout",
     "output_type": "stream",
     "text": [
      "Starting to analyze %  E:\\Imaging2AFCPop\\eye tracking\\110516\\MF209_110516_12a_FIXED_030.avi\n",
      "E:\\Imaging2AFCPop\\eye tracking\\110516  already exists!\n",
      "Loading  E:\\Imaging2AFCPop\\eye tracking\\110516\\MF209_110516_12a_FIXED_030.avi\n",
      "Duration of video [s]:  10.26 , recorded with  90.0 fps!\n",
      "Overall # of frames:  923  found with (before cropping) frame dimensions:  224 180\n",
      "Starting to extract posture\n"
     ]
    },
    {
     "name": "stderr",
     "output_type": "stream",
     "text": [
      "930it [00:04, 196.63it/s]                                                                                              \n"
     ]
    },
    {
     "name": "stdout",
     "output_type": "stream",
     "text": [
      "Saving results in E:\\Imaging2AFCPop\\eye tracking\\110516...\n",
      "Saving csv poses!\n",
      "Starting to analyze %  E:\\Imaging2AFCPop\\eye tracking\\110516\\MF209_110516_12a_FIXED_248.avi\n",
      "E:\\Imaging2AFCPop\\eye tracking\\110516  already exists!\n",
      "Loading  E:\\Imaging2AFCPop\\eye tracking\\110516\\MF209_110516_12a_FIXED_248.avi\n"
     ]
    },
    {
     "name": "stderr",
     "output_type": "stream",
     "text": [
      "  8%|██████▋                                                                         | 40/477 [00:00<00:01, 317.59it/s]"
     ]
    },
    {
     "name": "stdout",
     "output_type": "stream",
     "text": [
      "Duration of video [s]:  5.3 , recorded with  90.0 fps!\n",
      "Overall # of frames:  477  found with (before cropping) frame dimensions:  224 180\n",
      "Starting to extract posture\n"
     ]
    },
    {
     "name": "stderr",
     "output_type": "stream",
     "text": [
      "480it [00:02, 195.53it/s]                                                                                              \n",
      "  0%|                                                                                          | 0/800 [00:00<?, ?it/s]"
     ]
    },
    {
     "name": "stdout",
     "output_type": "stream",
     "text": [
      "Saving results in E:\\Imaging2AFCPop\\eye tracking\\110516...\n",
      "Saving csv poses!\n",
      "Starting to analyze %  E:\\Imaging2AFCPop\\eye tracking\\110516\\MF209_110516_12a_FIXED_041.avi\n",
      "E:\\Imaging2AFCPop\\eye tracking\\110516  already exists!\n",
      "Loading  E:\\Imaging2AFCPop\\eye tracking\\110516\\MF209_110516_12a_FIXED_041.avi\n",
      "Duration of video [s]:  8.89 , recorded with  90.0 fps!\n",
      "Overall # of frames:  800  found with (before cropping) frame dimensions:  224 180\n",
      "Starting to extract posture\n"
     ]
    },
    {
     "name": "stderr",
     "output_type": "stream",
     "text": [
      "810it [00:04, 198.39it/s]                                                                                              \n"
     ]
    },
    {
     "name": "stdout",
     "output_type": "stream",
     "text": [
      "Saving results in E:\\Imaging2AFCPop\\eye tracking\\110516...\n",
      "Saving csv poses!\n",
      "Starting to analyze %  E:\\Imaging2AFCPop\\eye tracking\\110516\\MF209_110516_12a_FIXED_201.avi\n",
      "E:\\Imaging2AFCPop\\eye tracking\\110516  already exists!\n",
      "Loading  E:\\Imaging2AFCPop\\eye tracking\\110516\\MF209_110516_12a_FIXED_201.avi\n",
      "Duration of video [s]:  15.21 , recorded with  90.0 fps!\n",
      "Overall # of frames:  1369  found with (before cropping) frame dimensions:  224 "
     ]
    },
    {
     "name": "stderr",
     "output_type": "stream",
     "text": [
      "  3%|██▎                                                                            | 39/1369 [00:00<00:04, 314.62it/s]"
     ]
    },
    {
     "name": "stdout",
     "output_type": "stream",
     "text": [
      "180\n",
      "Starting to extract posture\n"
     ]
    },
    {
     "name": "stderr",
     "output_type": "stream",
     "text": [
      "1378it [00:07, 195.64it/s]                                                                                             \n"
     ]
    },
    {
     "name": "stdout",
     "output_type": "stream",
     "text": [
      "Saving results in E:\\Imaging2AFCPop\\eye tracking\\110516...\n",
      "Saving csv poses!\n"
     ]
    },
    {
     "name": "stderr",
     "output_type": "stream",
     "text": [
      "  3%|██▎                                                                            | 36/1246 [00:00<00:04, 290.34it/s]"
     ]
    },
    {
     "name": "stdout",
     "output_type": "stream",
     "text": [
      "Starting to analyze %  E:\\Imaging2AFCPop\\eye tracking\\110516\\MF209_110516_12a_FIXED_174.avi\n",
      "E:\\Imaging2AFCPop\\eye tracking\\110516  already exists!\n",
      "Loading  E:\\Imaging2AFCPop\\eye tracking\\110516\\MF209_110516_12a_FIXED_174.avi\n",
      "Duration of video [s]:  13.84 , recorded with  90.0 fps!\n",
      "Overall # of frames:  1246  found with (before cropping) frame dimensions:  224 180\n",
      "Starting to extract posture\n"
     ]
    },
    {
     "name": "stderr",
     "output_type": "stream",
     "text": [
      "1248it [00:06, 192.43it/s]                                                                                             \n"
     ]
    },
    {
     "name": "stdout",
     "output_type": "stream",
     "text": [
      "Saving results in E:\\Imaging2AFCPop\\eye tracking\\110516...\n",
      "Saving csv poses!\n",
      "Starting to analyze %  E:\\Imaging2AFCPop\\eye tracking\\110516\\MF209_110516_12a_FIXED_131.avi\n",
      "E:\\Imaging2AFCPop\\eye tracking\\110516  already exists!\n"
     ]
    },
    {
     "name": "stderr",
     "output_type": "stream",
     "text": [
      "  7%|█████▉                                                                          | 40/539 [00:00<00:01, 298.49it/s]"
     ]
    },
    {
     "name": "stdout",
     "output_type": "stream",
     "text": [
      "Loading  E:\\Imaging2AFCPop\\eye tracking\\110516\\MF209_110516_12a_FIXED_131.avi\n",
      "Duration of video [s]:  5.99 , recorded with  90.0 fps!\n",
      "Overall # of frames:  539  found with (before cropping) frame dimensions:  224 180\n",
      "Starting to extract posture\n"
     ]
    },
    {
     "name": "stderr",
     "output_type": "stream",
     "text": [
      "540it [00:02, 188.04it/s]                                                                                              \n",
      "  0%|                                                                                          | 0/462 [00:00<?, ?it/s]"
     ]
    },
    {
     "name": "stdout",
     "output_type": "stream",
     "text": [
      "Saving results in E:\\Imaging2AFCPop\\eye tracking\\110516...\n",
      "Saving csv poses!\n",
      "Starting to analyze %  E:\\Imaging2AFCPop\\eye tracking\\110516\\MF209_110516_12a_FIXED_175.avi\n",
      "E:\\Imaging2AFCPop\\eye tracking\\110516  already exists!\n",
      "Loading  E:\\Imaging2AFCPop\\eye tracking\\110516\\MF209_110516_12a_FIXED_175.avi\n",
      "Duration of video [s]:  5.13 , recorded with  90.0 fps!\n",
      "Overall # of frames:  462  found with (before cropping) frame dimensions:  224 180\n",
      "Starting to extract posture\n"
     ]
    },
    {
     "name": "stderr",
     "output_type": "stream",
     "text": [
      "470it [00:02, 192.64it/s]                                                                                              \n",
      "  0%|                                                                                          | 0/785 [00:00<?, ?it/s]"
     ]
    },
    {
     "name": "stdout",
     "output_type": "stream",
     "text": [
      "Saving results in E:\\Imaging2AFCPop\\eye tracking\\110516...\n",
      "Saving csv poses!\n",
      "Starting to analyze %  E:\\Imaging2AFCPop\\eye tracking\\110516\\MF209_110516_12a_FIXED_008.avi\n",
      "E:\\Imaging2AFCPop\\eye tracking\\110516  already exists!\n",
      "Loading  E:\\Imaging2AFCPop\\eye tracking\\110516\\MF209_110516_12a_FIXED_008.avi\n",
      "Duration of video [s]:  8.72 , recorded with  90.0 fps!\n",
      "Overall # of frames:  785  found with (before cropping) frame dimensions:  224 180\n",
      "Starting to extract posture\n"
     ]
    },
    {
     "name": "stderr",
     "output_type": "stream",
     "text": [
      "790it [00:04, 189.37it/s]                                                                                              \n"
     ]
    },
    {
     "name": "stdout",
     "output_type": "stream",
     "text": [
      "Saving results in E:\\Imaging2AFCPop\\eye tracking\\110516...\n",
      "Saving csv poses!\n",
      "Starting to analyze %  E:\\Imaging2AFCPop\\eye tracking\\110516\\MF209_110516_12a_FIXED_176.avi\n",
      "E:\\Imaging2AFCPop\\eye tracking\\110516  already exists!\n",
      "Loading  E:\\Imaging2AFCPop\\eye tracking\\110516\\MF209_110516_12a_FIXED_176.avi\n",
      "Duration of video [s]:  18.29 , recorded with  90.0 fps!\n",
      "Overall # of frames:  1646  found with (before cropping) frame dimensions:  224 180\n",
      "Starting to extract posture\n"
     ]
    },
    {
     "name": "stderr",
     "output_type": "stream",
     "text": [
      "1648it [00:08, 187.31it/s]                                                                                             \n"
     ]
    },
    {
     "name": "stdout",
     "output_type": "stream",
     "text": [
      "Saving results in E:\\Imaging2AFCPop\\eye tracking\\110516...\n",
      "Saving csv poses!\n"
     ]
    },
    {
     "name": "stderr",
     "output_type": "stream",
     "text": [
      "  7%|█████▉                                                                          | 40/538 [00:00<00:01, 310.19it/s]"
     ]
    },
    {
     "name": "stdout",
     "output_type": "stream",
     "text": [
      "Starting to analyze %  E:\\Imaging2AFCPop\\eye tracking\\110516\\MF209_110516_12a_FIXED_263.avi\n",
      "E:\\Imaging2AFCPop\\eye tracking\\110516  already exists!\n",
      "Loading  E:\\Imaging2AFCPop\\eye tracking\\110516\\MF209_110516_12a_FIXED_263.avi\n",
      "Duration of video [s]:  5.98 , recorded with  90.0 fps!\n",
      "Overall # of frames:  538  found with (before cropping) frame dimensions:  224 180\n",
      "Starting to extract posture\n"
     ]
    },
    {
     "name": "stderr",
     "output_type": "stream",
     "text": [
      "540it [00:02, 195.53it/s]                                                                                              \n",
      "  0%|                                                                                          | 0/862 [00:00<?, ?it/s]"
     ]
    },
    {
     "name": "stdout",
     "output_type": "stream",
     "text": [
      "Saving results in E:\\Imaging2AFCPop\\eye tracking\\110516...\n",
      "Saving csv poses!\n",
      "Starting to analyze %  E:\\Imaging2AFCPop\\eye tracking\\110516\\MF209_110516_12a_FIXED_253.avi\n",
      "E:\\Imaging2AFCPop\\eye tracking\\110516  already exists!\n",
      "Loading  E:\\Imaging2AFCPop\\eye tracking\\110516\\MF209_110516_12a_FIXED_253.avi\n",
      "Duration of video [s]:  9.58 , recorded with  90.0 fps!\n",
      "Overall # of frames:  862  found with (before cropping) frame dimensions:  224 180\n",
      "Starting to extract posture\n"
     ]
    },
    {
     "name": "stderr",
     "output_type": "stream",
     "text": [
      "870it [00:04, 196.53it/s]                                                                                              \n"
     ]
    },
    {
     "name": "stdout",
     "output_type": "stream",
     "text": [
      "Saving results in E:\\Imaging2AFCPop\\eye tracking\\110516...\n",
      "Saving csv poses!\n",
      "Starting to analyze %  E:\\Imaging2AFCPop\\eye tracking\\110516\\MF209_110516_12a_FIXED_171.avi\n",
      "E:\\Imaging2AFCPop\\eye tracking\\110516  already exists!\n",
      "Loading  E:\\Imaging2AFCPop\\eye tracking\\110516\\MF209_110516_12a_FIXED_171.avi\n",
      "Duration of video [s]:  5.13 , recorded with  90.0 fps!\n"
     ]
    },
    {
     "name": "stderr",
     "output_type": "stream",
     "text": [
      "  9%|██████▉                                                                         | 40/462 [00:00<00:01, 310.89it/s]"
     ]
    },
    {
     "name": "stdout",
     "output_type": "stream",
     "text": [
      "Overall # of frames:  462  found with (before cropping) frame dimensions:  224 180\n",
      "Starting to extract posture\n"
     ]
    },
    {
     "name": "stderr",
     "output_type": "stream",
     "text": [
      "470it [00:02, 198.49it/s]                                                                                              \n",
      "  0%|                                                                                          | 0/723 [00:00<?, ?it/s]"
     ]
    },
    {
     "name": "stdout",
     "output_type": "stream",
     "text": [
      "Saving results in E:\\Imaging2AFCPop\\eye tracking\\110516...\n",
      "Saving csv poses!\n",
      "Starting to analyze %  E:\\Imaging2AFCPop\\eye tracking\\110516\\MF209_110516_12a_FIXED_046.avi\n",
      "E:\\Imaging2AFCPop\\eye tracking\\110516  already exists!\n",
      "Loading  E:\\Imaging2AFCPop\\eye tracking\\110516\\MF209_110516_12a_FIXED_046.avi\n",
      "Duration of video [s]:  8.03 , recorded with  90.0 fps!\n",
      "Overall # of frames:  723  found with (before cropping) frame dimensions:  224 180\n",
      "Starting to extract posture\n"
     ]
    },
    {
     "name": "stderr",
     "output_type": "stream",
     "text": [
      "730it [00:03, 196.93it/s]                                                                                              \n",
      "  0%|                                                                                          | 0/816 [00:00<?, ?it/s]"
     ]
    },
    {
     "name": "stdout",
     "output_type": "stream",
     "text": [
      "Saving results in E:\\Imaging2AFCPop\\eye tracking\\110516...\n",
      "Saving csv poses!\n",
      "Starting to analyze %  E:\\Imaging2AFCPop\\eye tracking\\110516\\MF209_110516_12a_FIXED_050.avi\n",
      "E:\\Imaging2AFCPop\\eye tracking\\110516  already exists!\n",
      "Loading  E:\\Imaging2AFCPop\\eye tracking\\110516\\MF209_110516_12a_FIXED_050.avi\n",
      "Duration of video [s]:  9.07 , recorded with  90.0 fps!\n",
      "Overall # of frames:  816  found with (before cropping) frame dimensions:  224 180\n",
      "Starting to extract posture\n"
     ]
    },
    {
     "name": "stderr",
     "output_type": "stream",
     "text": [
      "820it [00:04, 196.10it/s]                                                                                              \n"
     ]
    },
    {
     "name": "stdout",
     "output_type": "stream",
     "text": [
      "Saving results in E:\\Imaging2AFCPop\\eye tracking\\110516...\n",
      "Saving csv poses!\n",
      "Starting to analyze %  E:\\Imaging2AFCPop\\eye tracking\\110516\\MF209_110516_12a_FIXED_166.avi\n",
      "E:\\Imaging2AFCPop\\eye tracking\\110516  already exists!\n",
      "Loading  E:\\Imaging2AFCPop\\eye tracking\\110516\\MF209_110516_12a_FIXED_166.avi\n",
      "Duration of video [s]:  5.31 , recorded with  90.0 fps!\n",
      "Overall # of frames:  478  found with (before cropping) frame dimensions:  224 180\n",
      "Starting to extract posture"
     ]
    },
    {
     "name": "stderr",
     "output_type": "stream",
     "text": [
      "  8%|██████▋                                                                         | 40/478 [00:00<00:01, 310.56it/s]"
     ]
    },
    {
     "name": "stdout",
     "output_type": "stream",
     "text": [
      "\n"
     ]
    },
    {
     "name": "stderr",
     "output_type": "stream",
     "text": [
      "480it [00:02, 194.23it/s]                                                                                              \n",
      "  0%|                                                                                          | 0/477 [00:00<?, ?it/s]"
     ]
    },
    {
     "name": "stdout",
     "output_type": "stream",
     "text": [
      "Saving results in E:\\Imaging2AFCPop\\eye tracking\\110516...\n",
      "Saving csv poses!\n",
      "Starting to analyze %  E:\\Imaging2AFCPop\\eye tracking\\110516\\MF209_110516_12a_FIXED_103.avi\n",
      "E:\\Imaging2AFCPop\\eye tracking\\110516  already exists!\n",
      "Loading  E:\\Imaging2AFCPop\\eye tracking\\110516\\MF209_110516_12a_FIXED_103.avi\n",
      "Duration of video [s]:  5.3 , recorded with  90.0 fps!\n",
      "Overall # of frames:  477  found with (before cropping) frame dimensions:  224 180\n",
      "Starting to extract posture\n"
     ]
    },
    {
     "name": "stderr",
     "output_type": "stream",
     "text": [
      "480it [00:02, 195.00it/s]                                                                                              \n",
      "  0%|                                                                                          | 0/677 [00:00<?, ?it/s]"
     ]
    },
    {
     "name": "stdout",
     "output_type": "stream",
     "text": [
      "Saving results in E:\\Imaging2AFCPop\\eye tracking\\110516...\n",
      "Saving csv poses!\n",
      "Starting to analyze %  E:\\Imaging2AFCPop\\eye tracking\\110516\\MF209_110516_12a_FIXED_005.avi\n",
      "E:\\Imaging2AFCPop\\eye tracking\\110516  already exists!\n",
      "Loading  E:\\Imaging2AFCPop\\eye tracking\\110516\\MF209_110516_12a_FIXED_005.avi\n",
      "Duration of video [s]:  7.52 , recorded with  90.0 fps!\n",
      "Overall # of frames:  677  found with (before cropping) frame dimensions:  224 180\n",
      "Starting to extract posture\n"
     ]
    },
    {
     "name": "stderr",
     "output_type": "stream",
     "text": [
      "680it [00:03, 195.45it/s]                                                                                              \n",
      "  0%|                                                                                          | 0/508 [00:00<?, ?it/s]"
     ]
    },
    {
     "name": "stdout",
     "output_type": "stream",
     "text": [
      "Saving results in E:\\Imaging2AFCPop\\eye tracking\\110516...\n",
      "Saving csv poses!\n",
      "Starting to analyze %  E:\\Imaging2AFCPop\\eye tracking\\110516\\MF209_110516_12a_FIXED_216.avi\n",
      "E:\\Imaging2AFCPop\\eye tracking\\110516  already exists!\n",
      "Loading  E:\\Imaging2AFCPop\\eye tracking\\110516\\MF209_110516_12a_FIXED_216.avi\n",
      "Duration of video [s]:  5.64 , recorded with  90.0 fps!\n",
      "Overall # of frames:  508  found with (before cropping) frame dimensions:  224 180\n",
      "Starting to extract posture\n"
     ]
    },
    {
     "name": "stderr",
     "output_type": "stream",
     "text": [
      "510it [00:02, 194.45it/s]                                                                                              \n",
      "  0%|                                                                                         | 0/1154 [00:00<?, ?it/s]"
     ]
    },
    {
     "name": "stdout",
     "output_type": "stream",
     "text": [
      "Saving results in E:\\Imaging2AFCPop\\eye tracking\\110516...\n",
      "Saving csv poses!\n",
      "Starting to analyze %  E:\\Imaging2AFCPop\\eye tracking\\110516\\MF209_110516_12a_FIXED_123.avi\n",
      "E:\\Imaging2AFCPop\\eye tracking\\110516  already exists!\n",
      "Loading  E:\\Imaging2AFCPop\\eye tracking\\110516\\MF209_110516_12a_FIXED_123.avi\n",
      "Duration of video [s]:  12.82 , recorded with  90.0 fps!\n",
      "Overall # of frames:  1154  found with (before cropping) frame dimensions:  224 180\n",
      "Starting to extract posture\n"
     ]
    },
    {
     "name": "stderr",
     "output_type": "stream",
     "text": [
      "1155it [00:05, 194.31it/s]                                                                                             \n"
     ]
    },
    {
     "name": "stdout",
     "output_type": "stream",
     "text": [
      "Saving results in E:\\Imaging2AFCPop\\eye tracking\\110516...\n",
      "Saving csv poses!\n",
      "Starting to analyze %  E:\\Imaging2AFCPop\\eye tracking\\110516\\MF209_110516_12a_FIXED_138.avi\n"
     ]
    },
    {
     "name": "stderr",
     "output_type": "stream",
     "text": [
      " 13%|██████████▋                                                                     | 40/300 [00:00<00:00, 325.33it/s]"
     ]
    },
    {
     "name": "stdout",
     "output_type": "stream",
     "text": [
      "E:\\Imaging2AFCPop\\eye tracking\\110516  already exists!\n",
      "Loading  E:\\Imaging2AFCPop\\eye tracking\\110516\\MF209_110516_12a_FIXED_138.avi\n",
      "Duration of video [s]:  3.33 , recorded with  90.0 fps!\n",
      "Overall # of frames:  300  found with (before cropping) frame dimensions:  224 180\n",
      "Starting to extract posture\n"
     ]
    },
    {
     "name": "stderr",
     "output_type": "stream",
     "text": [
      "310it [00:01, 196.69it/s]                                                                                              \n",
      "  0%|                                                                                          | 0/477 [00:00<?, ?it/s]"
     ]
    },
    {
     "name": "stdout",
     "output_type": "stream",
     "text": [
      "Saving results in E:\\Imaging2AFCPop\\eye tracking\\110516...\n",
      "Saving csv poses!\n",
      "Starting to analyze %  E:\\Imaging2AFCPop\\eye tracking\\110516\\MF209_110516_12a_FIXED_101.avi\n",
      "E:\\Imaging2AFCPop\\eye tracking\\110516  already exists!\n",
      "Loading  E:\\Imaging2AFCPop\\eye tracking\\110516\\MF209_110516_12a_FIXED_101.avi\n",
      "Duration of video [s]:  5.3 , recorded with  90.0 fps!\n",
      "Overall # of frames:  477  found with (before cropping) frame dimensions:  224 180\n",
      "Starting to extract posture\n"
     ]
    },
    {
     "name": "stderr",
     "output_type": "stream",
     "text": [
      "480it [00:02, 194.36it/s]                                                                                              \n",
      "  0%|                                                                                          | 0/677 [00:00<?, ?it/s]"
     ]
    },
    {
     "name": "stdout",
     "output_type": "stream",
     "text": [
      "Saving results in E:\\Imaging2AFCPop\\eye tracking\\110516...\n",
      "Saving csv poses!\n",
      "Starting to analyze %  E:\\Imaging2AFCPop\\eye tracking\\110516\\MF209_110516_12a_FIXED_040.avi\n",
      "E:\\Imaging2AFCPop\\eye tracking\\110516  already exists!\n",
      "Loading  E:\\Imaging2AFCPop\\eye tracking\\110516\\MF209_110516_12a_FIXED_040.avi\n",
      "Duration of video [s]:  7.52 , recorded with  90.0 fps!\n",
      "Overall # of frames:  677  found with (before cropping) frame dimensions:  224 180\n",
      "Starting to extract posture\n"
     ]
    },
    {
     "name": "stderr",
     "output_type": "stream",
     "text": [
      "680it [00:03, 195.83it/s]                                                                                              \n",
      "  0%|                                                                                          | 0/447 [00:00<?, ?it/s]"
     ]
    },
    {
     "name": "stdout",
     "output_type": "stream",
     "text": [
      "Saving results in E:\\Imaging2AFCPop\\eye tracking\\110516...\n",
      "Saving csv poses!\n",
      "Starting to analyze %  E:\\Imaging2AFCPop\\eye tracking\\110516\\MF209_110516_12a_FIXED_229.avi\n",
      "E:\\Imaging2AFCPop\\eye tracking\\110516  already exists!\n",
      "Loading  E:\\Imaging2AFCPop\\eye tracking\\110516\\MF209_110516_12a_FIXED_229.avi\n",
      "Duration of video [s]:  4.97 , recorded with  90.0 fps!\n",
      "Overall # of frames:  447  found with (before cropping) frame dimensions:  224 180\n",
      "Starting to extract posture\n"
     ]
    },
    {
     "name": "stderr",
     "output_type": "stream",
     "text": [
      "450it [00:02, 196.33it/s]                                                                                              \n",
      "  0%|                                                                                          | 0/447 [00:00<?, ?it/s]"
     ]
    },
    {
     "name": "stdout",
     "output_type": "stream",
     "text": [
      "Saving results in E:\\Imaging2AFCPop\\eye tracking\\110516...\n",
      "Saving csv poses!\n",
      "Starting to analyze %  E:\\Imaging2AFCPop\\eye tracking\\110516\\MF209_110516_12a_FIXED_215.avi\n",
      "E:\\Imaging2AFCPop\\eye tracking\\110516  already exists!\n",
      "Loading  E:\\Imaging2AFCPop\\eye tracking\\110516\\MF209_110516_12a_FIXED_215.avi\n",
      "Duration of video [s]:  4.97 , recorded with  90.0 fps!\n",
      "Overall # of frames:  447  found with (before cropping) frame dimensions:  224 180\n",
      "Starting to extract posture\n"
     ]
    },
    {
     "name": "stderr",
     "output_type": "stream",
     "text": [
      "450it [00:02, 194.13it/s]                                                                                              \n",
      "  0%|                                                                                          | 0/447 [00:00<?, ?it/s]"
     ]
    },
    {
     "name": "stdout",
     "output_type": "stream",
     "text": [
      "Saving results in E:\\Imaging2AFCPop\\eye tracking\\110516...\n",
      "Saving csv poses!\n",
      "Starting to analyze %  E:\\Imaging2AFCPop\\eye tracking\\110516\\MF209_110516_12a_FIXED_160.avi\n",
      "E:\\Imaging2AFCPop\\eye tracking\\110516  already exists!\n",
      "Loading  E:\\Imaging2AFCPop\\eye tracking\\110516\\MF209_110516_12a_FIXED_160.avi\n",
      "Duration of video [s]:  4.97 , recorded with  90.0 fps!\n",
      "Overall # of frames:  447  found with (before cropping) frame dimensions:  224 180\n",
      "Starting to extract posture\n"
     ]
    },
    {
     "name": "stderr",
     "output_type": "stream",
     "text": [
      "450it [00:02, 197.01it/s]                                                                                              \n",
      "  0%|                                                                                         | 0/1031 [00:00<?, ?it/s]"
     ]
    },
    {
     "name": "stdout",
     "output_type": "stream",
     "text": [
      "Saving results in E:\\Imaging2AFCPop\\eye tracking\\110516...\n",
      "Saving csv poses!\n",
      "Starting to analyze %  E:\\Imaging2AFCPop\\eye tracking\\110516\\MF209_110516_12a_FIXED_264.avi\n",
      "E:\\Imaging2AFCPop\\eye tracking\\110516  already exists!\n",
      "Loading  E:\\Imaging2AFCPop\\eye tracking\\110516\\MF209_110516_12a_FIXED_264.avi\n",
      "Duration of video [s]:  11.46 , recorded with  90.0 fps!\n",
      "Overall # of frames:  1031  found with (before cropping) frame dimensions:  224 180\n",
      "Starting to extract posture\n"
     ]
    },
    {
     "name": "stderr",
     "output_type": "stream",
     "text": [
      "1040it [00:05, 196.65it/s]                                                                                             \n"
     ]
    },
    {
     "name": "stdout",
     "output_type": "stream",
     "text": [
      "Saving results in E:\\Imaging2AFCPop\\eye tracking\\110516...\n",
      "Saving csv poses!\n",
      "The videos are analyzed. Now your research can truly start! \n",
      " You can create labeled videos with 'create_labeled_video'\n",
      "If the tracking is not satisfactory for some videos, consider expanding the training set. You can use the function 'extract_outlier_frames' to extract a few representative outlier frames.\n"
     ]
    }
   ],
   "source": [
    "video_paths = [['E:\\\\Imaging2AFCPop\\\\eye tracking\\\\MF131_070415\\\\'],\n",
    "       ['E:\\\\Imaging2AFCPop\\\\eye tracking\\\\MF122_180215\\\\'],\n",
    "       ['E:\\\\Imaging2AFCPop\\\\eye tracking\\\\MF183\\\\'],\n",
    "       ['E:\\\\Imaging2AFCPop\\\\eye tracking\\\\050516\\\\'],\n",
    "       ['E:\\\\Imaging2AFCPop\\\\eye tracking\\\\060616\\\\'],\n",
    "       ['E:\\\\Imaging2AFCPop\\\\eye tracking\\\\070516\\\\'],\n",
    "       ['E:\\\\Imaging2AFCPop\\\\eye tracking\\\\080516\\\\'],\n",
    "       ['E:\\\\Imaging2AFCPop\\\\eye tracking\\\\100516\\\\'],\n",
    "       ['E:\\\\Imaging2AFCPop\\\\eye tracking\\\\110516\\\\'],\n",
    "       ['E:\\\\Imaging2AFCPop\\\\eye tracking\\\\190516\\\\'],\n",
    "       ['E:\\\\Imaging2AFCPop\\\\eye tracking\\\\230516\\\\']] #Enter a folder OR a list of videos to analyze.\n",
    "\n",
    "\n",
    "video_paths = [['E:\\\\Imaging2AFCPop\\\\eye tracking\\\\110516\\\\']]\n",
    "#save_as_csv arg makes it easier to read into matlab. otherwise use pandas to read h5 file\n",
    "for ind in range(0,len(video_paths)):\n",
    "    deeplabcut.analyze_videos(path_config_file,video_paths[ind], videotype='.avi',save_as_csv=True)\n"
   ]
  },
  {
   "cell_type": "code",
   "execution_count": null,
   "metadata": {},
   "outputs": [
    {
     "name": "stdout",
     "output_type": "stream",
     "text": [
      "Analyzing all the videos in the directory...\n"
     ]
    }
   ],
   "source": [
    "for ind in range(0,len(video_paths)):\n",
    "    deeplabcut.create_labeled_video(path_config_file,video_paths[ind])"
   ]
  },
  {
   "cell_type": "markdown",
   "metadata": {
    "colab_type": "text",
    "id": "iGu_PdTWoEJr"
   },
   "source": [
    "## Extract outlier frames [optional step]\n",
    "\n",
    "This is an optional step and is used only when the evaluation results are poor i.e. the labels are incorrectly predicted. In such a case, the user can use the following function to extract frames where the labels are incorrectly predicted. This step has many options, so please look at:"
   ]
  },
  {
   "cell_type": "code",
   "execution_count": 18,
   "metadata": {},
   "outputs": [],
   "source": [
    "deeplabcut.analyze_videos?"
   ]
  },
  {
   "cell_type": "code",
   "execution_count": null,
   "metadata": {
    "colab": {},
    "colab_type": "code",
    "id": "gkbaBOJVoEJs"
   },
   "outputs": [],
   "source": [
    "deeplabcut.extract_outlier_frames(path_config_file,['/videos/video3.avi']) #pass a specific video"
   ]
  },
  {
   "cell_type": "markdown",
   "metadata": {
    "colab_type": "text",
    "id": "8ib0uvhaoEJx"
   },
   "source": [
    "## Refine Labels [optional step]\n",
    "Following the extraction of outlier frames, the user can use the following function to move the predicted labels to the correct location. Thus augmenting the training dataset. "
   ]
  },
  {
   "cell_type": "code",
   "execution_count": null,
   "metadata": {
    "colab": {},
    "colab_type": "code",
    "id": "n_FpEXtyoEJy"
   },
   "outputs": [],
   "source": [
    "%gui wx\n",
    "deeplabcut.refine_labels(path_config_file)"
   ]
  },
  {
   "cell_type": "markdown",
   "metadata": {},
   "source": [
    "**NOTE:** Afterwards, if you want to look at the adjusted frames, you can load them in the main GUI by running: ``deeplabcut.label_frames(path_config_file)``\n",
    "\n",
    "(you can add a new \"cell\" below to add this code!)\n",
    "\n",
    "#### Once all folders are relabeled, check the labels again! If you are not happy, adjust them in the main GUI:\n",
    "\n",
    "``deeplabcut.label_frames(path_config_file)``\n",
    "\n",
    "Check Labels:\n",
    "\n",
    "``deeplabcut.check_labels(path_config_file)``"
   ]
  },
  {
   "cell_type": "code",
   "execution_count": null,
   "metadata": {
    "colab": {},
    "colab_type": "code",
    "id": "CHzstWr8oEJ2"
   },
   "outputs": [],
   "source": [
    "#NOW, merge this with your original data:\n",
    "\n",
    "deeplabcut.merge_datasets(path_config_file)"
   ]
  },
  {
   "cell_type": "markdown",
   "metadata": {
    "colab_type": "text",
    "id": "QCHj7qyboEJ6"
   },
   "source": [
    "## Create a new iteration of training dataset [optional step]\n",
    "Following the refinement of labels and appending them to the original dataset, this creates a new iteration of training dataset. This is automatically set in the config.yaml file, so let's get training!"
   ]
  },
  {
   "cell_type": "code",
   "execution_count": null,
   "metadata": {
    "colab": {},
    "colab_type": "code",
    "id": "ytQoxIldoEJ7"
   },
   "outputs": [],
   "source": [
    "deeplabcut.create_training_dataset(path_config_file)"
   ]
  },
  {
   "cell_type": "markdown",
   "metadata": {
    "colab_type": "text",
    "id": "pCrUvQIvoEKD"
   },
   "source": [
    "## Create labeled video\n",
    "This funtion is for visualiztion purpose and can be used to create a video in .mp4 format with labels predicted by the network. This video is saved in the same directory where the original video resides. \n",
    "\n",
    "THIS HAS MANY FUN OPTIONS! \n",
    "\n",
    "``deeplabcut.create_labeled_video(config, videos, videotype='avi', shuffle=1, trainingsetindex=0, filtered=False, save_frames=False, Frames2plot=None, delete=False, displayedbodyparts='all', codec='mp4v', outputframerate=None, destfolder=None, draw_skeleton=False, trailpoints=0, displaycropped=False)``\n",
    "\n",
    "So please check:"
   ]
  },
  {
   "cell_type": "code",
   "execution_count": 13,
   "metadata": {},
   "outputs": [],
   "source": [
    "deeplabcut.create_labeled_video?"
   ]
  },
  {
   "cell_type": "code",
   "execution_count": 16,
   "metadata": {
    "colab": {},
    "colab_type": "code",
    "id": "6aDF7Q7KoEKE"
   },
   "outputs": [
    {
     "name": "stdout",
     "output_type": "stream",
     "text": [
      "Analyzing all the videos in the directory...\n"
     ]
    }
   ],
   "source": [
    "deeplabcut.create_labeled_video(path_config_file,videofile_path)"
   ]
  },
  {
   "cell_type": "markdown",
   "metadata": {
    "colab_type": "text",
    "id": "8GTiuJESoEKH"
   },
   "source": [
    "## Plot the trajectories of the analyzed videos\n",
    "This function plots the trajectories of all the body parts across the entire video. Each body part is identified by a unique color."
   ]
  },
  {
   "cell_type": "code",
   "execution_count": null,
   "metadata": {
    "colab": {},
    "colab_type": "code",
    "id": "gX21zZbXoEKJ"
   },
   "outputs": [],
   "source": [
    "%matplotlib notebook #for making interactive plots.\n",
    "deeplabcut.plot_trajectories(path_config_file,videofile_path)"
   ]
  }
 ],
 "metadata": {
  "accelerator": "GPU",
  "colab": {
   "name": "Demo-yourowndata.ipynb",
   "provenance": [],
   "version": "0.3.2"
  },
  "kernelspec": {
   "display_name": "Python [conda env:DLC-GPU]",
   "language": "python",
   "name": "conda-env-DLC-GPU-py"
  },
  "language_info": {
   "codemirror_mode": {
    "name": "ipython",
    "version": 3
   },
   "file_extension": ".py",
   "mimetype": "text/x-python",
   "name": "python",
   "nbconvert_exporter": "python",
   "pygments_lexer": "ipython3",
   "version": "3.7.9"
  },
  "varInspector": {
   "cols": {
    "lenName": 16,
    "lenType": 16,
    "lenVar": 40
   },
   "kernels_config": {
    "python": {
     "delete_cmd_postfix": "",
     "delete_cmd_prefix": "del ",
     "library": "var_list.py",
     "varRefreshCmd": "print(var_dic_list())"
    },
    "r": {
     "delete_cmd_postfix": ") ",
     "delete_cmd_prefix": "rm(",
     "library": "var_list.r",
     "varRefreshCmd": "cat(var_dic_list()) "
    }
   },
   "types_to_exclude": [
    "module",
    "function",
    "builtin_function_or_method",
    "instance",
    "_Feature"
   ],
   "window_display": false
  }
 },
 "nbformat": 4,
 "nbformat_minor": 1
}
